{
 "cells": [
  {
   "cell_type": "markdown",
   "metadata": {},
   "source": [
    "# Timing Experiment"
   ]
  },
  {
   "cell_type": "code",
   "execution_count": 1,
   "metadata": {},
   "outputs": [],
   "source": [
    "import numpy as np\n",
    "import pandas as pd\n",
    "import seaborn as sns\n",
    "import matplotlib.colors as mcolors\n",
    "import matplotlib.pyplot as plt\n",
    "import warnings\n",
    "import wiggum as wg\n",
    "import sp_data_util as sp_dat\n",
    "import time"
   ]
  },
  {
   "cell_type": "markdown",
   "metadata": {},
   "source": [
    "We will draw samples from a number of clusters according to a Gaussian Mixture Model and add both continuous and categorical noise values.  \n",
    "\n",
    "First we have to set up the number of clusters, samples and extra values. \n"
   ]
  },
  {
   "cell_type": "code",
   "execution_count": 2,
   "metadata": {},
   "outputs": [],
   "source": [
    "# set the data size\n",
    "N = int(10**5)\n",
    "# and 5 extra continuous attributes and 5 extra categorical attributes\n",
    "num_clusters = 32\n",
    "numExtra = 5"
   ]
  },
  {
   "cell_type": "markdown",
   "metadata": {},
   "source": [
    "First, we generate cluseters that are roughly distributed with a positive Trend that will help us ensure that SP occurs throughout the dataset"
   ]
  },
  {
   "cell_type": "code",
   "execution_count": 3,
   "metadata": {},
   "outputs": [
    {
     "data": {
      "image/png": "[encoded data removed]",
      "text/plain": [
       "<Figure size 432x288 with 1 Axes>"
      ]
     },
     "metadata": {},
     "output_type": "display_data"
    }
   ],
   "source": [
    "mu = np.asarray([[1,1],[5,5]])\n",
    "\n",
    "variance = 1000\n",
    "\n",
    "# generate rest of the mu\n",
    "for i in range(num_clusters - 2):\n",
    "    mu_x = np.random.randint(10, 99);\n",
    "    mu_y = np.random.normal(mu_x, np.sqrt(variance))\n",
    "    mu_new = np.asarray([mu_x,mu_y])\n",
    "    mu = np.append(mu,[mu_new],axis=0)\n",
    "\n",
    "plt.scatter(mu[:,0],mu[:,1])\n",
    "plt.show()"
   ]
  },
  {
   "cell_type": "markdown",
   "metadata": {},
   "source": [
    "Next we use a built in function to our package that takes a list of means and a covariance "
   ]
  },
  {
   "cell_type": "code",
   "execution_count": 4,
   "metadata": {},
   "outputs": [
    {
     "name": "stderr",
     "output_type": "stream",
     "text": [
      "/home/smb/anaconda2/envs/simpsonsparadox/lib/python3.6/site-packages/sp_data_util/SPData.py:134: RuntimeWarning: covariance is not positive-semidefinite.\n",
      "  x = np.asarray([np.random.multivariate_normal(mu[z_i],cov) for z_i in z])\n"
     ]
    }
   ],
   "source": [
    "# covariance of each cluster\n",
    "cov = [[.6,-1],[0,.6]]\n",
    "\n",
    "# call mixed_regression_sp to generate the data set\n",
    "latent_df = sp_dat.mixed_regression_sp_extra(N,mu,cov, numExtra)\n",
    "    "
   ]
  },
  {
   "cell_type": "code",
   "execution_count": 5,
   "metadata": {},
   "outputs": [
    {
     "data": {
      "text/plain": [
       "array([3, 3, 3, 2, 2, 2, 4, 0, 1, 2, 1, 3, 0, 3, 4, 3, 4, 0, 3, 4])"
      ]
     },
     "execution_count": 5,
     "metadata": {},
     "output_type": "execute_result"
    }
   ],
   "source": [
    "np.random.choice(range(5),20,)"
   ]
  },
  {
   "cell_type": "code",
   "execution_count": 6,
   "metadata": {},
   "outputs": [
    {
     "data": {
      "text/plain": [
       "0    26\n",
       "1    27\n",
       "2     0\n",
       "3     8\n",
       "4     8\n",
       "Name: cluster, dtype: int64"
      ]
     },
     "execution_count": 6,
     "metadata": {},
     "output_type": "execute_result"
    }
   ],
   "source": [
    "latent_df['cluster'].head()"
   ]
  },
  {
   "cell_type": "code",
   "execution_count": 7,
   "metadata": {},
   "outputs": [
    {
     "data": {
      "image/png": "[encoded data removed]",
      "text/plain": [
       "<Figure size 432x288 with 1 Axes>"
      ]
     },
     "metadata": {},
     "output_type": "display_data"
    }
   ],
   "source": [
    "plt.scatter(latent_df['x1'], latent_df['x2'],\n",
    "            c =  latent_df['cluster'], marker= 'o')\n",
    "plt.show()"
   ]
  },
  {
   "cell_type": "code",
   "execution_count": 8,
   "metadata": {},
   "outputs": [
    {
     "data": {
      "text/plain": [
       "(100000, 13)"
      ]
     },
     "execution_count": 8,
     "metadata": {},
     "output_type": "execute_result"
    }
   ],
   "source": [
    "# check the size of the data\n",
    "latent_df.shape"
   ]
  },
  {
   "cell_type": "markdown",
   "metadata": {},
   "source": [
    "Since we store the data in a pandas dataframe, we can easily sample a subset of the rows and we can check how that works:"
   ]
  },
  {
   "cell_type": "code",
   "execution_count": 9,
   "metadata": {},
   "outputs": [
    {
     "name": "stdout",
     "output_type": "stream",
     "text": [
      "10000\n"
     ]
    },
    {
     "data": {
      "text/html": [
       "<div>\n",
       "<style scoped>\n",
       "    .dataframe tbody tr th:only-of-type {\n",
       "        vertical-align: middle;\n",
       "    }\n",
       "\n",
       "    .dataframe tbody tr th {\n",
       "        vertical-align: top;\n",
       "    }\n",
       "\n",
       "    .dataframe thead th {\n",
       "        text-align: right;\n",
       "    }\n",
       "</style>\n",
       "<table border=\"1\" class=\"dataframe\">\n",
       "  <thead>\n",
       "    <tr style=\"text-align: right;\">\n",
       "      <th></th>\n",
       "      <th>x1</th>\n",
       "      <th>x2</th>\n",
       "      <th>cluster</th>\n",
       "      <th>con_0</th>\n",
       "      <th>con_1</th>\n",
       "      <th>con_2</th>\n",
       "      <th>con_3</th>\n",
       "      <th>con_4</th>\n",
       "      <th>cat_0</th>\n",
       "      <th>cat_1</th>\n",
       "      <th>cat_2</th>\n",
       "      <th>cat_3</th>\n",
       "      <th>cat_4</th>\n",
       "    </tr>\n",
       "  </thead>\n",
       "  <tbody>\n",
       "    <tr>\n",
       "      <th>47787</th>\n",
       "      <td>40.285355</td>\n",
       "      <td>8.279074</td>\n",
       "      <td>4</td>\n",
       "      <td>42.821083</td>\n",
       "      <td>-5.945982</td>\n",
       "      <td>9.116584</td>\n",
       "      <td>47.626833</td>\n",
       "      <td>-7.233663</td>\n",
       "      <td>70</td>\n",
       "      <td>54</td>\n",
       "      <td>27</td>\n",
       "      <td>91</td>\n",
       "      <td>96</td>\n",
       "    </tr>\n",
       "    <tr>\n",
       "      <th>97210</th>\n",
       "      <td>34.170575</td>\n",
       "      <td>4.504379</td>\n",
       "      <td>29</td>\n",
       "      <td>-17.100323</td>\n",
       "      <td>-29.930051</td>\n",
       "      <td>-157.993357</td>\n",
       "      <td>26.581181</td>\n",
       "      <td>74.024540</td>\n",
       "      <td>72</td>\n",
       "      <td>64</td>\n",
       "      <td>23</td>\n",
       "      <td>13</td>\n",
       "      <td>60</td>\n",
       "    </tr>\n",
       "    <tr>\n",
       "      <th>42521</th>\n",
       "      <td>19.381192</td>\n",
       "      <td>-21.545576</td>\n",
       "      <td>28</td>\n",
       "      <td>-168.137523</td>\n",
       "      <td>-76.675448</td>\n",
       "      <td>146.536801</td>\n",
       "      <td>168.084883</td>\n",
       "      <td>178.468823</td>\n",
       "      <td>92</td>\n",
       "      <td>16</td>\n",
       "      <td>66</td>\n",
       "      <td>89</td>\n",
       "      <td>76</td>\n",
       "    </tr>\n",
       "    <tr>\n",
       "      <th>96452</th>\n",
       "      <td>51.975142</td>\n",
       "      <td>61.556268</td>\n",
       "      <td>11</td>\n",
       "      <td>35.396721</td>\n",
       "      <td>109.826010</td>\n",
       "      <td>98.528868</td>\n",
       "      <td>-37.957128</td>\n",
       "      <td>-179.428724</td>\n",
       "      <td>58</td>\n",
       "      <td>4</td>\n",
       "      <td>70</td>\n",
       "      <td>54</td>\n",
       "      <td>71</td>\n",
       "    </tr>\n",
       "    <tr>\n",
       "      <th>47115</th>\n",
       "      <td>42.532394</td>\n",
       "      <td>40.353842</td>\n",
       "      <td>6</td>\n",
       "      <td>91.515160</td>\n",
       "      <td>99.488643</td>\n",
       "      <td>-24.809279</td>\n",
       "      <td>-95.285213</td>\n",
       "      <td>145.379252</td>\n",
       "      <td>52</td>\n",
       "      <td>95</td>\n",
       "      <td>82</td>\n",
       "      <td>75</td>\n",
       "      <td>79</td>\n",
       "    </tr>\n",
       "  </tbody>\n",
       "</table>\n",
       "</div>"
      ],
      "text/plain": [
       "              x1         x2  cluster       con_0       con_1       con_2  \\\n",
       "47787  40.285355   8.279074        4   42.821083   -5.945982    9.116584   \n",
       "97210  34.170575   4.504379       29  -17.100323  -29.930051 -157.993357   \n",
       "42521  19.381192 -21.545576       28 -168.137523  -76.675448  146.536801   \n",
       "96452  51.975142  61.556268       11   35.396721  109.826010   98.528868   \n",
       "47115  42.532394  40.353842        6   91.515160   99.488643  -24.809279   \n",
       "\n",
       "            con_3       con_4  cat_0  cat_1  cat_2  cat_3  cat_4  \n",
       "47787   47.626833   -7.233663     70     54     27     91     96  \n",
       "97210   26.581181   74.024540     72     64     23     13     60  \n",
       "42521  168.084883  178.468823     92     16     66     89     76  \n",
       "96452  -37.957128 -179.428724     58      4     70     54     71  \n",
       "47115  -95.285213  145.379252     52     95     82     75     79  "
      ]
     },
     "execution_count": 9,
     "metadata": {},
     "output_type": "execute_result"
    }
   ],
   "source": [
    "subset_df = latent_df.sample(frac=.1) \n",
    "print(len(subset_df))\n",
    "subset_df.head()"
   ]
  },
  {
   "cell_type": "markdown",
   "metadata": {},
   "source": [
    "Now, we can do the Time experiment for the whole dataset and the sampled dataset."
   ]
  },
  {
   "cell_type": "code",
   "execution_count": 10,
   "metadata": {},
   "outputs": [],
   "source": [
    "# whole data set\n",
    "data_portions = np.linspace(.1,1,10)\n",
    "\n",
    "time_data = []\n",
    "\n",
    "for cur_portion in data_portions:\n",
    "    start_time = time.time()\n",
    "    wg.detect_simpsons_paradox(latent_df.sample(frac=cur_portion))\n",
    "    time_data.append([cur_portion, (time.time() - start_time)])"
   ]
  },
  {
   "cell_type": "code",
   "execution_count": 11,
   "metadata": {},
   "outputs": [
    {
     "data": {
      "text/html": [
       "<div>\n",
       "<style scoped>\n",
       "    .dataframe tbody tr th:only-of-type {\n",
       "        vertical-align: middle;\n",
       "    }\n",
       "\n",
       "    .dataframe tbody tr th {\n",
       "        vertical-align: top;\n",
       "    }\n",
       "\n",
       "    .dataframe thead th {\n",
       "        text-align: right;\n",
       "    }\n",
       "</style>\n",
       "<table border=\"1\" class=\"dataframe\">\n",
       "  <thead>\n",
       "    <tr style=\"text-align: right;\">\n",
       "      <th></th>\n",
       "      <th>portion of data</th>\n",
       "      <th>time</th>\n",
       "    </tr>\n",
       "  </thead>\n",
       "  <tbody>\n",
       "    <tr>\n",
       "      <th>0</th>\n",
       "      <td>0.1</td>\n",
       "      <td>3.679361</td>\n",
       "    </tr>\n",
       "    <tr>\n",
       "      <th>1</th>\n",
       "      <td>0.2</td>\n",
       "      <td>3.910151</td>\n",
       "    </tr>\n",
       "    <tr>\n",
       "      <th>2</th>\n",
       "      <td>0.3</td>\n",
       "      <td>3.797533</td>\n",
       "    </tr>\n",
       "    <tr>\n",
       "      <th>3</th>\n",
       "      <td>0.4</td>\n",
       "      <td>4.676100</td>\n",
       "    </tr>\n",
       "    <tr>\n",
       "      <th>4</th>\n",
       "      <td>0.5</td>\n",
       "      <td>3.796321</td>\n",
       "    </tr>\n",
       "    <tr>\n",
       "      <th>5</th>\n",
       "      <td>0.6</td>\n",
       "      <td>4.221745</td>\n",
       "    </tr>\n",
       "    <tr>\n",
       "      <th>6</th>\n",
       "      <td>0.7</td>\n",
       "      <td>4.523880</td>\n",
       "    </tr>\n",
       "    <tr>\n",
       "      <th>7</th>\n",
       "      <td>0.8</td>\n",
       "      <td>4.056846</td>\n",
       "    </tr>\n",
       "    <tr>\n",
       "      <th>8</th>\n",
       "      <td>0.9</td>\n",
       "      <td>5.073282</td>\n",
       "    </tr>\n",
       "    <tr>\n",
       "      <th>9</th>\n",
       "      <td>1.0</td>\n",
       "      <td>5.017606</td>\n",
       "    </tr>\n",
       "  </tbody>\n",
       "</table>\n",
       "</div>"
      ],
      "text/plain": [
       "   portion of data      time\n",
       "0              0.1  3.679361\n",
       "1              0.2  3.910151\n",
       "2              0.3  3.797533\n",
       "3              0.4  4.676100\n",
       "4              0.5  3.796321\n",
       "5              0.6  4.221745\n",
       "6              0.7  4.523880\n",
       "7              0.8  4.056846\n",
       "8              0.9  5.073282\n",
       "9              1.0  5.017606"
      ]
     },
     "execution_count": 11,
     "metadata": {},
     "output_type": "execute_result"
    }
   ],
   "source": [
    "time_res = pd.DataFrame(data = time_data, columns =['portion of data','time'])\n",
    "time_res # show the results"
   ]
  },
  {
   "cell_type": "markdown",
   "metadata": {},
   "source": [
    "Computing it just once, is not the most indicative, so we can repeat the experiment and then compute statistics on that.  We repeat it 4 more times to get a total of 5"
   ]
  },
  {
   "cell_type": "code",
   "execution_count": 12,
   "metadata": {},
   "outputs": [],
   "source": [
    "num_repeats = 4\n",
    "\n",
    "for cur_portion in np.repeat(data_portions,num_repeats):\n",
    "    start_time = time.time()\n",
    "    wg.detect_simpsons_paradox(latent_df.sample(frac=cur_portion))\n",
    "    time_data.append([cur_portion, (time.time() - start_time)])"
   ]
  },
  {
   "cell_type": "code",
   "execution_count": 13,
   "metadata": {},
   "outputs": [
    {
     "data": {
      "text/plain": [
       "50"
      ]
     },
     "execution_count": 13,
     "metadata": {},
     "output_type": "execute_result"
    }
   ],
   "source": [
    "time_res = pd.DataFrame(data = time_data, columns =['portion','time'])\n",
    "len(time_res)"
   ]
  },
  {
   "cell_type": "markdown",
   "metadata": {},
   "source": [
    "Now we have 50 rows in our result table and we can compute the statistics that we want.  We want to first, group the data by the portion of the data so that we can compute the mean and variance of all of the trials of each portion. "
   ]
  },
  {
   "cell_type": "code",
   "execution_count": 14,
   "metadata": {},
   "outputs": [
    {
     "data": {
      "text/html": [
       "<div>\n",
       "<style scoped>\n",
       "    .dataframe tbody tr th:only-of-type {\n",
       "        vertical-align: middle;\n",
       "    }\n",
       "\n",
       "    .dataframe tbody tr th {\n",
       "        vertical-align: top;\n",
       "    }\n",
       "\n",
       "    .dataframe thead tr th {\n",
       "        text-align: left;\n",
       "    }\n",
       "\n",
       "    .dataframe thead tr:last-of-type th {\n",
       "        text-align: right;\n",
       "    }\n",
       "</style>\n",
       "<table border=\"1\" class=\"dataframe\">\n",
       "  <thead>\n",
       "    <tr>\n",
       "      <th></th>\n",
       "      <th colspan=\"8\" halign=\"left\">time</th>\n",
       "    </tr>\n",
       "    <tr>\n",
       "      <th></th>\n",
       "      <th>count</th>\n",
       "      <th>mean</th>\n",
       "      <th>std</th>\n",
       "      <th>min</th>\n",
       "      <th>25%</th>\n",
       "      <th>50%</th>\n",
       "      <th>75%</th>\n",
       "      <th>max</th>\n",
       "    </tr>\n",
       "    <tr>\n",
       "      <th>portion</th>\n",
       "      <th></th>\n",
       "      <th></th>\n",
       "      <th></th>\n",
       "      <th></th>\n",
       "      <th></th>\n",
       "      <th></th>\n",
       "      <th></th>\n",
       "      <th></th>\n",
       "    </tr>\n",
       "  </thead>\n",
       "  <tbody>\n",
       "    <tr>\n",
       "      <th>0.1</th>\n",
       "      <td>5.0</td>\n",
       "      <td>4.446497</td>\n",
       "      <td>0.826705</td>\n",
       "      <td>3.679361</td>\n",
       "      <td>3.812636</td>\n",
       "      <td>4.061862</td>\n",
       "      <td>5.313767</td>\n",
       "      <td>5.364857</td>\n",
       "    </tr>\n",
       "    <tr>\n",
       "      <th>0.2</th>\n",
       "      <td>5.0</td>\n",
       "      <td>4.256970</td>\n",
       "      <td>0.259700</td>\n",
       "      <td>3.910151</td>\n",
       "      <td>4.060727</td>\n",
       "      <td>4.379942</td>\n",
       "      <td>4.405277</td>\n",
       "      <td>4.528751</td>\n",
       "    </tr>\n",
       "    <tr>\n",
       "      <th>0.3</th>\n",
       "      <td>5.0</td>\n",
       "      <td>4.704718</td>\n",
       "      <td>0.929317</td>\n",
       "      <td>3.797533</td>\n",
       "      <td>4.171579</td>\n",
       "      <td>4.323587</td>\n",
       "      <td>5.094294</td>\n",
       "      <td>6.136595</td>\n",
       "    </tr>\n",
       "    <tr>\n",
       "      <th>0.4</th>\n",
       "      <td>5.0</td>\n",
       "      <td>3.936846</td>\n",
       "      <td>0.418850</td>\n",
       "      <td>3.666440</td>\n",
       "      <td>3.735602</td>\n",
       "      <td>3.749104</td>\n",
       "      <td>3.856985</td>\n",
       "      <td>4.676100</td>\n",
       "    </tr>\n",
       "    <tr>\n",
       "      <th>0.5</th>\n",
       "      <td>5.0</td>\n",
       "      <td>4.456102</td>\n",
       "      <td>0.752906</td>\n",
       "      <td>3.796321</td>\n",
       "      <td>4.026359</td>\n",
       "      <td>4.129114</td>\n",
       "      <td>4.646039</td>\n",
       "      <td>5.682674</td>\n",
       "    </tr>\n",
       "    <tr>\n",
       "      <th>0.6</th>\n",
       "      <td>5.0</td>\n",
       "      <td>4.540301</td>\n",
       "      <td>0.607244</td>\n",
       "      <td>4.137453</td>\n",
       "      <td>4.173215</td>\n",
       "      <td>4.221745</td>\n",
       "      <td>4.592580</td>\n",
       "      <td>5.576510</td>\n",
       "    </tr>\n",
       "    <tr>\n",
       "      <th>0.7</th>\n",
       "      <td>5.0</td>\n",
       "      <td>4.545214</td>\n",
       "      <td>0.508978</td>\n",
       "      <td>4.006332</td>\n",
       "      <td>4.097922</td>\n",
       "      <td>4.523880</td>\n",
       "      <td>4.911530</td>\n",
       "      <td>5.186406</td>\n",
       "    </tr>\n",
       "    <tr>\n",
       "      <th>0.8</th>\n",
       "      <td>5.0</td>\n",
       "      <td>4.289220</td>\n",
       "      <td>0.594578</td>\n",
       "      <td>3.791577</td>\n",
       "      <td>3.839077</td>\n",
       "      <td>4.056846</td>\n",
       "      <td>4.552631</td>\n",
       "      <td>5.205971</td>\n",
       "    </tr>\n",
       "    <tr>\n",
       "      <th>0.9</th>\n",
       "      <td>5.0</td>\n",
       "      <td>4.318349</td>\n",
       "      <td>0.453169</td>\n",
       "      <td>3.968818</td>\n",
       "      <td>4.045736</td>\n",
       "      <td>4.099937</td>\n",
       "      <td>4.403975</td>\n",
       "      <td>5.073282</td>\n",
       "    </tr>\n",
       "    <tr>\n",
       "      <th>1.0</th>\n",
       "      <td>5.0</td>\n",
       "      <td>4.496278</td>\n",
       "      <td>0.573671</td>\n",
       "      <td>3.903625</td>\n",
       "      <td>3.998321</td>\n",
       "      <td>4.404508</td>\n",
       "      <td>5.017606</td>\n",
       "      <td>5.157329</td>\n",
       "    </tr>\n",
       "  </tbody>\n",
       "</table>\n",
       "</div>"
      ],
      "text/plain": [
       "         time                                                              \\\n",
       "        count      mean       std       min       25%       50%       75%   \n",
       "portion                                                                     \n",
       "0.1       5.0  4.446497  0.826705  3.679361  3.812636  4.061862  5.313767   \n",
       "0.2       5.0  4.256970  0.259700  3.910151  4.060727  4.379942  4.405277   \n",
       "0.3       5.0  4.704718  0.929317  3.797533  4.171579  4.323587  5.094294   \n",
       "0.4       5.0  3.936846  0.418850  3.666440  3.735602  3.749104  3.856985   \n",
       "0.5       5.0  4.456102  0.752906  3.796321  4.026359  4.129114  4.646039   \n",
       "0.6       5.0  4.540301  0.607244  4.137453  4.173215  4.221745  4.592580   \n",
       "0.7       5.0  4.545214  0.508978  4.006332  4.097922  4.523880  4.911530   \n",
       "0.8       5.0  4.289220  0.594578  3.791577  3.839077  4.056846  4.552631   \n",
       "0.9       5.0  4.318349  0.453169  3.968818  4.045736  4.099937  4.403975   \n",
       "1.0       5.0  4.496278  0.573671  3.903625  3.998321  4.404508  5.017606   \n",
       "\n",
       "                   \n",
       "              max  \n",
       "portion            \n",
       "0.1      5.364857  \n",
       "0.2      4.528751  \n",
       "0.3      6.136595  \n",
       "0.4      4.676100  \n",
       "0.5      5.682674  \n",
       "0.6      5.576510  \n",
       "0.7      5.186406  \n",
       "0.8      5.205971  \n",
       "0.9      5.073282  \n",
       "1.0      5.157329  "
      ]
     },
     "execution_count": 14,
     "metadata": {},
     "output_type": "execute_result"
    }
   ],
   "source": [
    "time_repeats = time_res.groupby('portion')\n",
    "time_repeats.describe()"
   ]
  },
  {
   "cell_type": "markdown",
   "metadata": {},
   "source": [
    "We can plot the means to see if there's a clear Trend"
   ]
  },
  {
   "cell_type": "code",
   "execution_count": 15,
   "metadata": {},
   "outputs": [
    {
     "data": {
      "text/plain": [
       "<matplotlib.axes._subplots.AxesSubplot at 0x7fe04763efd0>"
      ]
     },
     "execution_count": 15,
     "metadata": {},
     "output_type": "execute_result"
    },
    {
     "data": {
      "image/png": "[encoded data removed]",
      "text/plain": [
       "<Figure size 432x288 with 1 Axes>"
      ]
     },
     "metadata": {},
     "output_type": "display_data"
    }
   ],
   "source": [
    "time_repeats.mean().plot()"
   ]
  },
  {
   "cell_type": "code",
   "execution_count": null,
   "metadata": {},
   "outputs": [],
   "source": []
  }
 ],
 "metadata": {
  "kernelspec": {
   "display_name": "Python 3",
   "language": "python",
   "name": "python3"
  },
  "language_info": {
   "codemirror_mode": {
    "name": "ipython",
    "version": 3
   },
   "file_extension": ".py",
   "mimetype": "text/x-python",
   "name": "python",
   "nbconvert_exporter": "python",
   "pygments_lexer": "ipython3",
   "version": "3.6.4"
  }
 },
 "nbformat": 4,
 "nbformat_minor": 2
}
