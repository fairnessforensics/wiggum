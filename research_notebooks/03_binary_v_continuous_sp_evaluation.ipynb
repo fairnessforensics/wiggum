{
 "cells": [
  {
   "cell_type": "markdown",
   "metadata": {},
   "source": [
    "# Advantage of relaxed SP definition\n",
    "\n",
    "In this experiment, for a synthetic data set with a subset of designed SP and a number of spurrious (and very weak) SP occurences, we will show that our framework for a relaxed definition allows us to differentiate between the two groups of occurences"
   ]
  },
  {
   "cell_type": "code",
   "execution_count": 1,
   "metadata": {},
   "outputs": [],
   "source": [
    "import pandas as pd\n",
    "import wiggum as wg\n",
    "import numpy as np\n",
    "import string\n",
    "import random"
   ]
  },
  {
   "cell_type": "markdown",
   "metadata": {},
   "source": [
    "For our evaluations, we will need a few different types of Trend objects. The package provides dictionaries of default Trend lists for ease of use of default settings"
   ]
  },
  {
   "cell_type": "code",
   "execution_count": 2,
   "metadata": {},
   "outputs": [
    {
     "data": {
      "text/plain": [
       "{'binary_rank': detect_simpsons_paradox.Trends.BinaryMeanRankTrend,\n",
       " 'binary_sign': detect_simpsons_paradox.Trends.BinaryPearsonTrend}"
      ]
     },
     "execution_count": 2,
     "metadata": {},
     "output_type": "execute_result"
    }
   ],
   "source": [
    "wg.default_binary_Trends"
   ]
  },
  {
   "cell_type": "code",
   "execution_count": 3,
   "metadata": {},
   "outputs": [
    {
     "data": {
      "text/plain": [
       "{'lin_reg': detect_simpsons_paradox.Trends.LinearTrend,\n",
       " 'rank_Trend': detect_simpsons_paradox.Trends.MeanRankTrend}"
      ]
     },
     "execution_count": 3,
     "metadata": {},
     "output_type": "execute_result"
    }
   ],
   "source": [
    "wg.default_distance_Trends"
   ]
  },
  {
   "cell_type": "code",
   "execution_count": 4,
   "metadata": {},
   "outputs": [
    {
     "data": {
      "text/plain": [
       "[<detect_simpsons_paradox.Trends.BinaryMeanRankTrend at 0x7f9597bf4f60>,\n",
       " <detect_simpsons_paradox.Trends.BinaryPearsonTrend at 0x7f9597bf4f98>]"
      ]
     },
     "execution_count": 4,
     "metadata": {},
     "output_type": "execute_result"
    }
   ],
   "source": [
    "# make a list of initialized objects from each\n",
    "binary_Trend_objs = [Trend() for Trend in wg.default_binary_Trends.values()]\n",
    "distance_Trend_objs = [Trend() for Trend in wg.default_distance_Trends.values()]\n",
    "# print one to see that it's a list of initialized objects\n",
    "binary_Trend_objs"
   ]
  },
  {
   "cell_type": "markdown",
   "metadata": {},
   "source": [
    "## Regression SP"
   ]
  },
  {
   "cell_type": "markdown",
   "metadata": {},
   "source": [
    "First, we load a dataset as a LabeledDataFrame object that has a number of continuous type regressions.  We will load it twice, one for the detection only case and one for the case with a continuous-valued distance. "
   ]
  },
  {
   "cell_type": "code",
   "execution_count": 5,
   "metadata": {},
   "outputs": [],
   "source": [
    "# file = '../data/synthetic_continuous16'\n",
    "file = '../data/synthetic_continuous_bin_compare3'\n",
    "# labeled_df_bin = wg.LabeledDataFrame(file)\n",
    "# labeled_df_dist = wg.LabeledDataFrame(file)\n",
    "\n",
    "labeled_df = wg.LabeledDataFrame(file)"
   ]
  },
  {
   "cell_type": "markdown",
   "metadata": {},
   "source": [
    "Next we compute the Trends using only the binary types and view a sample of 10 random Trends"
   ]
  },
  {
   "cell_type": "code",
   "execution_count": 6,
   "metadata": {},
   "outputs": [
    {
     "data": {
      "text/html": [
       "<div>\n",
       "<style scoped>\n",
       "    .dataframe tbody tr th:only-of-type {\n",
       "        vertical-align: middle;\n",
       "    }\n",
       "\n",
       "    .dataframe tbody tr th {\n",
       "        vertical-align: top;\n",
       "    }\n",
       "\n",
       "    .dataframe thead th {\n",
       "        text-align: right;\n",
       "    }\n",
       "</style>\n",
       "<table border=\"1\" class=\"dataframe\">\n",
       "  <thead>\n",
       "    <tr style=\"text-align: right;\">\n",
       "      <th></th>\n",
       "      <th>feat1</th>\n",
       "      <th>feat2</th>\n",
       "      <th>group_feat</th>\n",
       "      <th>subgroup</th>\n",
       "      <th>subgroup_Trend</th>\n",
       "      <th>subgroup_Trend_quality</th>\n",
       "      <th>Trend_type</th>\n",
       "      <th>agg_Trend</th>\n",
       "      <th>agg_Trend_quality</th>\n",
       "    </tr>\n",
       "  </thead>\n",
       "  <tbody>\n",
       "    <tr>\n",
       "      <th>59</th>\n",
       "      <td>x1</td>\n",
       "      <td>x3</td>\n",
       "      <td>H</td>\n",
       "      <td>H0</td>\n",
       "      <td>positive</td>\n",
       "      <td>0.282511</td>\n",
       "      <td>binary_sign</td>\n",
       "      <td>positive</td>\n",
       "      <td>0.070384</td>\n",
       "    </tr>\n",
       "    <tr>\n",
       "      <th>2144</th>\n",
       "      <td>x6</td>\n",
       "      <td>x9</td>\n",
       "      <td>A</td>\n",
       "      <td>A0</td>\n",
       "      <td>negative</td>\n",
       "      <td>0.028977</td>\n",
       "      <td>binary_sign</td>\n",
       "      <td>positive</td>\n",
       "      <td>0.014615</td>\n",
       "    </tr>\n",
       "    <tr>\n",
       "      <th>3257</th>\n",
       "      <td>x10</td>\n",
       "      <td>x13</td>\n",
       "      <td>G</td>\n",
       "      <td>G2</td>\n",
       "      <td>negative</td>\n",
       "      <td>0.045313</td>\n",
       "      <td>binary_sign</td>\n",
       "      <td>positive</td>\n",
       "      <td>0.042834</td>\n",
       "    </tr>\n",
       "    <tr>\n",
       "      <th>711</th>\n",
       "      <td>x2</td>\n",
       "      <td>x10</td>\n",
       "      <td>B</td>\n",
       "      <td>B2</td>\n",
       "      <td>negative</td>\n",
       "      <td>0.315126</td>\n",
       "      <td>binary_sign</td>\n",
       "      <td>negative</td>\n",
       "      <td>0.112304</td>\n",
       "    </tr>\n",
       "    <tr>\n",
       "      <th>519</th>\n",
       "      <td>x2</td>\n",
       "      <td>x4</td>\n",
       "      <td>B</td>\n",
       "      <td>B2</td>\n",
       "      <td>negative</td>\n",
       "      <td>0.085535</td>\n",
       "      <td>binary_sign</td>\n",
       "      <td>negative</td>\n",
       "      <td>0.039237</td>\n",
       "    </tr>\n",
       "    <tr>\n",
       "      <th>3222</th>\n",
       "      <td>x10</td>\n",
       "      <td>x12</td>\n",
       "      <td>F</td>\n",
       "      <td>F2</td>\n",
       "      <td>positive</td>\n",
       "      <td>0.110422</td>\n",
       "      <td>binary_sign</td>\n",
       "      <td>positive</td>\n",
       "      <td>0.044243</td>\n",
       "    </tr>\n",
       "    <tr>\n",
       "      <th>1163</th>\n",
       "      <td>x3</td>\n",
       "      <td>x11</td>\n",
       "      <td>C</td>\n",
       "      <td>C3</td>\n",
       "      <td>positive</td>\n",
       "      <td>0.067600</td>\n",
       "      <td>binary_sign</td>\n",
       "      <td>positive</td>\n",
       "      <td>0.179892</td>\n",
       "    </tr>\n",
       "    <tr>\n",
       "      <th>940</th>\n",
       "      <td>x3</td>\n",
       "      <td>x4</td>\n",
       "      <td>C</td>\n",
       "      <td>C4</td>\n",
       "      <td>positive</td>\n",
       "      <td>0.777458</td>\n",
       "      <td>binary_sign</td>\n",
       "      <td>positive</td>\n",
       "      <td>0.744378</td>\n",
       "    </tr>\n",
       "    <tr>\n",
       "      <th>3111</th>\n",
       "      <td>x9</td>\n",
       "      <td>x15</td>\n",
       "      <td>B</td>\n",
       "      <td>B2</td>\n",
       "      <td>negative</td>\n",
       "      <td>0.019929</td>\n",
       "      <td>binary_sign</td>\n",
       "      <td>positive</td>\n",
       "      <td>0.058896</td>\n",
       "    </tr>\n",
       "    <tr>\n",
       "      <th>3080</th>\n",
       "      <td>x9</td>\n",
       "      <td>x14</td>\n",
       "      <td>C</td>\n",
       "      <td>C0</td>\n",
       "      <td>negative</td>\n",
       "      <td>0.196130</td>\n",
       "      <td>binary_sign</td>\n",
       "      <td>positive</td>\n",
       "      <td>0.048650</td>\n",
       "    </tr>\n",
       "  </tbody>\n",
       "</table>\n",
       "</div>"
      ],
      "text/plain": [
       "     feat1 feat2 group_feat subgroup subgroup_Trend  subgroup_Trend_quality  \\\n",
       "59      x1    x3          H       H0       positive                0.282511   \n",
       "2144    x6    x9          A       A0       negative                0.028977   \n",
       "3257   x10   x13          G       G2       negative                0.045313   \n",
       "711     x2   x10          B       B2       negative                0.315126   \n",
       "519     x2    x4          B       B2       negative                0.085535   \n",
       "3222   x10   x12          F       F2       positive                0.110422   \n",
       "1163    x3   x11          C       C3       positive                0.067600   \n",
       "940     x3    x4          C       C4       positive                0.777458   \n",
       "3111    x9   x15          B       B2       negative                0.019929   \n",
       "3080    x9   x14          C       C0       negative                0.196130   \n",
       "\n",
       "       Trend_type agg_Trend  agg_Trend_quality  \n",
       "59    binary_sign  positive           0.070384  \n",
       "2144  binary_sign  positive           0.014615  \n",
       "3257  binary_sign  positive           0.042834  \n",
       "711   binary_sign  negative           0.112304  \n",
       "519   binary_sign  negative           0.039237  \n",
       "3222  binary_sign  positive           0.044243  \n",
       "1163  binary_sign  positive           0.179892  \n",
       "940   binary_sign  positive           0.744378  \n",
       "3111  binary_sign  positive           0.058896  \n",
       "3080  binary_sign  positive           0.048650  "
      ]
     },
     "execution_count": 6,
     "metadata": {},
     "output_type": "execute_result"
    }
   ],
   "source": [
    "view_sample_bin = labeled_df.get_subgroup_Trends_1lev(binary_Trend_objs).sample(10)\n",
    "view_sample_bin"
   ]
  },
  {
   "cell_type": "markdown",
   "metadata": {},
   "source": [
    "Lets look a little at some of the Trends that are found"
   ]
  },
  {
   "cell_type": "code",
   "execution_count": 7,
   "metadata": {},
   "outputs": [
    {
     "data": {
      "image/png": "[encoded data removed]",
      "text/plain": [
       "<matplotlib.figure.Figure at 0x7f9597b74550>"
      ]
     },
     "metadata": {},
     "output_type": "display_data"
    }
   ],
   "source": [
    "# look at the first of the random selection\n",
    "view_to_plot = view_sample_bin.loc[view_sample_bin.index[0],['feat1','feat2','group_feat']]\n",
    "\n",
    "labeled_df.sp_plot(*view_to_plot)"
   ]
  },
  {
   "cell_type": "markdown",
   "metadata": {},
   "source": [
    "and a view where we know there is strong SP"
   ]
  },
  {
   "cell_type": "code",
   "execution_count": 8,
   "metadata": {},
   "outputs": [
    {
     "data": {
      "image/png": "[encoded data removed]",
      "text/plain": [
       "<matplotlib.figure.Figure at 0x7f95d407b128>"
      ]
     },
     "metadata": {},
     "output_type": "display_data"
    }
   ],
   "source": [
    "\n",
    "labeled_df.sp_plot('x1','x2','A')"
   ]
  },
  {
   "cell_type": "markdown",
   "metadata": {},
   "source": [
    "Next we compute the Trends using the continuous Trends,, and view a sample of 10 random Trends"
   ]
  },
  {
   "cell_type": "code",
   "execution_count": 11,
   "metadata": {},
   "outputs": [
    {
     "ename": "TypeError",
     "evalue": "get_Trend_rows() got an unexpected keyword argument 'Trend_type'",
     "output_type": "error",
     "traceback": [
      "\u001b[0;31m---------------------------------------------------------------------------\u001b[0m",
      "\u001b[0;31mTypeError\u001b[0m                                 Traceback (most recent call last)",
      "\u001b[0;32m<ipython-input-11-5c433f130973>\u001b[0m in \u001b[0;36m<module>\u001b[0;34m()\u001b[0m\n\u001b[1;32m      1\u001b[0m \u001b[0mlabeled_df\u001b[0m\u001b[0;34m.\u001b[0m\u001b[0mget_subgroup_Trends_1lev\u001b[0m\u001b[0;34m(\u001b[0m\u001b[0mdistance_Trend_objs\u001b[0m\u001b[0;34m)\u001b[0m\u001b[0;34m\u001b[0m\u001b[0m\n\u001b[0;32m----> 2\u001b[0;31m \u001b[0mview_sample_dist\u001b[0m \u001b[0;34m=\u001b[0m \u001b[0mlabeled_df\u001b[0m\u001b[0;34m.\u001b[0m\u001b[0mget_Trend_rows\u001b[0m\u001b[0;34m(\u001b[0m\u001b[0mTrend_type\u001b[0m\u001b[0;34m=\u001b[0m\u001b[0mdsp\u001b[0m\u001b[0;34m.\u001b[0m\u001b[0mdefault_distance_Trends\u001b[0m\u001b[0;34m.\u001b[0m\u001b[0mkeys\u001b[0m\u001b[0;34m(\u001b[0m\u001b[0;34m)\u001b[0m\u001b[0;34m)\u001b[0m\u001b[0;34m.\u001b[0m\u001b[0msample\u001b[0m\u001b[0;34m(\u001b[0m\u001b[0;36m10\u001b[0m\u001b[0;34m)\u001b[0m\u001b[0;34m\u001b[0m\u001b[0m\n\u001b[0m\u001b[1;32m      3\u001b[0m \u001b[0mview_sample_dist\u001b[0m\u001b[0;34m\u001b[0m\u001b[0m\n",
      "\u001b[0;31mTypeError\u001b[0m: get_Trend_rows() got an unexpected keyword argument 'Trend_type'"
     ]
    }
   ],
   "source": [
    "labeled_df.get_subgroup_Trends_1lev(distance_Trend_objs)\n",
    "view_sample_dist = labeled_df.get_Trend_rows(Trend_type=wg.default_distance_Trends.keys()).sample(10)\n",
    "view_sample_dist"
   ]
  },
  {
   "cell_type": "code",
   "execution_count": null,
   "metadata": {},
   "outputs": [],
   "source": [
    "# look at the first of the random selection\n",
    "view_to_plot = view_sample_dist.loc[view_sample_dist.index[0],['feat1','feat2','group_feat']]\n",
    "\n",
    "labeled_df_dist.sp_plot(*view_to_plot)"
   ]
  },
  {
   "cell_type": "markdown",
   "metadata": {},
   "source": [
    "Now, we can filter each table for Simpson's Paradox, using the default setting for each"
   ]
  },
  {
   "cell_type": "code",
   "execution_count": null,
   "metadata": {},
   "outputs": [],
   "source": [
    "bin_sp = labeled_df_bin.get_SP_rows('SP')\n",
    "print(len(bin_sp))\n",
    "quality_filters = {'name':'SP_qualfilt','distance':.25,'agg_Trend_strength':.2,'subgroup_Trend_strength':0.2}\n",
    "bin_sp_qual = labeled_df_bin.get_SP_rows(quality_filters.copy(),replace=True)\n",
    "print(len(bin_sp_qual))\n",
    "bin_sp_qual.head()"
   ]
  },
  {
   "cell_type": "markdown",
   "metadata": {},
   "source": [
    "We get a lot of reslts, but a lot are for weak Trends"
   ]
  },
  {
   "cell_type": "code",
   "execution_count": null,
   "metadata": {},
   "outputs": [],
   "source": [
    "quality_filters"
   ]
  },
  {
   "cell_type": "code",
   "execution_count": null,
   "metadata": {},
   "outputs": [],
   "source": [
    "dist_sp = labeled_df_dist.get_SP_rows(thresh = .25)\n",
    "print(len(dist_sp))\n",
    "dist_sp_qual = labeled_df_dist.get_SP_rows(quality_filters.copy(),replace=True)\n",
    "print(len(dist_sp_qual))\n",
    "dist_sp_qual.head()"
   ]
  },
  {
   "cell_type": "markdown",
   "metadata": {},
   "source": [
    "Many fewer, and with a threshold on aggregate Trend strength, even fewer. We can visually inspect some of the Trends that only the binary detector finds and that only the distance based finds"
   ]
  },
  {
   "cell_type": "code",
   "execution_count": null,
   "metadata": {},
   "outputs": [],
   "source": [
    "# unique to bin\n",
    "dist_det = dist_sp_qual.index\n",
    "bin_det = bin_sp_qual.index\n",
    "bin_only= [b for b in bin_det if not(b in dist_det)]\n",
    "print(len(bin_only))\n",
    "# randomly select one\n",
    "cursel = np.random.random_integers(len(bin_only)) -1\n",
    "\n",
    "view_to_plot = labeled_df_bin.result_df.loc[bin_only[cursel],['feat1','feat2','group_feat']]\n",
    "bold_level = labeled_df_bin.result_df.loc[bin_only[cursel],'subgroup']\n",
    "\n",
    "labeled_df_bin.sp_plot(*view_to_plot,bold_color_val=bold_level)\n",
    "labeled_df_bin.result_df.loc[bin_only[cursel]] #,'subgroup']"
   ]
  },
  {
   "cell_type": "code",
   "execution_count": null,
   "metadata": {},
   "outputs": [],
   "source": [
    "dist_only = [d for d in dist_det if not(d in bin_det)]\n",
    "print(len(dist_only))\n",
    "cursel = np.random.random_integers(len(dist_only)) -1\n",
    "view_to_plot = labeled_df_dist.result_df.loc[dist_only[cursel],['feat1','feat2','group_feat']]\n",
    "bold_level = labeled_df_dist.result_df.loc[dist_only[cursel],'subgroup']\n",
    "\n",
    "labeled_df_dist.sp_plot(*view_to_plot,bold_color_val=bold_level)\n",
    "labeled_df_dist.result_df.loc[dist_only[cursel]]"
   ]
  },
  {
   "cell_type": "markdown",
   "metadata": {},
   "source": [
    "The Trends that only the distance finds are cases where the subgroup Trend is the same sign as aggregate, but significantly different.  So, we find fewer overall and additional interesting Trends that binary sign change cannot find. "
   ]
  },
  {
   "cell_type": "code",
   "execution_count": null,
   "metadata": {},
   "outputs": [],
   "source": [
    "# we can check how many in each case were designed in, once we filter in the labeled df ro explose get views for a dtafram\n",
    "n_view = 8\n",
    "# in this synthetic dataset we know the structure of the SP designed views\n",
    "designed_view_list = [('x'+str(i+1),'x'+str(i+2),c) for i,c in \n",
    "                      zip(range(0,n_view*2,2),list(string.ascii_uppercase[:n_view]))]\n",
    "num_designed_views = len(designed_view_list)\n",
    "\n",
    "# passing the name of the SP we already detected, doesn't compute the detection over, it filters by that column\n",
    "found_sp_views_bin = labeled_df_bin.get_SP_views('SP_qualfilt',colored=True)\n",
    "found_sp_views_dist = labeled_df_dist.get_SP_views('SP_qualfilt',colored=True)"
   ]
  },
  {
   "cell_type": "code",
   "execution_count": null,
   "metadata": {},
   "outputs": [],
   "source": [
    "# of designed, how many were found\n",
    "detections_bin = [v for v in designed_view_list if v in found_sp_views_bin]\n",
    "num_detections_bin = len(detections_bin)\n",
    "# of found, how many were not designed\n",
    "undesigned_bin = [v for v in found_sp_views_bin if not(v in designed_view_list)]\n",
    "num_undesigned_bin = len(undesigned_bin)\n",
    "print('Success Rate: ',num_detections_bin /num_designed_views)\n",
    "print('Novel Discoveries of detections: ',num_undesigned_bin /len(found_sp_views_bin))"
   ]
  },
  {
   "cell_type": "code",
   "execution_count": null,
   "metadata": {},
   "outputs": [],
   "source": [
    "# of designed, how many were found\n",
    "detections_dist = [v for v in designed_view_list if v in found_sp_views_dist]\n",
    "num_detections_dist = len(detections_dist)\n",
    "# of found, how many were not designed\n",
    "undesigned_dist = [v for v in found_sp_views_dist if not(v in designed_view_list)]\n",
    "num_undesigned_dist = len(undesigned_dist)\n",
    "print('Success Rate: ',num_detections_dist /num_designed_views)\n",
    "print('Novel Discoveries: ',num_undesigned_dist /len(found_sp_views_dist))"
   ]
  },
  {
   "cell_type": "markdown",
   "metadata": {},
   "source": [
    "Some of the designed views may not have any SP, due to the random nature and the quality threshold"
   ]
  },
  {
   "cell_type": "code",
   "execution_count": null,
   "metadata": {},
   "outputs": [],
   "source": [
    "missed_list = [v for v in designed_view_list if not(v in found_sp_views_dist) and not(v in found_sp_views_bin)]\n",
    "\n",
    "missed_row_df = []\n",
    "for view_to_plot in missed_list:\n",
    "    labeled_df_dist.sp_plot(*view_to_plot)\n",
    "    missed_row_df.append(labeled_df_dist.get_Trend_rows(*view_to_plot))\n",
    "    \n",
    "feat1_missed,feat2_missed,groupby_missed = zip(*missed_list)\n",
    "# labeled_df_dist.get_Trend_rows(feat1_missed,feat2_missed,groupby_missed)\n",
    "pd.concat(missed_row_df)"
   ]
  },
  {
   "cell_type": "markdown",
   "metadata": {},
   "source": [
    "By inspection, we see that the missed ones are all weak in either aggregate or subgroup Trend.  Even if there is a reversal, weak Trends shouldn't be used to make decsions anyway, so these are not important for further exploration"
   ]
  },
  {
   "cell_type": "code",
   "execution_count": null,
   "metadata": {},
   "outputs": [],
   "source": [
    "view_to_plot = random.choice(undesigned_bin)\n",
    "labeled_df_bin.sp_plot(*view_to_plot)"
   ]
  },
  {
   "cell_type": "code",
   "execution_count": null,
   "metadata": {},
   "outputs": [],
   "source": [
    "view_to_plot = random.choice(undesigned_bin)\n",
    "labeled_df_bin.sp_plot(*view_to_plot)"
   ]
  },
  {
   "cell_type": "code",
   "execution_count": null,
   "metadata": {},
   "outputs": [],
   "source": [
    "view_to_plot = random.choice(undesigned_dist)\n",
    "labeled_df_dist.sp_plot(*view_to_plot)"
   ]
  },
  {
   "cell_type": "code",
   "execution_count": null,
   "metadata": {},
   "outputs": [],
   "source": [
    "view_to_plot = random.choice(undesigned_dist)\n",
    "labeled_df_dist.sp_plot(*view_to_plot)"
   ]
  },
  {
   "cell_type": "markdown",
   "metadata": {},
   "source": [
    "For the continuous-valued, we can futher filter "
   ]
  },
  {
   "cell_type": "code",
   "execution_count": null,
   "metadata": {},
   "outputs": [],
   "source": []
  },
  {
   "cell_type": "markdown",
   "metadata": {},
   "source": [
    "## Rank SP"
   ]
  },
  {
   "cell_type": "code",
   "execution_count": null,
   "metadata": {},
   "outputs": [],
   "source": []
  },
  {
   "cell_type": "code",
   "execution_count": null,
   "metadata": {},
   "outputs": [],
   "source": []
  },
  {
   "cell_type": "markdown",
   "metadata": {},
   "source": [
    "# Two types of SP"
   ]
  },
  {
   "cell_type": "code",
   "execution_count": null,
   "metadata": {},
   "outputs": [],
   "source": []
  },
  {
   "cell_type": "code",
   "execution_count": null,
   "metadata": {},
   "outputs": [],
   "source": []
  },
  {
   "cell_type": "code",
   "execution_count": null,
   "metadata": {},
   "outputs": [],
   "source": [
    "np.prod([True, True, True])"
   ]
  },
  {
   "cell_type": "code",
   "execution_count": null,
   "metadata": {},
   "outputs": [],
   "source": [
    "filter_thresh = {'distance':0,'agg_Trend_strength':0,'subgroup_Trend_strength':0}\n",
    "q_filter = lambda row: bool(np.prod([row[k]>v for k,v in filter_thresh.items()]))\n",
    "\n",
    "labeled_df_bin.result_df[labeled_df_bin.result_df.apply(q_filter,axis=1)]"
   ]
  },
  {
   "cell_type": "code",
   "execution_count": null,
   "metadata": {},
   "outputs": [],
   "source": [
    "filter_thresh = {'distance':.2,'agg_Trend_strength':.15,'subgroup_Trend_strength':0,'name':'def'}\n",
    "q_filter = lambda row: bool(np.prod([row[k]>v for k,v in filter_thresh.items()]))"
   ]
  },
  {
   "cell_type": "code",
   "execution_count": null,
   "metadata": {},
   "outputs": [],
   "source": [
    "\n",
    "filter_thresh = quality_filters.copy()\n",
    "filter_thresh.pop('name')"
   ]
  },
  {
   "cell_type": "code",
   "execution_count": null,
   "metadata": {},
   "outputs": [],
   "source": [
    "q_filter = lambda row: bool(np.prod([row[k]>v for k,v in filter_thresh.items()]))\n",
    "\n",
    "len(labeled_df_dist.result_df[labeled_df_dist.result_df.apply(q_filter,axis=1)])"
   ]
  },
  {
   "cell_type": "code",
   "execution_count": null,
   "metadata": {},
   "outputs": [],
   "source": []
  },
  {
   "cell_type": "code",
   "execution_count": null,
   "metadata": {},
   "outputs": [],
   "source": []
  }
 ],
 "metadata": {
  "kernelspec": {
   "display_name": "Python 3",
   "language": "python",
   "name": "python3"
  },
  "language_info": {
   "codemirror_mode": {
    "name": "ipython",
    "version": 3
   },
   "file_extension": ".py",
   "mimetype": "text/x-python",
   "name": "python",
   "nbconvert_exporter": "python",
   "pygments_lexer": "ipython3",
   "version": "3.6.4"
  }
 },
 "nbformat": 4,
 "nbformat_minor": 2
}
