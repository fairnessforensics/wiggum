{
 "cells": [
  {
   "cell_type": "code",
   "execution_count": 1,
   "metadata": {
    "collapsed": true
   },
   "outputs": [],
   "source": [
    "import numpy as np\n",
    "import pandas as pd\n",
    "import seaborn as sns\n",
    "import matplotlib.colors as mcolors\n",
    "import matplotlib.pyplot as plt\n",
    "import warnings"
   ]
  },
  {
   "cell_type": "markdown",
   "metadata": {},
   "source": [
    "Install our package, then import it.\n",
    "\n",
    "_this is here as an example, and for development, eventually this install step shouldn't be in the notebooks, only in the main readme_"
   ]
  },
  {
   "cell_type": "code",
   "execution_count": 2,
   "metadata": {},
   "outputs": [
    {
     "name": "stdout",
     "output_type": "stream",
     "text": [
      "Processing /Users/chenguangxu/Documents/GitHub/DetectSimpsonParadox\n",
      "Installing collected packages: detect-simpsons-paradox\n",
      "  Found existing installation: detect-simpsons-paradox 0.1\n",
      "    Uninstalling detect-simpsons-paradox-0.1:\n",
      "      Successfully uninstalled detect-simpsons-paradox-0.1\n",
      "  Running setup.py install for detect-simpsons-paradox: started\n",
      "    Running setup.py install for detect-simpsons-paradox: finished with status 'done'\n",
      "Successfully installed detect-simpsons-paradox-0.1\n"
     ]
    }
   ],
   "source": [
    "%%bash\n",
    "cd .. \n",
    "pip install . --upgrade"
   ]
  },
  {
   "cell_type": "code",
   "execution_count": 3,
   "metadata": {
    "collapsed": true
   },
   "outputs": [],
   "source": [
    "import wiggum as wg\n",
    "import data_util as sp_dat\n",
    "#warnings.simplefilter(action='ignore', category=FutureWarning)"
   ]
  },
  {
   "cell_type": "markdown",
   "metadata": {},
   "source": [
    "# Dataset Generation"
   ]
  },
  {
   "cell_type": "code",
   "execution_count": 4,
   "metadata": {
    "collapsed": true
   },
   "outputs": [],
   "source": [
    "N = 100\n",
    "# sample data from 2 clusters\n",
    "mu = np.asarray([[1,1],[5,5]])\n",
    "cov = [[.6,-1],[0,.6]]\n",
    "\n",
    "latent_df = sp_dat.simple_regression_sp(N,mu,cov)\n",
    "#mixed_regression_sp(N,mu,cov,[.7,.3])"
   ]
  },
  {
   "cell_type": "markdown",
   "metadata": {},
   "source": [
    "# Detect Simpson's Paradox\n",
    "Detect the Simpson's Paradox and show the the information of the subgroup which is detected having Simpson Paradox. "
   ]
  },
  {
   "cell_type": "code",
   "execution_count": 5,
   "metadata": {},
   "outputs": [
    {
     "data": {
      "text/html": [
       "<div>\n",
       "<style>\n",
       "    .dataframe thead tr:only-child th {\n",
       "        text-align: right;\n",
       "    }\n",
       "\n",
       "    .dataframe thead th {\n",
       "        text-align: left;\n",
       "    }\n",
       "\n",
       "    .dataframe tbody tr th {\n",
       "        vertical-align: top;\n",
       "    }\n",
       "</style>\n",
       "<table border=\"1\" class=\"dataframe\">\n",
       "  <thead>\n",
       "    <tr style=\"text-align: right;\">\n",
       "      <th></th>\n",
       "      <th>allCorr</th>\n",
       "      <th>attr1</th>\n",
       "      <th>attr2</th>\n",
       "      <th>reverseCorr</th>\n",
       "      <th>groupbyAttr</th>\n",
       "      <th>subgroup</th>\n",
       "    </tr>\n",
       "  </thead>\n",
       "  <tbody>\n",
       "    <tr>\n",
       "      <th>0</th>\n",
       "      <td>0.732775</td>\n",
       "      <td>0</td>\n",
       "      <td>1</td>\n",
       "      <td>-0.604254</td>\n",
       "      <td>color</td>\n",
       "      <td>b</td>\n",
       "    </tr>\n",
       "    <tr>\n",
       "      <th>1</th>\n",
       "      <td>-0.102096</td>\n",
       "      <td>0</td>\n",
       "      <td>2</td>\n",
       "      <td>0.012240</td>\n",
       "      <td>color</td>\n",
       "      <td>b</td>\n",
       "    </tr>\n",
       "    <tr>\n",
       "      <th>2</th>\n",
       "      <td>-0.061170</td>\n",
       "      <td>1</td>\n",
       "      <td>2</td>\n",
       "      <td>0.115398</td>\n",
       "      <td>color</td>\n",
       "      <td>b</td>\n",
       "    </tr>\n",
       "    <tr>\n",
       "      <th>3</th>\n",
       "      <td>0.732775</td>\n",
       "      <td>0</td>\n",
       "      <td>1</td>\n",
       "      <td>-0.460754</td>\n",
       "      <td>color</td>\n",
       "      <td>r</td>\n",
       "    </tr>\n",
       "  </tbody>\n",
       "</table>\n",
       "</div>"
      ],
      "text/plain": [
       "    allCorr  attr1  attr2  reverseCorr groupbyAttr subgroup\n",
       "0  0.732775      0      1    -0.604254       color        b\n",
       "1 -0.102096      0      2     0.012240       color        b\n",
       "2 -0.061170      1      2     0.115398       color        b\n",
       "3  0.732775      0      1    -0.460754       color        r"
      ]
     },
     "execution_count": 5,
     "metadata": {},
     "output_type": "execute_result"
    }
   ],
   "source": [
    "wg.detect_simpsons_paradox(latent_df)"
   ]
  },
  {
   "cell_type": "code",
   "execution_count": null,
   "metadata": {
    "collapsed": true
   },
   "outputs": [],
   "source": []
  }
 ],
 "metadata": {
  "kernelspec": {
   "display_name": "Python 3",
   "language": "python",
   "name": "python3"
  },
  "language_info": {
   "codemirror_mode": {
    "name": "ipython",
    "version": 3
   },
   "file_extension": ".py",
   "mimetype": "text/x-python",
   "name": "python",
   "nbconvert_exporter": "python",
   "pygments_lexer": "ipython3",
   "version": "3.8.1"
  }
 },
 "nbformat": 4,
 "nbformat_minor": 2
}
