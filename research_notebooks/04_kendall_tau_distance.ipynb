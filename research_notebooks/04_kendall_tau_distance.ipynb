{
 "cells": [
  {
   "cell_type": "markdown",
   "metadata": {},
   "source": [
    "# Kendall Tau Distance"
   ]
  },
  {
   "cell_type": "code",
   "execution_count": 1,
   "metadata": {},
   "outputs": [],
   "source": [
    "from scipy.stats import kendalltau\n",
    "import numpy as np\n",
    "import wiggum as wg"
   ]
  },
  {
   "cell_type": "code",
   "execution_count": 2,
   "metadata": {},
   "outputs": [],
   "source": [
    "subgroup = ['A', 'B']\n",
    "aggregate = ['B','A']"
   ]
  },
  {
   "cell_type": "code",
   "execution_count": 3,
   "metadata": {},
   "outputs": [],
   "source": [
    "def categorical_kendalltau(list1,list2):\n",
    "    numeric_map = {a:i for i,a in enumerate(list1)}\n",
    "    num1 = [numeric_map[a] for a in list1]\n",
    "    num2 = [numeric_map[b] for b in list2]\n",
    "\n",
    "    return kendalltau(num1,num2)"
   ]
  },
  {
   "cell_type": "code",
   "execution_count": 4,
   "metadata": {},
   "outputs": [
    {
     "name": "stderr",
     "output_type": "stream",
     "text": [
      "/home/smb/anaconda3/lib/python3.6/site-packages/scipy/stats/stats.py:3559: RuntimeWarning: invalid value encountered in double_scalars\n",
      "  size * (size - 1) * (size - 2))\n"
     ]
    },
    {
     "data": {
      "text/plain": [
       "-1.0"
      ]
     },
     "execution_count": 4,
     "metadata": {},
     "output_type": "execute_result"
    }
   ],
   "source": [
    "tau,p = categorical_kendalltau(aggregate,subgroup)\n",
    "tau"
   ]
  },
  {
   "cell_type": "markdown",
   "metadata": {},
   "source": [
    "Kendall's $\\tau$ varies from -1 (exact opposite) to 1 (perfect match). To use it as a distance, we want perfect match to be 1 and exact opposite to be 0, so then we scale it."
   ]
  },
  {
   "cell_type": "code",
   "execution_count": 5,
   "metadata": {},
   "outputs": [],
   "source": [
    "scale = lambda t: (t+1)/2\n",
    "flip = lambda t: 1-t"
   ]
  },
  {
   "cell_type": "code",
   "execution_count": 9,
   "metadata": {},
   "outputs": [
    {
     "name": "stdout",
     "output_type": "stream",
     "text": [
      "0.33333333333333337 0.6666666666666667 0.33333333333333326\n"
     ]
    }
   ],
   "source": [
    "subgroup = ['B', 'W','H']\n",
    "aggregate = ['B','H','W',]\n",
    "tau,p = categorical_kendalltau(aggregate,subgroup)\n",
    "print(tau,scale(tau),flip(scale(tau)))"
   ]
  },
  {
   "cell_type": "code",
   "execution_count": 7,
   "metadata": {},
   "outputs": [
    {
     "name": "stdout",
     "output_type": "stream",
     "text": [
      "0.33333333333333337 0.6666666666666667 0.33333333333333326\n"
     ]
    }
   ],
   "source": [
    "subgroup = ['A', 'B','C']\n",
    "aggregate = ['A','C','B']\n",
    "tau,p = categorical_kendalltau(aggregate,subgroup)\n",
    "print(tau,scale(tau),flip(scale(tau)))"
   ]
  },
  {
   "cell_type": "code",
   "execution_count": 8,
   "metadata": {},
   "outputs": [
    {
     "name": "stdout",
     "output_type": "stream",
     "text": [
      "-1.0 0.0 1.0\n"
     ]
    }
   ],
   "source": [
    "subgroup = ['A', 'B','C']\n",
    "aggregate = ['C','B','A',]\n",
    "tau,p = categorical_kendalltau(aggregate,subgroup)\n",
    "print(tau,scale(tau),flip(scale(tau)))"
   ]
  },
  {
   "cell_type": "code",
   "execution_count": 26,
   "metadata": {},
   "outputs": [
    {
     "name": "stdout",
     "output_type": "stream",
     "text": [
      "1.0 1.0 0.0\n"
     ]
    }
   ],
   "source": [
    "subgroup = ['A', 'B','C']\n",
    "aggregate = ['A', 'B','C']\n",
    "tau,p = categorical_kendalltau(aggregate,subgroup)\n",
    "print(tau,scale(tau),flip(scale(tau)))"
   ]
  },
  {
   "cell_type": "markdown",
   "metadata": {},
   "source": [
    "# Kendall Tau for rank strength\n",
    "\n",
    "We also use kendall tau for computing a strength of a ranking.  To demonstrate this, we'll load a dataset"
   ]
  },
  {
   "cell_type": "code",
   "execution_count": 31,
   "metadata": {},
   "outputs": [],
   "source": [
    "labeled_df = wg.LabeledDataFrame('../wiggum_app/static/data/rateSPdataDeptRace.csv')"
   ]
  },
  {
   "cell_type": "code",
   "execution_count": 33,
   "metadata": {},
   "outputs": [
    {
     "data": {
      "text/html": [
       "<div>\n",
       "<style scoped>\n",
       "    .dataframe tbody tr th:only-of-type {\n",
       "        vertical-align: middle;\n",
       "    }\n",
       "\n",
       "    .dataframe tbody tr th {\n",
       "        vertical-align: top;\n",
       "    }\n",
       "\n",
       "    .dataframe thead th {\n",
       "        text-align: right;\n",
       "    }\n",
       "</style>\n",
       "<table border=\"1\" class=\"dataframe\">\n",
       "  <thead>\n",
       "    <tr style=\"text-align: right;\">\n",
       "      <th>variable</th>\n",
       "      <th>department</th>\n",
       "      <th>gender</th>\n",
       "      <th>decision</th>\n",
       "      <th>race</th>\n",
       "    </tr>\n",
       "  </thead>\n",
       "  <tbody>\n",
       "    <tr>\n",
       "      <th>0</th>\n",
       "      <td>3</td>\n",
       "      <td>M</td>\n",
       "      <td>1</td>\n",
       "      <td>W</td>\n",
       "    </tr>\n",
       "    <tr>\n",
       "      <th>1</th>\n",
       "      <td>3</td>\n",
       "      <td>M</td>\n",
       "      <td>1</td>\n",
       "      <td>H</td>\n",
       "    </tr>\n",
       "    <tr>\n",
       "      <th>2</th>\n",
       "      <td>0</td>\n",
       "      <td>F</td>\n",
       "      <td>0</td>\n",
       "      <td>W</td>\n",
       "    </tr>\n",
       "    <tr>\n",
       "      <th>3</th>\n",
       "      <td>1</td>\n",
       "      <td>F</td>\n",
       "      <td>0</td>\n",
       "      <td>H</td>\n",
       "    </tr>\n",
       "    <tr>\n",
       "      <th>4</th>\n",
       "      <td>3</td>\n",
       "      <td>M</td>\n",
       "      <td>1</td>\n",
       "      <td>W</td>\n",
       "    </tr>\n",
       "  </tbody>\n",
       "</table>\n",
       "</div>"
      ],
      "text/plain": [
       "variable  department gender  decision race\n",
       "0                  3      M         1    W\n",
       "1                  3      M         1    H\n",
       "2                  0      F         0    W\n",
       "3                  1      F         0    H\n",
       "4                  3      M         1    W"
      ]
     },
     "execution_count": 33,
     "metadata": {},
     "output_type": "execute_result"
    }
   ],
   "source": [
    "labeled_df.df.head()"
   ]
  },
  {
   "cell_type": "code",
   "execution_count": 36,
   "metadata": {},
   "outputs": [
    {
     "data": {
      "text/html": [
       "<div>\n",
       "<style scoped>\n",
       "    .dataframe tbody tr th:only-of-type {\n",
       "        vertical-align: middle;\n",
       "    }\n",
       "\n",
       "    .dataframe tbody tr th {\n",
       "        vertical-align: top;\n",
       "    }\n",
       "\n",
       "    .dataframe thead th {\n",
       "        text-align: right;\n",
       "    }\n",
       "</style>\n",
       "<table border=\"1\" class=\"dataframe\">\n",
       "  <thead>\n",
       "    <tr style=\"text-align: right;\">\n",
       "      <th></th>\n",
       "      <th>dtype</th>\n",
       "      <th>var_type</th>\n",
       "      <th>role</th>\n",
       "      <th>isCount</th>\n",
       "      <th>weighting_var</th>\n",
       "    </tr>\n",
       "    <tr>\n",
       "      <th>variable</th>\n",
       "      <th></th>\n",
       "      <th></th>\n",
       "      <th></th>\n",
       "      <th></th>\n",
       "      <th></th>\n",
       "    </tr>\n",
       "  </thead>\n",
       "  <tbody>\n",
       "    <tr>\n",
       "      <th>department</th>\n",
       "      <td>int64</td>\n",
       "      <td>ordinal</td>\n",
       "      <td>NaN</td>\n",
       "      <td>NaN</td>\n",
       "      <td>NaN</td>\n",
       "    </tr>\n",
       "    <tr>\n",
       "      <th>gender</th>\n",
       "      <td>object</td>\n",
       "      <td>binary</td>\n",
       "      <td>NaN</td>\n",
       "      <td>NaN</td>\n",
       "      <td>NaN</td>\n",
       "    </tr>\n",
       "    <tr>\n",
       "      <th>decision</th>\n",
       "      <td>int64</td>\n",
       "      <td>binary</td>\n",
       "      <td>NaN</td>\n",
       "      <td>NaN</td>\n",
       "      <td>NaN</td>\n",
       "    </tr>\n",
       "    <tr>\n",
       "      <th>race</th>\n",
       "      <td>object</td>\n",
       "      <td>categorical</td>\n",
       "      <td>NaN</td>\n",
       "      <td>NaN</td>\n",
       "      <td>NaN</td>\n",
       "    </tr>\n",
       "  </tbody>\n",
       "</table>\n",
       "</div>"
      ],
      "text/plain": [
       "             dtype     var_type role isCount weighting_var\n",
       "variable                                                  \n",
       "department   int64      ordinal  NaN     NaN           NaN\n",
       "gender      object       binary  NaN     NaN           NaN\n",
       "decision     int64       binary  NaN     NaN           NaN\n",
       "race        object  categorical  NaN     NaN           NaN"
      ]
     },
     "execution_count": 36,
     "metadata": {},
     "output_type": "execute_result"
    }
   ],
   "source": [
    "labeled_df.infer_var_types()\n",
    "labeled_df.meta_df"
   ]
  },
  {
   "cell_type": "code",
   "execution_count": 37,
   "metadata": {},
   "outputs": [
    {
     "data": {
      "text/html": [
       "<div>\n",
       "<style scoped>\n",
       "    .dataframe tbody tr th:only-of-type {\n",
       "        vertical-align: middle;\n",
       "    }\n",
       "\n",
       "    .dataframe tbody tr th {\n",
       "        vertical-align: top;\n",
       "    }\n",
       "\n",
       "    .dataframe thead th {\n",
       "        text-align: right;\n",
       "    }\n",
       "</style>\n",
       "<table border=\"1\" class=\"dataframe\">\n",
       "  <thead>\n",
       "    <tr style=\"text-align: right;\">\n",
       "      <th></th>\n",
       "      <th>dtype</th>\n",
       "      <th>var_type</th>\n",
       "      <th>role</th>\n",
       "      <th>isCount</th>\n",
       "      <th>weighting_var</th>\n",
       "    </tr>\n",
       "    <tr>\n",
       "      <th>variable</th>\n",
       "      <th></th>\n",
       "      <th></th>\n",
       "      <th></th>\n",
       "      <th></th>\n",
       "      <th></th>\n",
       "    </tr>\n",
       "  </thead>\n",
       "  <tbody>\n",
       "    <tr>\n",
       "      <th>department</th>\n",
       "      <td>int64</td>\n",
       "      <td>categorical</td>\n",
       "      <td>[groupby, Trend]</td>\n",
       "      <td>NaN</td>\n",
       "      <td>NaN</td>\n",
       "    </tr>\n",
       "    <tr>\n",
       "      <th>gender</th>\n",
       "      <td>object</td>\n",
       "      <td>categorical</td>\n",
       "      <td>[groupby, Trend]</td>\n",
       "      <td>NaN</td>\n",
       "      <td>NaN</td>\n",
       "    </tr>\n",
       "    <tr>\n",
       "      <th>decision</th>\n",
       "      <td>int64</td>\n",
       "      <td>binary</td>\n",
       "      <td>Trend</td>\n",
       "      <td>NaN</td>\n",
       "      <td>NaN</td>\n",
       "    </tr>\n",
       "    <tr>\n",
       "      <th>race</th>\n",
       "      <td>object</td>\n",
       "      <td>categorical</td>\n",
       "      <td>[groupby, Trend]</td>\n",
       "      <td>NaN</td>\n",
       "      <td>NaN</td>\n",
       "    </tr>\n",
       "  </tbody>\n",
       "</table>\n",
       "</div>"
      ],
      "text/plain": [
       "             dtype     var_type              role isCount weighting_var\n",
       "variable                                                               \n",
       "department   int64  categorical  [groupby, Trend]     NaN           NaN\n",
       "gender      object  categorical  [groupby, Trend]     NaN           NaN\n",
       "decision     int64       binary             Trend     NaN           NaN\n",
       "race        object  categorical  [groupby, Trend]     NaN           NaN"
      ]
     },
     "execution_count": 37,
     "metadata": {},
     "output_type": "execute_result"
    }
   ],
   "source": [
    "roles = {'department':['groupby','Trend'],'gender':['groupby','Trend'],'decision':'Trend','race':['groupby','Trend']}\n",
    "var_types = {'gender':'categorical','department':'categorical'}\n",
    "\n",
    "labeled_df.set_roles(roles)\n",
    "labeled_df.set_var_types(var_types)\n",
    "labeled_df.meta_df"
   ]
  },
  {
   "cell_type": "code",
   "execution_count": 39,
   "metadata": {},
   "outputs": [],
   "source": [
    "labeled_df.to_csvs('../data/rateSPdataDeptRace')"
   ]
  },
  {
   "cell_type": "code",
   "execution_count": 75,
   "metadata": {},
   "outputs": [],
   "source": [
    "rankfeat = 'race'\n",
    "statfeat = 'decision'"
   ]
  },
  {
   "cell_type": "code",
   "execution_count": 76,
   "metadata": {},
   "outputs": [
    {
     "data": {
      "text/plain": [
       "race\n",
       "B    0.230000\n",
       "H    0.252174\n",
       "W    0.253503\n",
       "Name: decision, dtype: float64"
      ]
     },
     "execution_count": 76,
     "metadata": {},
     "output_type": "execute_result"
    }
   ],
   "source": [
    "stat_df = labeled_df.df.groupby(rankfeat)[statfeat].mean()\n",
    "stat_df.sort_values(inplace=True)\n",
    "stat_df"
   ]
  },
  {
   "cell_type": "code",
   "execution_count": 77,
   "metadata": {},
   "outputs": [
    {
     "data": {
      "text/plain": [
       "array(['B', 'H', 'W'], dtype=object)"
      ]
     },
     "execution_count": 77,
     "metadata": {},
     "output_type": "execute_result"
    }
   ],
   "source": [
    "ordered_rank_feat = stat_df.index.values\n",
    "ordered_rank_feat"
   ]
  },
  {
   "cell_type": "code",
   "execution_count": 78,
   "metadata": {},
   "outputs": [
    {
     "data": {
      "text/plain": [
       "array(['H', 'W', 'W', 'W', 'W', 'W', 'W', 'W', 'W', 'W', 'W', 'W', 'W',\n",
       "       'W', 'W', 'W', 'H', 'W', 'W', 'W', 'W', 'W', 'H', 'W', 'W', 'W',\n",
       "       'H', 'W', 'W', 'W', 'W', 'W', 'W', 'W', 'W', 'B', 'W', 'W', 'W',\n",
       "       'W', 'W', 'H', 'W', 'W', 'W', 'W', 'W', 'W', 'B', 'H', 'W', 'W',\n",
       "       'W', 'W', 'W', 'W', 'H', 'W', 'W', 'W', 'W', 'W', 'W', 'W', 'W',\n",
       "       'W', 'W', 'W', 'W', 'W', 'B', 'B', 'W', 'H', 'B', 'W', 'W', 'W',\n",
       "       'W', 'W', 'W', 'W', 'H', 'W', 'W', 'W', 'W', 'B', 'W', 'W', 'W',\n",
       "       'W', 'W', 'W', 'B', 'W', 'W', 'W', 'W', 'B', 'W', 'W', 'W', 'B',\n",
       "       'W', 'W', 'W', 'W', 'B', 'W', 'W', 'B', 'W', 'B', 'B', 'W', 'B',\n",
       "       'W', 'W', 'H', 'W', 'W', 'W', 'W', 'W', 'W', 'W', 'W', 'W', 'W',\n",
       "       'W', 'W', 'W', 'B', 'B', 'H', 'W', 'B', 'W', 'W', 'W', 'W', 'W',\n",
       "       'W', 'B', 'W', 'W', 'W', 'W', 'W', 'W', 'W', 'B', 'W', 'W', 'W',\n",
       "       'B', 'H', 'W', 'W', 'W', 'W', 'W', 'W', 'W', 'B', 'B', 'H', 'W',\n",
       "       'W', 'W', 'W', 'B', 'W', 'W', 'W', 'W', 'W', 'W', 'W', 'B', 'W',\n",
       "       'W', 'W', 'W', 'W', 'B', 'B', 'W', 'H', 'B', 'W', 'B', 'H', 'W',\n",
       "       'B', 'W', 'W', 'B', 'H', 'W', 'W', 'W', 'H', 'H', 'W', 'W', 'W',\n",
       "       'W', 'W', 'W', 'W', 'W', 'B', 'H', 'W', 'B', 'W', 'W', 'W', 'W',\n",
       "       'W', 'W', 'W', 'W', 'W', 'W', 'W', 'W', 'W', 'H', 'W', 'H', 'W',\n",
       "       'B', 'W', 'W', 'W', 'H', 'B', 'W', 'W', 'H', 'W', 'B', 'B', 'W',\n",
       "       'H', 'W', 'H', 'W', 'W', 'W', 'W', 'W', 'H', 'H', 'W', 'W', 'W',\n",
       "       'W', 'W', 'W', 'H', 'W', 'W', 'W', 'W', 'W', 'W', 'W', 'W', 'W',\n",
       "       'W', 'W', 'W', 'W', 'W', 'W', 'W', 'W', 'H', 'W', 'W', 'W', 'W',\n",
       "       'W', 'W', 'W', 'W', 'B', 'W', 'W', 'W', 'H', 'W', 'H', 'W', 'W',\n",
       "       'W', 'W', 'B', 'W', 'W', 'W', 'B', 'W', 'W', 'W', 'W', 'W', 'W',\n",
       "       'W', 'W', 'W', 'W', 'B', 'W', 'W', 'W', 'W', 'W', 'W', 'H', 'W',\n",
       "       'W', 'W', 'W', 'W', 'H', 'H', 'W', 'W', 'W', 'W', 'W', 'W', 'W',\n",
       "       'W', 'W', 'B', 'H', 'B', 'W', 'W', 'W', 'W', 'H', 'B', 'W', 'W',\n",
       "       'H', 'W', 'W', 'W', 'W', 'W', 'W', 'H', 'W', 'W', 'W', 'W', 'W',\n",
       "       'W', 'B', 'W', 'W', 'W', 'W', 'W', 'W', 'H', 'B', 'H', 'W', 'H',\n",
       "       'H', 'W', 'W', 'W', 'W', 'W', 'W', 'W', 'W', 'W', 'B', 'H', 'W',\n",
       "       'W', 'W', 'B', 'W', 'W', 'W', 'W', 'H', 'W', 'H', 'W', 'B', 'W',\n",
       "       'W', 'W', 'W', 'W', 'H', 'W', 'W', 'H', 'B', 'W', 'H', 'H', 'B',\n",
       "       'W', 'B', 'B', 'W', 'W', 'W', 'W', 'W', 'B', 'W', 'W', 'W', 'H',\n",
       "       'W', 'W', 'W', 'W', 'W', 'W', 'W', 'W', 'W', 'W', 'W', 'W', 'W',\n",
       "       'W', 'W', 'W', 'W', 'B', 'W', 'W', 'W', 'B', 'W', 'W', 'W', 'W',\n",
       "       'W', 'W', 'W', 'H', 'W', 'H', 'B', 'W', 'W', 'W', 'W', 'W', 'W',\n",
       "       'W', 'W', 'H', 'W', 'W', 'W', 'W', 'W', 'W', 'W', 'W', 'H', 'H',\n",
       "       'W', 'W', 'W', 'B', 'W', 'W', 'W', 'W', 'H', 'W', 'W', 'W', 'H',\n",
       "       'W', 'W', 'W', 'W', 'W', 'W', 'W', 'H', 'H', 'W', 'W', 'W', 'B',\n",
       "       'H', 'W', 'W', 'W', 'W', 'W', 'W', 'W', 'W', 'H', 'W', 'W', 'W',\n",
       "       'W', 'W', 'W', 'W', 'H', 'W', 'W', 'W', 'H', 'W', 'B', 'W', 'W',\n",
       "       'B', 'W', 'W', 'W', 'W', 'W', 'W', 'W', 'W', 'W', 'W', 'W', 'W',\n",
       "       'W', 'W', 'W', 'B', 'W', 'B', 'H', 'W', 'W', 'H', 'W', 'W', 'W',\n",
       "       'W', 'W', 'W', 'W', 'B', 'H', 'W', 'W', 'W', 'W', 'H', 'W', 'W',\n",
       "       'W', 'W', 'W', 'W', 'H', 'W', 'H', 'W', 'H', 'H', 'H', 'B', 'W',\n",
       "       'W', 'W', 'W', 'W', 'W', 'W', 'W', 'W', 'W', 'W', 'B', 'W', 'W',\n",
       "       'B', 'W', 'B', 'W', 'W', 'W', 'H', 'W', 'H', 'W', 'W', 'B', 'W',\n",
       "       'W', 'W', 'H', 'B', 'B', 'W', 'W', 'W', 'W', 'W', 'B', 'H', 'B',\n",
       "       'H', 'W', 'W', 'W', 'W', 'W', 'W', 'W', 'H', 'W', 'H', 'W', 'W',\n",
       "       'W', 'H', 'W', 'W', 'W', 'W', 'W', 'W', 'H', 'W', 'W', 'W', 'H',\n",
       "       'W', 'W', 'W', 'B', 'W', 'W', 'W', 'W', 'W', 'W', 'W', 'W', 'W',\n",
       "       'W', 'W', 'W', 'W', 'W', 'W', 'W', 'W', 'W', 'W', 'W', 'W', 'W',\n",
       "       'W', 'W', 'W', 'H', 'W', 'H', 'W', 'W', 'W', 'W', 'W', 'W', 'W',\n",
       "       'W', 'B', 'W', 'W', 'W', 'W', 'W', 'W', 'W', 'W', 'W', 'W', 'H',\n",
       "       'W', 'W', 'W', 'W', 'W', 'W', 'W', 'W', 'W', 'W', 'W', 'W', 'W',\n",
       "       'B', 'H', 'W', 'W', 'W', 'W', 'W', 'W', 'B', 'W', 'W', 'W', 'W',\n",
       "       'W', 'W', 'W', 'W', 'W', 'W', 'W', 'W', 'W', 'W', 'W', 'W', 'W',\n",
       "       'W', 'W', 'W', 'B', 'W', 'W', 'W', 'W', 'W', 'W', 'H', 'W', 'W',\n",
       "       'H', 'H', 'W', 'W', 'W', 'H', 'B', 'W', 'W', 'H', 'W', 'W', 'W',\n",
       "       'B', 'W', 'W', 'B', 'H', 'W', 'H', 'W', 'H', 'H', 'W', 'W', 'W',\n",
       "       'W', 'W', 'W', 'W', 'W', 'H', 'W', 'W', 'W', 'H', 'W', 'W', 'W',\n",
       "       'W', 'W', 'W', 'W', 'W', 'B', 'W', 'B', 'W', 'W', 'W', 'W', 'W',\n",
       "       'W', 'W', 'H', 'W', 'W', 'W', 'W', 'W', 'W', 'H', 'W', 'W', 'W',\n",
       "       'W', 'W', 'W', 'H', 'W', 'W', 'W', 'W', 'W', 'W', 'W', 'H', 'W',\n",
       "       'W', 'B', 'B', 'B', 'W', 'W', 'W', 'H', 'W', 'W', 'W', 'H', 'W',\n",
       "       'W', 'W', 'H', 'W', 'W', 'W', 'W', 'H', 'W', 'H', 'W', 'W', 'W',\n",
       "       'B', 'W', 'W', 'W', 'W', 'W', 'W', 'W', 'W', 'W', 'W', 'W', 'W',\n",
       "       'W', 'B', 'W', 'H', 'W', 'W', 'W', 'W', 'W', 'W', 'W', 'W', 'B',\n",
       "       'W', 'W', 'W', 'W', 'W', 'W', 'W', 'H', 'W', 'B', 'W', 'W', 'W',\n",
       "       'W', 'W', 'W', 'W', 'W', 'B', 'W', 'W', 'W', 'W', 'W', 'W', 'B',\n",
       "       'W', 'B', 'W', 'W', 'W', 'W', 'W', 'W', 'W', 'W', 'W', 'W', 'W',\n",
       "       'W', 'W', 'W', 'W', 'B', 'W', 'B', 'W', 'W', 'W', 'W', 'W', 'W',\n",
       "       'B', 'W', 'W', 'W', 'W', 'W', 'W', 'W', 'W', 'W', 'W', 'B', 'W',\n",
       "       'W', 'W', 'B', 'W', 'W', 'W', 'W', 'W', 'B', 'W', 'W', 'W', 'W',\n",
       "       'W', 'W', 'W', 'W', 'W', 'W', 'H', 'W', 'B', 'H', 'W', 'W', 'H',\n",
       "       'W', 'H', 'H', 'W', 'H', 'W', 'W', 'W', 'W', 'W', 'W', 'W', 'W',\n",
       "       'W', 'W', 'B', 'W', 'W', 'W', 'W', 'W', 'W', 'W', 'H', 'W'],\n",
       "      dtype=object)"
      ]
     },
     "execution_count": 78,
     "metadata": {},
     "output_type": "execute_result"
    }
   ],
   "source": [
    "actual_order = labeled_df.df.sort_values(statfeat)[rankfeat]\n",
    "actual_order.values"
   ]
  },
  {
   "cell_type": "markdown",
   "metadata": {},
   "source": [
    "if the data is weighted we do some additional replications, if very large amount of weighting we do an approximation"
   ]
  },
  {
   "cell_type": "code",
   "execution_count": 79,
   "metadata": {},
   "outputs": [
    {
     "data": {
      "text/plain": [
       "array(['B', 'B', 'B', 'B', 'B', 'B', 'B', 'B', 'B', 'B', 'B', 'B', 'B',\n",
       "       'B', 'B', 'B', 'B', 'B', 'B', 'B', 'B', 'B', 'B', 'B', 'B', 'B',\n",
       "       'B', 'B', 'B', 'B', 'B', 'B', 'B', 'B', 'B', 'B', 'B', 'B', 'B',\n",
       "       'B', 'B', 'B', 'B', 'B', 'B', 'B', 'B', 'B', 'B', 'B', 'B', 'B',\n",
       "       'B', 'B', 'B', 'B', 'B', 'B', 'B', 'B', 'B', 'B', 'B', 'B', 'B',\n",
       "       'B', 'B', 'B', 'B', 'B', 'B', 'B', 'B', 'B', 'B', 'B', 'B', 'B',\n",
       "       'B', 'B', 'B', 'B', 'B', 'B', 'B', 'B', 'B', 'B', 'B', 'B', 'B',\n",
       "       'B', 'B', 'B', 'B', 'B', 'B', 'B', 'B', 'B', 'H', 'H', 'H', 'H',\n",
       "       'H', 'H', 'H', 'H', 'H', 'H', 'H', 'H', 'H', 'H', 'H', 'H', 'H',\n",
       "       'H', 'H', 'H', 'H', 'H', 'H', 'H', 'H', 'H', 'H', 'H', 'H', 'H',\n",
       "       'H', 'H', 'H', 'H', 'H', 'H', 'H', 'H', 'H', 'H', 'H', 'H', 'H',\n",
       "       'H', 'H', 'H', 'H', 'H', 'H', 'H', 'H', 'H', 'H', 'H', 'H', 'H',\n",
       "       'H', 'H', 'H', 'H', 'H', 'H', 'H', 'H', 'H', 'H', 'H', 'H', 'H',\n",
       "       'H', 'H', 'H', 'H', 'H', 'H', 'H', 'H', 'H', 'H', 'H', 'H', 'H',\n",
       "       'H', 'H', 'H', 'H', 'H', 'H', 'H', 'H', 'H', 'H', 'H', 'H', 'H',\n",
       "       'H', 'H', 'H', 'H', 'H', 'H', 'H', 'H', 'H', 'H', 'H', 'H', 'H',\n",
       "       'H', 'H', 'H', 'H', 'H', 'H', 'H', 'W', 'W', 'W', 'W', 'W', 'W',\n",
       "       'W', 'W', 'W', 'W', 'W', 'W', 'W', 'W', 'W', 'W', 'W', 'W', 'W',\n",
       "       'W', 'W', 'W', 'W', 'W', 'W', 'W', 'W', 'W', 'W', 'W', 'W', 'W',\n",
       "       'W', 'W', 'W', 'W', 'W', 'W', 'W', 'W', 'W', 'W', 'W', 'W', 'W',\n",
       "       'W', 'W', 'W', 'W', 'W', 'W', 'W', 'W', 'W', 'W', 'W', 'W', 'W',\n",
       "       'W', 'W', 'W', 'W', 'W', 'W', 'W', 'W', 'W', 'W', 'W', 'W', 'W',\n",
       "       'W', 'W', 'W', 'W', 'W', 'W', 'W', 'W', 'W', 'W', 'W', 'W', 'W',\n",
       "       'W', 'W', 'W', 'W', 'W', 'W', 'W', 'W', 'W', 'W', 'W', 'W', 'W',\n",
       "       'W', 'W', 'W', 'W', 'W', 'W', 'W', 'W', 'W', 'W', 'W', 'W', 'W',\n",
       "       'W', 'W', 'W', 'W', 'W', 'W', 'W', 'W', 'W', 'W', 'W', 'W', 'W',\n",
       "       'W', 'W', 'W', 'W', 'W', 'W', 'W', 'W', 'W', 'W', 'W', 'W', 'W',\n",
       "       'W', 'W', 'W', 'W', 'W', 'W', 'W', 'W', 'W', 'W', 'W', 'W', 'W',\n",
       "       'W', 'W', 'W', 'W', 'W', 'W', 'W', 'W', 'W', 'W', 'W', 'W', 'W',\n",
       "       'W', 'W', 'W', 'W', 'W', 'W', 'W', 'W', 'W', 'W', 'W', 'W', 'W',\n",
       "       'W', 'W', 'W', 'W', 'W', 'W', 'W', 'W', 'W', 'W', 'W', 'W', 'W',\n",
       "       'W', 'W', 'W', 'W', 'W', 'W', 'W', 'W', 'W', 'W', 'W', 'W', 'W',\n",
       "       'W', 'W', 'W', 'W', 'W', 'W', 'W', 'W', 'W', 'W', 'W', 'W', 'W',\n",
       "       'W', 'W', 'W', 'W', 'W', 'W', 'W', 'W', 'W', 'W', 'W', 'W', 'W',\n",
       "       'W', 'W', 'W', 'W', 'W', 'W', 'W', 'W', 'W', 'W', 'W', 'W', 'W',\n",
       "       'W', 'W', 'W', 'W', 'W', 'W', 'W', 'W', 'W', 'W', 'W', 'W', 'W',\n",
       "       'W', 'W', 'W', 'W', 'W', 'W', 'W', 'W', 'W', 'W', 'W', 'W', 'W',\n",
       "       'W', 'W', 'W', 'W', 'W', 'W', 'W', 'W', 'W', 'W', 'W', 'W', 'W',\n",
       "       'W', 'W', 'W', 'W', 'W', 'W', 'W', 'W', 'W', 'W', 'W', 'W', 'W',\n",
       "       'W', 'W', 'W', 'W', 'W', 'W', 'W', 'W', 'W', 'W', 'W', 'W', 'W',\n",
       "       'W', 'W', 'W', 'W', 'W', 'W', 'W', 'W', 'W', 'W', 'W', 'W', 'W',\n",
       "       'W', 'W', 'W', 'W', 'W', 'W', 'W', 'W', 'W', 'W', 'W', 'W', 'W',\n",
       "       'W', 'W', 'W', 'W', 'W', 'W', 'W', 'W', 'W', 'W', 'W', 'W', 'W',\n",
       "       'W', 'W', 'W', 'W', 'W', 'W', 'W', 'W', 'W', 'W', 'W', 'W', 'W',\n",
       "       'W', 'W', 'W', 'W', 'W', 'W', 'W', 'W', 'W', 'W', 'W', 'W', 'W',\n",
       "       'W', 'W', 'W', 'W', 'W', 'W', 'W', 'W', 'W', 'W', 'W', 'W', 'W',\n",
       "       'W', 'W', 'W', 'W', 'W', 'W', 'W', 'W', 'W', 'W', 'W', 'W', 'W',\n",
       "       'W', 'W', 'W', 'W', 'W', 'W', 'W', 'W', 'W', 'W', 'W', 'W', 'W',\n",
       "       'W', 'W', 'W', 'W', 'W', 'W', 'W', 'W', 'W', 'W', 'W', 'W', 'W',\n",
       "       'W', 'W', 'W', 'W', 'W', 'W', 'W', 'W', 'W', 'W', 'W', 'W', 'W',\n",
       "       'W', 'W', 'W', 'W', 'W', 'W', 'W', 'W', 'W', 'W', 'W', 'W', 'W',\n",
       "       'W', 'W', 'W', 'W', 'W', 'W', 'W', 'W', 'W', 'W', 'W', 'W', 'W',\n",
       "       'W', 'W', 'W', 'W', 'W', 'W', 'W', 'W', 'W', 'W', 'W', 'W', 'W',\n",
       "       'W', 'W', 'W', 'W', 'W', 'W', 'W', 'W', 'W', 'W', 'W', 'W', 'W',\n",
       "       'W', 'W', 'W', 'W', 'W', 'W', 'W', 'W', 'W', 'W', 'W', 'W', 'W',\n",
       "       'W', 'W', 'W', 'W', 'W', 'W', 'W', 'W', 'W', 'W', 'W', 'W', 'W',\n",
       "       'W', 'W', 'W', 'W', 'W', 'W', 'W', 'W', 'W', 'W', 'W', 'W', 'W',\n",
       "       'W', 'W', 'W', 'W', 'W', 'W', 'W', 'W', 'W', 'W', 'W', 'W', 'W',\n",
       "       'W', 'W', 'W', 'W', 'W', 'W', 'W', 'W', 'W', 'W', 'W', 'W', 'W',\n",
       "       'W', 'W', 'W', 'W', 'W', 'W', 'W', 'W', 'W', 'W', 'W', 'W', 'W',\n",
       "       'W', 'W', 'W', 'W', 'W', 'W', 'W', 'W', 'W', 'W', 'W', 'W', 'W',\n",
       "       'W', 'W', 'W', 'W', 'W', 'W', 'W', 'W', 'W', 'W', 'W', 'W', 'W',\n",
       "       'W', 'W', 'W', 'W', 'W', 'W', 'W', 'W', 'W', 'W', 'W', 'W', 'W',\n",
       "       'W', 'W', 'W', 'W', 'W', 'W', 'W', 'W', 'W', 'W', 'W', 'W', 'W',\n",
       "       'W', 'W', 'W', 'W', 'W', 'W', 'W', 'W', 'W', 'W', 'W', 'W', 'W',\n",
       "       'W', 'W', 'W', 'W', 'W', 'W', 'W', 'W', 'W', 'W', 'W', 'W', 'W',\n",
       "       'W', 'W', 'W', 'W', 'W', 'W', 'W', 'W', 'W', 'W', 'W', 'W', 'W',\n",
       "       'W', 'W', 'W', 'W', 'W', 'W', 'W', 'W', 'W', 'W', 'W', 'W', 'W',\n",
       "       'W', 'W', 'W', 'W', 'W', 'W', 'W', 'W', 'W', 'W', 'W', 'W', 'W',\n",
       "       'W', 'W', 'W', 'W', 'W', 'W', 'W', 'W', 'W', 'W', 'W', 'W', 'W',\n",
       "       'W', 'W', 'W', 'W', 'W', 'W', 'W', 'W', 'W', 'W', 'W', 'W', 'W',\n",
       "       'W', 'W', 'W', 'W', 'W', 'W', 'W', 'W', 'W', 'W', 'W', 'W', 'W',\n",
       "       'W', 'W', 'W', 'W', 'W', 'W', 'W', 'W', 'W', 'W', 'W', 'W', 'W',\n",
       "       'W', 'W', 'W', 'W', 'W', 'W', 'W', 'W', 'W', 'W', 'W', 'W', 'W',\n",
       "       'W', 'W', 'W', 'W', 'W', 'W', 'W', 'W', 'W', 'W', 'W', 'W', 'W',\n",
       "       'W', 'W', 'W', 'W', 'W', 'W', 'W', 'W', 'W', 'W', 'W', 'W', 'W',\n",
       "       'W', 'W', 'W', 'W', 'W', 'W', 'W', 'W', 'W', 'W', 'W', 'W'],\n",
       "      dtype=object)"
      ]
     },
     "execution_count": 79,
     "metadata": {},
     "output_type": "execute_result"
    }
   ],
   "source": [
    "counts = labeled_df.df.groupby([rankfeat])[statfeat].count()\n",
    "rep_counts = [int(counts[ov]) for ov in ordered_rank_feat]\n",
    "Trend_order = np.repeat(ordered_rank_feat,rep_counts)\n",
    "Trend_order"
   ]
  },
  {
   "cell_type": "code",
   "execution_count": 80,
   "metadata": {},
   "outputs": [
    {
     "data": {
      "text/plain": [
       "0.022"
      ]
     },
     "execution_count": 80,
     "metadata": {},
     "output_type": "execute_result"
    }
   ],
   "source": [
    "# map the possibly string order lists into numbers\n",
    "numeric_map = {a:i for i,a in enumerate(actual_order)}\n",
    "num_acutal = [numeric_map[a] for a in actual_order]\n",
    "num_Trend = [numeric_map[b] for b in Trend_order]\n",
    "# compute and round\n",
    "tau,p = kendalltau(num_Trend,num_acutal)\n",
    "tau_qual = np.abs(np.round(tau,4))\n",
    "tau_qual"
   ]
  },
  {
   "cell_type": "markdown",
   "metadata": {},
   "source": [
    "To get intution, we'll make a plot "
   ]
  },
  {
   "cell_type": "code",
   "execution_count": null,
   "metadata": {},
   "outputs": [],
   "source": [
    "num_Trend"
   ]
  },
  {
   "cell_type": "code",
   "execution_count": 84,
   "metadata": {},
   "outputs": [
    {
     "data": {
      "text/html": [
       "<div>\n",
       "<style scoped>\n",
       "    .dataframe tbody tr th:only-of-type {\n",
       "        vertical-align: middle;\n",
       "    }\n",
       "\n",
       "    .dataframe tbody tr th {\n",
       "        vertical-align: top;\n",
       "    }\n",
       "\n",
       "    .dataframe thead th {\n",
       "        text-align: right;\n",
       "    }\n",
       "</style>\n",
       "<table border=\"1\" class=\"dataframe\">\n",
       "  <thead>\n",
       "    <tr style=\"text-align: right;\">\n",
       "      <th>variable</th>\n",
       "      <th>department</th>\n",
       "      <th>gender</th>\n",
       "      <th>decision</th>\n",
       "      <th>race</th>\n",
       "      <th>test</th>\n",
       "    </tr>\n",
       "  </thead>\n",
       "  <tbody>\n",
       "    <tr>\n",
       "      <th>0</th>\n",
       "      <td>3</td>\n",
       "      <td>M</td>\n",
       "      <td>1</td>\n",
       "      <td>W</td>\n",
       "      <td>90</td>\n",
       "    </tr>\n",
       "    <tr>\n",
       "      <th>1</th>\n",
       "      <td>3</td>\n",
       "      <td>M</td>\n",
       "      <td>1</td>\n",
       "      <td>H</td>\n",
       "      <td>90</td>\n",
       "    </tr>\n",
       "    <tr>\n",
       "      <th>2</th>\n",
       "      <td>0</td>\n",
       "      <td>F</td>\n",
       "      <td>0</td>\n",
       "      <td>W</td>\n",
       "      <td>70</td>\n",
       "    </tr>\n",
       "    <tr>\n",
       "      <th>3</th>\n",
       "      <td>1</td>\n",
       "      <td>F</td>\n",
       "      <td>0</td>\n",
       "      <td>H</td>\n",
       "      <td>70</td>\n",
       "    </tr>\n",
       "    <tr>\n",
       "      <th>4</th>\n",
       "      <td>3</td>\n",
       "      <td>M</td>\n",
       "      <td>1</td>\n",
       "      <td>W</td>\n",
       "      <td>90</td>\n",
       "    </tr>\n",
       "  </tbody>\n",
       "</table>\n",
       "</div>"
      ],
      "text/plain": [
       "variable  department gender  decision race  test\n",
       "0                  3      M         1    W    90\n",
       "1                  3      M         1    H    90\n",
       "2                  0      F         0    W    70\n",
       "3                  1      F         0    H    70\n",
       "4                  3      M         1    W    90"
      ]
     },
     "execution_count": 84,
     "metadata": {},
     "output_type": "execute_result"
    }
   ],
   "source": [
    "test_score = {'F':70,'M':90}\n",
    "grade_exact = lambda row: test_score[row['gender']]\n",
    "labeled_df.df['test'] = labeled_df.df.apply(grade_exact,axis=1)\n",
    "labeled_df.df.head()"
   ]
  },
  {
   "cell_type": "code",
   "execution_count": 85,
   "metadata": {},
   "outputs": [
    {
     "data": {
      "text/plain": [
       "1.0"
      ]
     },
     "execution_count": 85,
     "metadata": {},
     "output_type": "execute_result"
    }
   ],
   "source": [
    "rankfeat = 'gender'\n",
    "statfeat = 'test'\n",
    "stat_df = labeled_df.df.groupby(rankfeat)[statfeat].mean()\n",
    "stat_df.sort_values(inplace=True)\n",
    "ordered_rank_feat = stat_df.index.values\n",
    "actual_order = labeled_df.df.sort_values(statfeat)[rankfeat]\n",
    "\n",
    "counts = labeled_df.df.groupby([rankfeat])[statfeat].count()\n",
    "rep_counts = [int(counts[ov]) for ov in ordered_rank_feat]\n",
    "Trend_order = np.repeat(ordered_rank_feat,rep_counts)\n",
    "numeric_map = {a:i for i,a in enumerate(actual_order)}\n",
    "num_acutal = [numeric_map[a] for a in actual_order]\n",
    "num_Trend = [numeric_map[b] for b in Trend_order]\n",
    "# compute and round\n",
    "tau,p = kendalltau(num_Trend,num_acutal)\n",
    "tau_qual = np.abs(np.round(tau,4))\n",
    "tau_qual"
   ]
  },
  {
   "cell_type": "code",
   "execution_count": 101,
   "metadata": {},
   "outputs": [
    {
     "data": {
      "text/html": [
       "<div>\n",
       "<style scoped>\n",
       "    .dataframe tbody tr th:only-of-type {\n",
       "        vertical-align: middle;\n",
       "    }\n",
       "\n",
       "    .dataframe tbody tr th {\n",
       "        vertical-align: top;\n",
       "    }\n",
       "\n",
       "    .dataframe thead th {\n",
       "        text-align: right;\n",
       "    }\n",
       "</style>\n",
       "<table border=\"1\" class=\"dataframe\">\n",
       "  <thead>\n",
       "    <tr style=\"text-align: right;\">\n",
       "      <th>variable</th>\n",
       "      <th>department</th>\n",
       "      <th>gender</th>\n",
       "      <th>decision</th>\n",
       "      <th>race</th>\n",
       "      <th>test</th>\n",
       "      <th>noisy_test</th>\n",
       "    </tr>\n",
       "  </thead>\n",
       "  <tbody>\n",
       "    <tr>\n",
       "      <th>0</th>\n",
       "      <td>3</td>\n",
       "      <td>M</td>\n",
       "      <td>1</td>\n",
       "      <td>W</td>\n",
       "      <td>90</td>\n",
       "      <td>96.706467</td>\n",
       "    </tr>\n",
       "    <tr>\n",
       "      <th>1</th>\n",
       "      <td>3</td>\n",
       "      <td>M</td>\n",
       "      <td>1</td>\n",
       "      <td>H</td>\n",
       "      <td>90</td>\n",
       "      <td>92.847975</td>\n",
       "    </tr>\n",
       "    <tr>\n",
       "      <th>2</th>\n",
       "      <td>0</td>\n",
       "      <td>F</td>\n",
       "      <td>0</td>\n",
       "      <td>W</td>\n",
       "      <td>70</td>\n",
       "      <td>73.040397</td>\n",
       "    </tr>\n",
       "    <tr>\n",
       "      <th>3</th>\n",
       "      <td>1</td>\n",
       "      <td>F</td>\n",
       "      <td>0</td>\n",
       "      <td>H</td>\n",
       "      <td>70</td>\n",
       "      <td>69.754128</td>\n",
       "    </tr>\n",
       "    <tr>\n",
       "      <th>4</th>\n",
       "      <td>3</td>\n",
       "      <td>M</td>\n",
       "      <td>1</td>\n",
       "      <td>W</td>\n",
       "      <td>90</td>\n",
       "      <td>98.921457</td>\n",
       "    </tr>\n",
       "  </tbody>\n",
       "</table>\n",
       "</div>"
      ],
      "text/plain": [
       "variable  department gender  decision race  test  noisy_test\n",
       "0                  3      M         1    W    90   96.706467\n",
       "1                  3      M         1    H    90   92.847975\n",
       "2                  0      F         0    W    70   73.040397\n",
       "3                  1      F         0    H    70   69.754128\n",
       "4                  3      M         1    W    90   98.921457"
      ]
     },
     "execution_count": 101,
     "metadata": {},
     "output_type": "execute_result"
    }
   ],
   "source": [
    "grade_noisy = lambda row: test_score[row['gender']] + 5*np.random.normal()\n",
    "labeled_df.df['noisy_test'] = labeled_df.df.apply(grade_noisy,axis=1)\n",
    "labeled_df.df.head()"
   ]
  },
  {
   "cell_type": "code",
   "execution_count": 102,
   "metadata": {},
   "outputs": [
    {
     "data": {
      "text/plain": [
       "0.9628"
      ]
     },
     "execution_count": 102,
     "metadata": {},
     "output_type": "execute_result"
    }
   ],
   "source": [
    "rankfeat = 'gender'\n",
    "statfeat = 'noisy_test'\n",
    "stat_df = labeled_df.df.groupby(rankfeat)[statfeat].mean()\n",
    "stat_df.sort_values(inplace=True)\n",
    "ordered_rank_feat = stat_df.index.values\n",
    "actual_order = labeled_df.df.sort_values(statfeat)[rankfeat]\n",
    "\n",
    "counts = labeled_df.df.groupby([rankfeat])[statfeat].count()\n",
    "rep_counts = [int(counts[ov]) for ov in ordered_rank_feat]\n",
    "Trend_order = np.repeat(ordered_rank_feat,rep_counts)\n",
    "numeric_map = {a:i for i,a in enumerate(actual_order)}\n",
    "num_acutal = [numeric_map[a] for a in actual_order]\n",
    "num_Trend = [numeric_map[b] for b in Trend_order]\n",
    "# compute and round\n",
    "tau,p = kendalltau(num_Trend,num_acutal)\n",
    "tau_qual = np.abs(np.round(tau,4))\n",
    "tau_qual"
   ]
  },
  {
   "cell_type": "code",
   "execution_count": 103,
   "metadata": {},
   "outputs": [
    {
     "data": {
      "text/plain": [
       "gender\n",
       "F    69.770914\n",
       "M    90.478628\n",
       "Name: noisy_test, dtype: float64"
      ]
     },
     "execution_count": 103,
     "metadata": {},
     "output_type": "execute_result"
    }
   ],
   "source": [
    "stat_df"
   ]
  },
  {
   "cell_type": "code",
   "execution_count": 108,
   "metadata": {},
   "outputs": [
    {
     "name": "stdout",
     "output_type": "stream",
     "text": [
      "gender\n",
      "F    70.250329\n",
      "M    90.094069\n",
      "Name: noisy_test5, dtype: float64\n",
      "spread 5\n",
      "tau score 0.9669\n",
      "gender\n",
      "F    69.846963\n",
      "M    89.828831\n",
      "Name: noisy_test10, dtype: float64\n",
      "spread 10\n",
      "tau score 0.6649\n",
      "gender\n",
      "F    68.155556\n",
      "M    90.210926\n",
      "Name: noisy_test15, dtype: float64\n",
      "spread 15\n",
      "tau score 0.5284\n",
      "gender\n",
      "F    69.519778\n",
      "M    90.023689\n",
      "Name: noisy_test20, dtype: float64\n",
      "spread 20\n",
      "tau score 0.3877\n"
     ]
    }
   ],
   "source": [
    "\n",
    "rankfeat = 'gender'\n",
    "\n",
    "for s in [5,10,15,20]:\n",
    "    grade_noisy = lambda row: test_score[row['gender']] + s*np.random.normal()\n",
    "    statfeat = 'noisy_test'+str(s)\n",
    "    labeled_df.df[statfeat] = labeled_df.df.apply(grade_noisy,axis=1)\n",
    "\n",
    "    stat_df = labeled_df.df.groupby(rankfeat)[statfeat].mean()\n",
    "    stat_df.sort_values(inplace=True)\n",
    "    print(stat_df)\n",
    "    ordered_rank_feat = stat_df.index.values\n",
    "    actual_order = labeled_df.df.sort_values(statfeat)[rankfeat]\n",
    "\n",
    "    counts = labeled_df.df.groupby([rankfeat])[statfeat].count()\n",
    "    rep_counts = [int(counts[ov]) for ov in ordered_rank_feat]\n",
    "    Trend_order = np.repeat(ordered_rank_feat,rep_counts)\n",
    "    numeric_map = {a:i for i,a in enumerate(actual_order)}\n",
    "    num_acutal = [numeric_map[a] for a in actual_order]\n",
    "    num_Trend = [numeric_map[b] for b in Trend_order]\n",
    "    # compute and round\n",
    "    tau,p = kendalltau(num_Trend,num_acutal)\n",
    "    tau_qual = np.abs(np.round(tau,4))\n",
    "    print('spread',s)\n",
    "    print('tau score',tau_qual)"
   ]
  },
  {
   "cell_type": "markdown",
   "metadata": {},
   "source": [
    "As the variance increases, the scores are more mixed and the score goes down even though the means stay the same"
   ]
  },
  {
   "cell_type": "code",
   "execution_count": 116,
   "metadata": {},
   "outputs": [
    {
     "data": {
      "text/html": [
       "<div>\n",
       "<style scoped>\n",
       "    .dataframe tbody tr th:only-of-type {\n",
       "        vertical-align: middle;\n",
       "    }\n",
       "\n",
       "    .dataframe tbody tr th {\n",
       "        vertical-align: top;\n",
       "    }\n",
       "\n",
       "    .dataframe thead th {\n",
       "        text-align: right;\n",
       "    }\n",
       "</style>\n",
       "<table border=\"1\" class=\"dataframe\">\n",
       "  <thead>\n",
       "    <tr style=\"text-align: right;\">\n",
       "      <th>variable</th>\n",
       "      <th>department</th>\n",
       "      <th>gender</th>\n",
       "      <th>decision</th>\n",
       "      <th>race</th>\n",
       "      <th>test</th>\n",
       "      <th>noisy_test</th>\n",
       "      <th>noisy_test5</th>\n",
       "      <th>noisy_test10</th>\n",
       "      <th>noisy_test15</th>\n",
       "      <th>noisy_test20</th>\n",
       "      <th>biased_admit</th>\n",
       "    </tr>\n",
       "  </thead>\n",
       "  <tbody>\n",
       "    <tr>\n",
       "      <th>0</th>\n",
       "      <td>3</td>\n",
       "      <td>M</td>\n",
       "      <td>1</td>\n",
       "      <td>W</td>\n",
       "      <td>90</td>\n",
       "      <td>84.941389</td>\n",
       "      <td>89.093489</td>\n",
       "      <td>94.735379</td>\n",
       "      <td>86.872916</td>\n",
       "      <td>79.389392</td>\n",
       "      <td>1</td>\n",
       "    </tr>\n",
       "    <tr>\n",
       "      <th>1</th>\n",
       "      <td>3</td>\n",
       "      <td>M</td>\n",
       "      <td>1</td>\n",
       "      <td>H</td>\n",
       "      <td>90</td>\n",
       "      <td>85.774722</td>\n",
       "      <td>77.539657</td>\n",
       "      <td>93.598838</td>\n",
       "      <td>83.260359</td>\n",
       "      <td>106.085155</td>\n",
       "      <td>1</td>\n",
       "    </tr>\n",
       "    <tr>\n",
       "      <th>2</th>\n",
       "      <td>0</td>\n",
       "      <td>F</td>\n",
       "      <td>0</td>\n",
       "      <td>W</td>\n",
       "      <td>70</td>\n",
       "      <td>74.622318</td>\n",
       "      <td>79.535317</td>\n",
       "      <td>72.011845</td>\n",
       "      <td>49.304987</td>\n",
       "      <td>101.351116</td>\n",
       "      <td>0</td>\n",
       "    </tr>\n",
       "    <tr>\n",
       "      <th>3</th>\n",
       "      <td>1</td>\n",
       "      <td>F</td>\n",
       "      <td>0</td>\n",
       "      <td>H</td>\n",
       "      <td>70</td>\n",
       "      <td>87.202168</td>\n",
       "      <td>70.315282</td>\n",
       "      <td>66.525876</td>\n",
       "      <td>58.040736</td>\n",
       "      <td>62.434925</td>\n",
       "      <td>0</td>\n",
       "    </tr>\n",
       "    <tr>\n",
       "      <th>4</th>\n",
       "      <td>3</td>\n",
       "      <td>M</td>\n",
       "      <td>1</td>\n",
       "      <td>W</td>\n",
       "      <td>90</td>\n",
       "      <td>77.783862</td>\n",
       "      <td>91.411126</td>\n",
       "      <td>81.714048</td>\n",
       "      <td>89.374329</td>\n",
       "      <td>106.586728</td>\n",
       "      <td>1</td>\n",
       "    </tr>\n",
       "  </tbody>\n",
       "</table>\n",
       "</div>"
      ],
      "text/plain": [
       "variable  department gender  decision race  test  noisy_test  noisy_test5  \\\n",
       "0                  3      M         1    W    90   84.941389    89.093489   \n",
       "1                  3      M         1    H    90   85.774722    77.539657   \n",
       "2                  0      F         0    W    70   74.622318    79.535317   \n",
       "3                  1      F         0    H    70   87.202168    70.315282   \n",
       "4                  3      M         1    W    90   77.783862    91.411126   \n",
       "\n",
       "variable  noisy_test10  noisy_test15  noisy_test20  biased_admit  \n",
       "0            94.735379     86.872916     79.389392             1  \n",
       "1            93.598838     83.260359    106.085155             1  \n",
       "2            72.011845     49.304987    101.351116             0  \n",
       "3            66.525876     58.040736     62.434925             0  \n",
       "4            81.714048     89.374329    106.586728             1  "
      ]
     },
     "execution_count": 116,
     "metadata": {},
     "output_type": "execute_result"
    }
   ],
   "source": [
    "p = {'M':.8,'F':.1}\n",
    "# p_admit = [p, 1-p]\n",
    "biased_admit = lambda row: np.random.choice([1,0],p=[p[row['gender']],1-p[row['gender']]])\n",
    "labeled_df.df['biased_admit'] = labeled_df.df.apply(biased_admit,axis=1)\n",
    "labeled_df.df.head()"
   ]
  },
  {
   "cell_type": "code",
   "execution_count": 117,
   "metadata": {},
   "outputs": [
    {
     "data": {
      "text/plain": [
       "0.6401"
      ]
     },
     "execution_count": 117,
     "metadata": {},
     "output_type": "execute_result"
    }
   ],
   "source": [
    "rankfeat = 'gender'\n",
    "statfeat = 'biased_admit'\n",
    "stat_df = labeled_df.df.groupby(rankfeat)[statfeat].mean()\n",
    "stat_df.sort_values(inplace=True)\n",
    "ordered_rank_feat = stat_df.index.values\n",
    "actual_order = labeled_df.df.sort_values(statfeat)[rankfeat]\n",
    "\n",
    "counts = labeled_df.df.groupby([rankfeat])[statfeat].count()\n",
    "rep_counts = [int(counts[ov]) for ov in ordered_rank_feat]\n",
    "Trend_order = np.repeat(ordered_rank_feat,rep_counts)\n",
    "numeric_map = {a:i for i,a in enumerate(actual_order)}\n",
    "num_acutal = [numeric_map[a] for a in actual_order]\n",
    "num_Trend = [numeric_map[b] for b in Trend_order]\n",
    "# compute and round\n",
    "tau,p = kendalltau(num_Trend,num_acutal)\n",
    "tau_qual = np.abs(np.round(tau,4))\n",
    "tau_qual"
   ]
  },
  {
   "cell_type": "code",
   "execution_count": 118,
   "metadata": {},
   "outputs": [
    {
     "data": {
      "text/plain": [
       "gender\n",
       "F    0.088020\n",
       "M    0.825719\n",
       "Name: biased_admit, dtype: float64"
      ]
     },
     "execution_count": 118,
     "metadata": {},
     "output_type": "execute_result"
    }
   ],
   "source": [
    "stat_df"
   ]
  },
  {
   "cell_type": "markdown",
   "metadata": {},
   "source": [
    "We can get high scores even for binary decisions if it's really bad, but mostly these will not be very high and will vary with the number of rows"
   ]
  },
  {
   "cell_type": "code",
   "execution_count": null,
   "metadata": {},
   "outputs": [],
   "source": []
  }
 ],
 "metadata": {
  "kernelspec": {
   "display_name": "Python 3",
   "language": "python",
   "name": "python3"
  },
  "language_info": {
   "codemirror_mode": {
    "name": "ipython",
    "version": 3
   },
   "file_extension": ".py",
   "mimetype": "text/x-python",
   "name": "python",
   "nbconvert_exporter": "python",
   "pygments_lexer": "ipython3",
   "version": "3.6.4"
  }
 },
 "nbformat": 4,
 "nbformat_minor": 2
}
