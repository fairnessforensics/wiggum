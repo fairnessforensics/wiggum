{
 "cells": [
  {
   "cell_type": "markdown",
   "metadata": {},
   "source": [
    "# Clustering for SP detection\n",
    "\n",
    " Will likely need multiple clustering, that is multiple alternative clusterings\n",
    " \n",
    " "
   ]
  },
  {
   "cell_type": "code",
   "execution_count": 1,
   "metadata": {},
   "outputs": [
    {
     "ename": "ModuleNotFoundError",
     "evalue": "No module named 'fairsim'",
     "output_type": "error",
     "traceback": [
      "\u001b[0;31m---------------------------------------------------------------------------\u001b[0m",
      "\u001b[0;31mModuleNotFoundError\u001b[0m                       Traceback (most recent call last)",
      "\u001b[0;32m<ipython-input-1-215a791607f3>\u001b[0m in \u001b[0;36m<module>\u001b[0;34m()\u001b[0m\n\u001b[1;32m     10\u001b[0m \u001b[0;34m\u001b[0m\u001b[0m\n\u001b[1;32m     11\u001b[0m \u001b[0;32mimport\u001b[0m \u001b[0mdetect_simpsons_paradox\u001b[0m \u001b[0;32mas\u001b[0m \u001b[0mdsp\u001b[0m\u001b[0;34m\u001b[0m\u001b[0m\n\u001b[0;32m---> 12\u001b[0;31m \u001b[0;32mimport\u001b[0m \u001b[0mfairsim\u001b[0m\u001b[0;34m\u001b[0m\u001b[0m\n\u001b[0m\u001b[1;32m     13\u001b[0m \u001b[0;32mfrom\u001b[0m \u001b[0msp_data_util\u001b[0m \u001b[0;32mimport\u001b[0m \u001b[0msp_plot\u001b[0m\u001b[0;34m,\u001b[0m\u001b[0mplot_clustermat\u001b[0m\u001b[0;34m\u001b[0m\u001b[0m\n\u001b[1;32m     14\u001b[0m \u001b[0;32mimport\u001b[0m \u001b[0mitertools\u001b[0m \u001b[0;32mas\u001b[0m \u001b[0mitert\u001b[0m\u001b[0;34m\u001b[0m\u001b[0m\n",
      "\u001b[0;31mModuleNotFoundError\u001b[0m: No module named 'fairsim'"
     ]
    }
   ],
   "source": [
    "import numpy as np\n",
    "import pandas as pd\n",
    "import seaborn as sns\n",
    "import scipy.stats as stats\n",
    "import scipy.special as scisp\n",
    "import matplotlib.pyplot as plt\n",
    "from sklearn.cluster import KMeans\n",
    "from sklearn import mixture\n",
    "import sklearn\n",
    "\n",
    "import wiggum as wg\n",
    "import fairsim\n",
    "from sp_data_util import sp_plot,plot_clustermat\n",
    "import itertools as itert\n",
    "import string"
   ]
  },
  {
   "cell_type": "code",
   "execution_count": 2,
   "metadata": {},
   "outputs": [
    {
     "name": "stdout",
     "output_type": "stream",
     "text": [
      "200\n",
      "6\n"
     ]
    },
    {
     "data": {
      "text/html": [
       "<div>\n",
       "<style scoped>\n",
       "    .dataframe tbody tr th:only-of-type {\n",
       "        vertical-align: middle;\n",
       "    }\n",
       "\n",
       "    .dataframe tbody tr th {\n",
       "        vertical-align: top;\n",
       "    }\n",
       "\n",
       "    .dataframe thead th {\n",
       "        text-align: right;\n",
       "    }\n",
       "</style>\n",
       "<table border=\"1\" class=\"dataframe\">\n",
       "  <thead>\n",
       "    <tr style=\"text-align: right;\">\n",
       "      <th></th>\n",
       "      <th>x1</th>\n",
       "      <th>x2</th>\n",
       "      <th>x3</th>\n",
       "      <th>x4</th>\n",
       "      <th>x5</th>\n",
       "      <th>x6</th>\n",
       "      <th>A</th>\n",
       "      <th>B</th>\n",
       "      <th>C</th>\n",
       "    </tr>\n",
       "  </thead>\n",
       "  <tbody>\n",
       "    <tr>\n",
       "      <th>0</th>\n",
       "      <td>2.047880</td>\n",
       "      <td>8.701604</td>\n",
       "      <td>8.627140</td>\n",
       "      <td>8.927332</td>\n",
       "      <td>9.383393</td>\n",
       "      <td>10.324366</td>\n",
       "      <td>1</td>\n",
       "      <td>1</td>\n",
       "      <td>3</td>\n",
       "    </tr>\n",
       "    <tr>\n",
       "      <th>1</th>\n",
       "      <td>10.873305</td>\n",
       "      <td>10.519449</td>\n",
       "      <td>9.985950</td>\n",
       "      <td>8.823584</td>\n",
       "      <td>13.290823</td>\n",
       "      <td>8.319600</td>\n",
       "      <td>2</td>\n",
       "      <td>1</td>\n",
       "      <td>0</td>\n",
       "    </tr>\n",
       "    <tr>\n",
       "      <th>2</th>\n",
       "      <td>4.301740</td>\n",
       "      <td>6.116435</td>\n",
       "      <td>10.305578</td>\n",
       "      <td>7.906887</td>\n",
       "      <td>5.604077</td>\n",
       "      <td>7.886776</td>\n",
       "      <td>1</td>\n",
       "      <td>1</td>\n",
       "      <td>4</td>\n",
       "    </tr>\n",
       "    <tr>\n",
       "      <th>3</th>\n",
       "      <td>3.132307</td>\n",
       "      <td>8.080181</td>\n",
       "      <td>10.887375</td>\n",
       "      <td>7.704150</td>\n",
       "      <td>7.821256</td>\n",
       "      <td>11.793306</td>\n",
       "      <td>1</td>\n",
       "      <td>1</td>\n",
       "      <td>3</td>\n",
       "    </tr>\n",
       "    <tr>\n",
       "      <th>4</th>\n",
       "      <td>4.574181</td>\n",
       "      <td>6.257364</td>\n",
       "      <td>13.136600</td>\n",
       "      <td>6.723771</td>\n",
       "      <td>13.696485</td>\n",
       "      <td>8.050787</td>\n",
       "      <td>1</td>\n",
       "      <td>1</td>\n",
       "      <td>0</td>\n",
       "    </tr>\n",
       "  </tbody>\n",
       "</table>\n",
       "</div>"
      ],
      "text/plain": [
       "          x1         x2         x3        x4         x5         x6  A  B  C\n",
       "0   2.047880   8.701604   8.627140  8.927332   9.383393  10.324366  1  1  3\n",
       "1  10.873305  10.519449   9.985950  8.823584  13.290823   8.319600  2  1  0\n",
       "2   4.301740   6.116435  10.305578  7.906887   5.604077   7.886776  1  1  4\n",
       "3   3.132307   8.080181  10.887375  7.704150   7.821256  11.793306  1  1  3\n",
       "4   4.574181   6.257364  13.136600  6.723771  13.696485   8.050787  1  1  0"
      ]
     },
     "execution_count": 2,
     "metadata": {},
     "output_type": "execute_result"
    }
   ],
   "source": [
    "\n",
    "r_clusters = -.9  # correlation coefficient of clusters\n",
    "cluster_spread = [.6,.8,.5] # pearson correlation of means\n",
    "p_sp_clusters = .75 # portion of clusters with SP \n",
    "k = [3, 2,5] # number of clusters\n",
    "cluster_size = [7,1]\n",
    "domain_range = [0, 20, 0, 20]\n",
    "N = 200 # number of points\n",
    "p_clusters =  [[1.0/k_i]*k_i for k_i in k] \n",
    "n_views = 3\n",
    "\n",
    "many_sp_df_diff = spdata.geometric_indep_views_gmm_sp(n_views,r_clusters,cluster_size,cluster_spread,p_sp_clusters,\n",
    "                domain_range,k,N,p_clusters,numeric_categorical=True)\n",
    "\n",
    "sp_design_list = [('x1','x2','A'),('x3','x4','B'), ('x5','x6','C')]\n",
    "many_sp_df_diff.head()"
   ]
  },
  {
   "cell_type": "code",
   "execution_count": 3,
   "metadata": {},
   "outputs": [
    {
     "data": {
      "image/png": "[encoded data removed]",
      "text/plain": [
       "<matplotlib.figure.Figure at 0x7fda78762438>"
      ]
     },
     "metadata": {},
     "output_type": "display_data"
    },
    {
     "data": {
      "image/png": "[encoded data removed]",
      "text/plain": [
       "<matplotlib.figure.Figure at 0x7fda312f3c18>"
      ]
     },
     "metadata": {},
     "output_type": "display_data"
    },
    {
     "data": {
      "image/png": "[encoded data removed]",
      "text/plain": [
       "<matplotlib.figure.Figure at 0x7fda31270400>"
      ]
     },
     "metadata": {},
     "output_type": "display_data"
    }
   ],
   "source": [
    "sp_plot(many_sp_df_diff,'x1','x2','A')\n",
    "sp_plot(many_sp_df_diff,'x3','x4','B')\n",
    "sp_plot(many_sp_df_diff,'x5','x6','C')\n"
   ]
  },
  {
   "cell_type": "markdown",
   "metadata": {},
   "source": [
    "We can represent the relationship between the categorical and continuous variables with a binary matrix, that indicates which categorical varialbes represent known clusters in continuous dimensions.  For the above data this is known and specified a priori, at least mostly.  Since they are draw fully independently, it is possible that ther is a high degree of mutual information between two or more categorical variables and then there would be some errors in the matrix below"
   ]
  },
  {
   "cell_type": "code",
   "execution_count": 4,
   "metadata": {},
   "outputs": [
    {
     "data": {
      "image/png": "[encoded data removed]",
      "text/plain": [
       "<matplotlib.figure.Figure at 0x7fda3125ef60>"
      ]
     },
     "metadata": {},
     "output_type": "display_data"
    }
   ],
   "source": [
    "z = [[1, 0, 0],[1, 0, 0],[0,1,0],[0,1,0],[0,0,1],[0,0,1]]\n",
    "ax = plot_clustermat(z,'list')\n",
    "plt.xlabel('categorical variables')\n",
    "plt.gca().xaxis.set_label_position('top') \n",
    "plt.xticks([0,1,2],['A','B','C'])\n",
    "plt.ylabel('continuous variables')\n",
    "plt.yticks(range(n_views*2),['x'+ str(i) for i in range(n_views*2)]);"
   ]
  },
  {
   "cell_type": "markdown",
   "metadata": {},
   "source": [
    "We can try clustering into the total number clusters across all views and check what that recovers"
   ]
  },
  {
   "cell_type": "code",
   "execution_count": 5,
   "metadata": {},
   "outputs": [],
   "source": [
    "kmeans = sklearn.cluster.KMeans(n_clusters=sum(k), random_state=0).fit(many_sp_df_diff.T.loc['x1':'x6'].T)\n",
    "many_sp_df_diff['kmeans'] = kmeans.labels_\n"
   ]
  },
  {
   "cell_type": "markdown",
   "metadata": {},
   "source": [
    "If these clusters relate to the true clusters each one of these clusters would have a single value for each of the true clusters.  For example `kmeans = 0` might correspond to A =0, B=0, C =0. So we can look at the std of each of the categorical variables when we group the data by our found clusters to see how well it works to just cluster across all dimensions"
   ]
  },
  {
   "cell_type": "code",
   "execution_count": 6,
   "metadata": {},
   "outputs": [
    {
     "data": {
      "text/html": [
       "<div>\n",
       "<style scoped>\n",
       "    .dataframe tbody tr th:only-of-type {\n",
       "        vertical-align: middle;\n",
       "    }\n",
       "\n",
       "    .dataframe tbody tr th {\n",
       "        vertical-align: top;\n",
       "    }\n",
       "\n",
       "    .dataframe thead th {\n",
       "        text-align: right;\n",
       "    }\n",
       "</style>\n",
       "<table border=\"1\" class=\"dataframe\">\n",
       "  <thead>\n",
       "    <tr style=\"text-align: right;\">\n",
       "      <th></th>\n",
       "      <th>A</th>\n",
       "      <th>B</th>\n",
       "      <th>C</th>\n",
       "    </tr>\n",
       "    <tr>\n",
       "      <th>kmeans</th>\n",
       "      <th></th>\n",
       "      <th></th>\n",
       "      <th></th>\n",
       "    </tr>\n",
       "  </thead>\n",
       "  <tbody>\n",
       "    <tr>\n",
       "      <th>0</th>\n",
       "      <td>1.028992</td>\n",
       "      <td>0.000000</td>\n",
       "      <td>0.000000</td>\n",
       "    </tr>\n",
       "    <tr>\n",
       "      <th>1</th>\n",
       "      <td>1.012122</td>\n",
       "      <td>0.000000</td>\n",
       "      <td>1.288788</td>\n",
       "    </tr>\n",
       "    <tr>\n",
       "      <th>2</th>\n",
       "      <td>0.000000</td>\n",
       "      <td>0.527046</td>\n",
       "      <td>0.000000</td>\n",
       "    </tr>\n",
       "    <tr>\n",
       "      <th>3</th>\n",
       "      <td>1.022620</td>\n",
       "      <td>0.000000</td>\n",
       "      <td>0.485071</td>\n",
       "    </tr>\n",
       "    <tr>\n",
       "      <th>4</th>\n",
       "      <td>0.000000</td>\n",
       "      <td>0.000000</td>\n",
       "      <td>1.123903</td>\n",
       "    </tr>\n",
       "    <tr>\n",
       "      <th>5</th>\n",
       "      <td>0.000000</td>\n",
       "      <td>0.504525</td>\n",
       "      <td>0.000000</td>\n",
       "    </tr>\n",
       "    <tr>\n",
       "      <th>6</th>\n",
       "      <td>0.975900</td>\n",
       "      <td>0.000000</td>\n",
       "      <td>0.000000</td>\n",
       "    </tr>\n",
       "    <tr>\n",
       "      <th>7</th>\n",
       "      <td>0.000000</td>\n",
       "      <td>0.000000</td>\n",
       "      <td>1.174218</td>\n",
       "    </tr>\n",
       "    <tr>\n",
       "      <th>8</th>\n",
       "      <td>1.003263</td>\n",
       "      <td>0.000000</td>\n",
       "      <td>0.000000</td>\n",
       "    </tr>\n",
       "    <tr>\n",
       "      <th>9</th>\n",
       "      <td>0.987608</td>\n",
       "      <td>0.000000</td>\n",
       "      <td>0.508548</td>\n",
       "    </tr>\n",
       "  </tbody>\n",
       "</table>\n",
       "</div>"
      ],
      "text/plain": [
       "               A         B         C\n",
       "kmeans                              \n",
       "0       1.028992  0.000000  0.000000\n",
       "1       1.012122  0.000000  1.288788\n",
       "2       0.000000  0.527046  0.000000\n",
       "3       1.022620  0.000000  0.485071\n",
       "4       0.000000  0.000000  1.123903\n",
       "5       0.000000  0.504525  0.000000\n",
       "6       0.975900  0.000000  0.000000\n",
       "7       0.000000  0.000000  1.174218\n",
       "8       1.003263  0.000000  0.000000\n",
       "9       0.987608  0.000000  0.508548"
      ]
     },
     "execution_count": 6,
     "metadata": {},
     "output_type": "execute_result"
    }
   ],
   "source": [
    "many_sp_df_diff.groupby('kmeans')['A','B','C'].std()"
   ]
  },
  {
   "cell_type": "markdown",
   "metadata": {},
   "source": [
    "Many are 0, whichc is good, but not all. We would also hope for high mutual information."
   ]
  },
  {
   "cell_type": "code",
   "execution_count": 7,
   "metadata": {},
   "outputs": [
    {
     "name": "stdout",
     "output_type": "stream",
     "text": [
      "0.6288068144287884\n",
      "0.625732344524177\n",
      "1.0133660282520744\n"
     ]
    }
   ],
   "source": [
    "print(sklearn.metrics.mutual_info_score(many_sp_df_diff['kmeans'],many_sp_df_diff['A']))\n",
    "print(sklearn.metrics.mutual_info_score(many_sp_df_diff['kmeans'],many_sp_df_diff['B']))\n",
    "print(sklearn.metrics.mutual_info_score(many_sp_df_diff['kmeans'],many_sp_df_diff['C']))"
   ]
  },
  {
   "cell_type": "markdown",
   "metadata": {},
   "source": [
    "We can check lookinng at one at a time to confirm that clustering in a sngle view of the data recovers the known structure"
   ]
  },
  {
   "cell_type": "code",
   "execution_count": 8,
   "metadata": {},
   "outputs": [],
   "source": [
    "dpgmm = mixture.BayesianGaussianMixture(n_components=8,\n",
    "                                        covariance_type='full').fit(many_sp_df_diff.T.loc['x1':'x2'].T)\n",
    "many_sp_df_diff['Apred'] = dpgmm.predict(many_sp_df_diff.T.loc['x1':'x2'].T)"
   ]
  },
  {
   "cell_type": "code",
   "execution_count": 9,
   "metadata": {},
   "outputs": [],
   "source": [
    "dpgmm = mixture.BayesianGaussianMixture(n_components=8,\n",
    "                                        covariance_type='full').fit(many_sp_df_diff.T.loc['x3':'x4'].T)\n",
    "many_sp_df_diff['Bpred'] = dpgmm.predict(many_sp_df_diff.T.loc['x3':'x4'].T)"
   ]
  },
  {
   "cell_type": "markdown",
   "metadata": {},
   "source": [
    "Now we can look at mutual information as well. "
   ]
  },
  {
   "cell_type": "code",
   "execution_count": 10,
   "metadata": {},
   "outputs": [
    {
     "data": {
      "text/plain": [
       "1.0697257599824335"
      ]
     },
     "execution_count": 10,
     "metadata": {},
     "output_type": "execute_result"
    }
   ],
   "source": [
    "# many_sp_df_diff.apply\n",
    "\n",
    "sklearn.metrics.mutual_info_score(many_sp_df_diff['A'],many_sp_df_diff['Apred'])"
   ]
  },
  {
   "cell_type": "code",
   "execution_count": 11,
   "metadata": {},
   "outputs": [
    {
     "data": {
      "text/plain": [
       "0.6926971130356332"
      ]
     },
     "execution_count": 11,
     "metadata": {},
     "output_type": "execute_result"
    }
   ],
   "source": [
    "sklearn.metrics.mutual_info_score(many_sp_df_diff['B'],many_sp_df_diff['Bpred'])"
   ]
  },
  {
   "cell_type": "code",
   "execution_count": 12,
   "metadata": {},
   "outputs": [
    {
     "data": {
      "text/html": [
       "<div>\n",
       "<style scoped>\n",
       "    .dataframe tbody tr th:only-of-type {\n",
       "        vertical-align: middle;\n",
       "    }\n",
       "\n",
       "    .dataframe tbody tr th {\n",
       "        vertical-align: top;\n",
       "    }\n",
       "\n",
       "    .dataframe thead th {\n",
       "        text-align: right;\n",
       "    }\n",
       "</style>\n",
       "<table border=\"1\" class=\"dataframe\">\n",
       "  <thead>\n",
       "    <tr style=\"text-align: right;\">\n",
       "      <th></th>\n",
       "      <th>count</th>\n",
       "      <th>mean</th>\n",
       "      <th>std</th>\n",
       "      <th>min</th>\n",
       "      <th>25%</th>\n",
       "      <th>50%</th>\n",
       "      <th>75%</th>\n",
       "      <th>max</th>\n",
       "    </tr>\n",
       "    <tr>\n",
       "      <th>A</th>\n",
       "      <th></th>\n",
       "      <th></th>\n",
       "      <th></th>\n",
       "      <th></th>\n",
       "      <th></th>\n",
       "      <th></th>\n",
       "      <th></th>\n",
       "      <th></th>\n",
       "    </tr>\n",
       "  </thead>\n",
       "  <tbody>\n",
       "    <tr>\n",
       "      <th>0</th>\n",
       "      <td>64.0</td>\n",
       "      <td>0.000000</td>\n",
       "      <td>0.000000</td>\n",
       "      <td>0.0</td>\n",
       "      <td>0.0</td>\n",
       "      <td>0.0</td>\n",
       "      <td>0.0</td>\n",
       "      <td>0.0</td>\n",
       "    </tr>\n",
       "    <tr>\n",
       "      <th>1</th>\n",
       "      <td>62.0</td>\n",
       "      <td>1.000000</td>\n",
       "      <td>0.000000</td>\n",
       "      <td>1.0</td>\n",
       "      <td>1.0</td>\n",
       "      <td>1.0</td>\n",
       "      <td>1.0</td>\n",
       "      <td>1.0</td>\n",
       "    </tr>\n",
       "    <tr>\n",
       "      <th>2</th>\n",
       "      <td>74.0</td>\n",
       "      <td>1.972973</td>\n",
       "      <td>0.232495</td>\n",
       "      <td>0.0</td>\n",
       "      <td>2.0</td>\n",
       "      <td>2.0</td>\n",
       "      <td>2.0</td>\n",
       "      <td>2.0</td>\n",
       "    </tr>\n",
       "  </tbody>\n",
       "</table>\n",
       "</div>"
      ],
      "text/plain": [
       "   count      mean       std  min  25%  50%  75%  max\n",
       "A                                                    \n",
       "0   64.0  0.000000  0.000000  0.0  0.0  0.0  0.0  0.0\n",
       "1   62.0  1.000000  0.000000  1.0  1.0  1.0  1.0  1.0\n",
       "2   74.0  1.972973  0.232495  0.0  2.0  2.0  2.0  2.0"
      ]
     },
     "execution_count": 12,
     "metadata": {},
     "output_type": "execute_result"
    }
   ],
   "source": [
    "many_sp_df_diff.groupby('A')['Apred'].describe()"
   ]
  },
  {
   "cell_type": "code",
   "execution_count": 13,
   "metadata": {},
   "outputs": [
    {
     "data": {
      "text/html": [
       "<div>\n",
       "<style scoped>\n",
       "    .dataframe tbody tr th:only-of-type {\n",
       "        vertical-align: middle;\n",
       "    }\n",
       "\n",
       "    .dataframe tbody tr th {\n",
       "        vertical-align: top;\n",
       "    }\n",
       "\n",
       "    .dataframe thead th {\n",
       "        text-align: right;\n",
       "    }\n",
       "</style>\n",
       "<table border=\"1\" class=\"dataframe\">\n",
       "  <thead>\n",
       "    <tr style=\"text-align: right;\">\n",
       "      <th></th>\n",
       "      <th>count</th>\n",
       "      <th>mean</th>\n",
       "      <th>std</th>\n",
       "      <th>min</th>\n",
       "      <th>25%</th>\n",
       "      <th>50%</th>\n",
       "      <th>75%</th>\n",
       "      <th>max</th>\n",
       "    </tr>\n",
       "    <tr>\n",
       "      <th>B</th>\n",
       "      <th></th>\n",
       "      <th></th>\n",
       "      <th></th>\n",
       "      <th></th>\n",
       "      <th></th>\n",
       "      <th></th>\n",
       "      <th></th>\n",
       "      <th></th>\n",
       "    </tr>\n",
       "  </thead>\n",
       "  <tbody>\n",
       "    <tr>\n",
       "      <th>0</th>\n",
       "      <td>97.0</td>\n",
       "      <td>0.0</td>\n",
       "      <td>0.0</td>\n",
       "      <td>0.0</td>\n",
       "      <td>0.0</td>\n",
       "      <td>0.0</td>\n",
       "      <td>0.0</td>\n",
       "      <td>0.0</td>\n",
       "    </tr>\n",
       "    <tr>\n",
       "      <th>1</th>\n",
       "      <td>103.0</td>\n",
       "      <td>1.0</td>\n",
       "      <td>0.0</td>\n",
       "      <td>1.0</td>\n",
       "      <td>1.0</td>\n",
       "      <td>1.0</td>\n",
       "      <td>1.0</td>\n",
       "      <td>1.0</td>\n",
       "    </tr>\n",
       "  </tbody>\n",
       "</table>\n",
       "</div>"
      ],
      "text/plain": [
       "   count  mean  std  min  25%  50%  75%  max\n",
       "B                                           \n",
       "0   97.0   0.0  0.0  0.0  0.0  0.0  0.0  0.0\n",
       "1  103.0   1.0  0.0  1.0  1.0  1.0  1.0  1.0"
      ]
     },
     "execution_count": 13,
     "metadata": {},
     "output_type": "execute_result"
    }
   ],
   "source": [
    "many_sp_df_diff.groupby('B')['Bpred'].describe()"
   ]
  },
  {
   "cell_type": "code",
   "execution_count": 14,
   "metadata": {},
   "outputs": [
    {
     "data": {
      "text/html": [
       "<div>\n",
       "<style scoped>\n",
       "    .dataframe tbody tr th:only-of-type {\n",
       "        vertical-align: middle;\n",
       "    }\n",
       "\n",
       "    .dataframe tbody tr th {\n",
       "        vertical-align: top;\n",
       "    }\n",
       "\n",
       "    .dataframe thead th {\n",
       "        text-align: right;\n",
       "    }\n",
       "</style>\n",
       "<table border=\"1\" class=\"dataframe\">\n",
       "  <thead>\n",
       "    <tr style=\"text-align: right;\">\n",
       "      <th></th>\n",
       "      <th>x1</th>\n",
       "      <th>x2</th>\n",
       "    </tr>\n",
       "  </thead>\n",
       "  <tbody>\n",
       "    <tr>\n",
       "      <th>0</th>\n",
       "      <td>2.047880</td>\n",
       "      <td>8.701604</td>\n",
       "    </tr>\n",
       "    <tr>\n",
       "      <th>1</th>\n",
       "      <td>10.873305</td>\n",
       "      <td>10.519449</td>\n",
       "    </tr>\n",
       "    <tr>\n",
       "      <th>2</th>\n",
       "      <td>4.301740</td>\n",
       "      <td>6.116435</td>\n",
       "    </tr>\n",
       "    <tr>\n",
       "      <th>3</th>\n",
       "      <td>3.132307</td>\n",
       "      <td>8.080181</td>\n",
       "    </tr>\n",
       "    <tr>\n",
       "      <th>4</th>\n",
       "      <td>4.574181</td>\n",
       "      <td>6.257364</td>\n",
       "    </tr>\n",
       "  </tbody>\n",
       "</table>\n",
       "</div>"
      ],
      "text/plain": [
       "          x1         x2\n",
       "0   2.047880   8.701604\n",
       "1  10.873305  10.519449\n",
       "2   4.301740   6.116435\n",
       "3   3.132307   8.080181\n",
       "4   4.574181   6.257364"
      ]
     },
     "execution_count": 14,
     "metadata": {},
     "output_type": "execute_result"
    }
   ],
   "source": [
    "x1,x2 = many_sp_df_diff.columns[:2]\n",
    "x1\n",
    "many_sp_df_diff[[x1,x2]].head()"
   ]
  },
  {
   "cell_type": "code",
   "execution_count": 45,
   "metadata": {},
   "outputs": [
    {
     "data": {
      "text/plain": [
       "array([0.1, 0.8, 0.1])"
      ]
     },
     "execution_count": 45,
     "metadata": {},
     "output_type": "execute_result"
    }
   ],
   "source": [
    "rho = [.6, .8, .3]\n",
    "n_rho = len(rho)\n",
    "off_diag = np.tile(np.asarray([(1-rho_i)/(n_rho-1) for rho_i in rho]),[len(rho),1]).T\n",
    "off_diag = off_diag - np.diag(np.diag(off_diag)) # zero out diag\n",
    "p_mat = np.diag(rho) + off_diag\n",
    "p_mat[1]\n"
   ]
  },
  {
   "cell_type": "code",
   "execution_count": 112,
   "metadata": {},
   "outputs": [],
   "source": [
    "z = many_sp_df_diff['A'].values\n",
    "z_opts =[0,1,2]\n",
    "rho =  [.9, .8, .9]\n",
    "n_rho = len(rho)\n",
    "off_diag = np.tile(np.asarray([(1-rho_i)/(n_rho-1) for rho_i in rho]),[len(rho),1]).T\n",
    "off_diag = off_diag - np.diag(np.diag(off_diag)) # zero out diag\n",
    "p_mat = np.diag(rho) + off_diag\n",
    "prob = {z_i:rho_i for z_i,rho_i in zip(set(z),p_mat)}\n",
    "\n",
    "# sample sing genrated probmat\n",
    "zp = [np.random.choice(z_opts, p = prob[z_i]) for z_i in z]"
   ]
  },
  {
   "cell_type": "code",
   "execution_count": 113,
   "metadata": {},
   "outputs": [
    {
     "data": {
      "text/plain": [
       "0.5670527751697567"
      ]
     },
     "execution_count": 113,
     "metadata": {},
     "output_type": "execute_result"
    }
   ],
   "source": [
    "sklearn.metrics.normalized_mutual_info_score(many_sp_df_diff['A'],zp)"
   ]
  },
  {
   "cell_type": "code",
   "execution_count": 114,
   "metadata": {},
   "outputs": [
    {
     "data": {
      "text/plain": [
       "0.865"
      ]
     },
     "execution_count": 114,
     "metadata": {},
     "output_type": "execute_result"
    }
   ],
   "source": [
    "sum([z_i== zp_i for z_i,zp_i in zip(z,zp)])/len(zp)"
   ]
  },
  {
   "cell_type": "code",
   "execution_count": 37,
   "metadata": {},
   "outputs": [
    {
     "name": "stderr",
     "output_type": "stream",
     "text": [
      "/home/smb/anaconda3/lib/python3.6/site-packages/sklearn/mixture/base.py:237: ConvergenceWarning: Initialization 1 did not converge. Try different init parameters, or increase max_iter, tol or check for degenerate data.\n",
      "  % (init + 1), ConvergenceWarning)\n"
     ]
    },
    {
     "data": {
      "text/html": [
       "<div>\n",
       "<style scoped>\n",
       "    .dataframe tbody tr th:only-of-type {\n",
       "        vertical-align: middle;\n",
       "    }\n",
       "\n",
       "    .dataframe tbody tr th {\n",
       "        vertical-align: top;\n",
       "    }\n",
       "\n",
       "    .dataframe thead th {\n",
       "        text-align: right;\n",
       "    }\n",
       "</style>\n",
       "<table border=\"1\" class=\"dataframe\">\n",
       "  <thead>\n",
       "    <tr style=\"text-align: right;\">\n",
       "      <th></th>\n",
       "      <th>x1</th>\n",
       "      <th>x2</th>\n",
       "      <th>x3</th>\n",
       "      <th>x4</th>\n",
       "      <th>x5</th>\n",
       "      <th>x6</th>\n",
       "      <th>A</th>\n",
       "      <th>B</th>\n",
       "      <th>C</th>\n",
       "      <th>kmeans</th>\n",
       "      <th>...</th>\n",
       "      <th>clust_x2_x3</th>\n",
       "      <th>clust_x2_x4</th>\n",
       "      <th>clust_x2_x5</th>\n",
       "      <th>clust_x2_x6</th>\n",
       "      <th>clust_x3_x4</th>\n",
       "      <th>clust_x3_x5</th>\n",
       "      <th>clust_x3_x6</th>\n",
       "      <th>clust_x4_x5</th>\n",
       "      <th>clust_x4_x6</th>\n",
       "      <th>clust_x5_x6</th>\n",
       "    </tr>\n",
       "  </thead>\n",
       "  <tbody>\n",
       "    <tr>\n",
       "      <th>0</th>\n",
       "      <td>7.831957</td>\n",
       "      <td>8.144753</td>\n",
       "      <td>13.300520</td>\n",
       "      <td>11.928939</td>\n",
       "      <td>14.465451</td>\n",
       "      <td>16.407821</td>\n",
       "      <td>2</td>\n",
       "      <td>1</td>\n",
       "      <td>0</td>\n",
       "      <td>8</td>\n",
       "      <td>...</td>\n",
       "      <td>7</td>\n",
       "      <td>1</td>\n",
       "      <td>7</td>\n",
       "      <td>0</td>\n",
       "      <td>1</td>\n",
       "      <td>10</td>\n",
       "      <td>5</td>\n",
       "      <td>0</td>\n",
       "      <td>4</td>\n",
       "      <td>3</td>\n",
       "    </tr>\n",
       "    <tr>\n",
       "      <th>1</th>\n",
       "      <td>8.094615</td>\n",
       "      <td>8.456364</td>\n",
       "      <td>10.785898</td>\n",
       "      <td>9.756356</td>\n",
       "      <td>14.105026</td>\n",
       "      <td>16.162072</td>\n",
       "      <td>2</td>\n",
       "      <td>0</td>\n",
       "      <td>0</td>\n",
       "      <td>0</td>\n",
       "      <td>...</td>\n",
       "      <td>0</td>\n",
       "      <td>1</td>\n",
       "      <td>11</td>\n",
       "      <td>0</td>\n",
       "      <td>0</td>\n",
       "      <td>6</td>\n",
       "      <td>0</td>\n",
       "      <td>0</td>\n",
       "      <td>1</td>\n",
       "      <td>3</td>\n",
       "    </tr>\n",
       "    <tr>\n",
       "      <th>2</th>\n",
       "      <td>4.502107</td>\n",
       "      <td>4.808617</td>\n",
       "      <td>11.050014</td>\n",
       "      <td>14.585463</td>\n",
       "      <td>11.425943</td>\n",
       "      <td>13.697282</td>\n",
       "      <td>0</td>\n",
       "      <td>1</td>\n",
       "      <td>2</td>\n",
       "      <td>3</td>\n",
       "      <td>...</td>\n",
       "      <td>4</td>\n",
       "      <td>3</td>\n",
       "      <td>6</td>\n",
       "      <td>4</td>\n",
       "      <td>1</td>\n",
       "      <td>6</td>\n",
       "      <td>0</td>\n",
       "      <td>0</td>\n",
       "      <td>4</td>\n",
       "      <td>4</td>\n",
       "    </tr>\n",
       "    <tr>\n",
       "      <th>3</th>\n",
       "      <td>6.073086</td>\n",
       "      <td>6.393120</td>\n",
       "      <td>13.780783</td>\n",
       "      <td>12.227023</td>\n",
       "      <td>14.798107</td>\n",
       "      <td>12.891942</td>\n",
       "      <td>2</td>\n",
       "      <td>1</td>\n",
       "      <td>3</td>\n",
       "      <td>8</td>\n",
       "      <td>...</td>\n",
       "      <td>7</td>\n",
       "      <td>3</td>\n",
       "      <td>7</td>\n",
       "      <td>4</td>\n",
       "      <td>1</td>\n",
       "      <td>10</td>\n",
       "      <td>5</td>\n",
       "      <td>0</td>\n",
       "      <td>4</td>\n",
       "      <td>4</td>\n",
       "    </tr>\n",
       "    <tr>\n",
       "      <th>4</th>\n",
       "      <td>6.443205</td>\n",
       "      <td>6.672176</td>\n",
       "      <td>13.084463</td>\n",
       "      <td>13.366396</td>\n",
       "      <td>6.827182</td>\n",
       "      <td>8.969607</td>\n",
       "      <td>2</td>\n",
       "      <td>1</td>\n",
       "      <td>1</td>\n",
       "      <td>7</td>\n",
       "      <td>...</td>\n",
       "      <td>7</td>\n",
       "      <td>3</td>\n",
       "      <td>6</td>\n",
       "      <td>2</td>\n",
       "      <td>1</td>\n",
       "      <td>4</td>\n",
       "      <td>6</td>\n",
       "      <td>3</td>\n",
       "      <td>13</td>\n",
       "      <td>1</td>\n",
       "    </tr>\n",
       "  </tbody>\n",
       "</table>\n",
       "<p>5 rows × 42 columns</p>\n",
       "</div>"
      ],
      "text/plain": [
       "         x1        x2         x3         x4         x5         x6  A  B  C  \\\n",
       "0  7.831957  8.144753  13.300520  11.928939  14.465451  16.407821  2  1  0   \n",
       "1  8.094615  8.456364  10.785898   9.756356  14.105026  16.162072  2  0  0   \n",
       "2  4.502107  4.808617  11.050014  14.585463  11.425943  13.697282  0  1  2   \n",
       "3  6.073086  6.393120  13.780783  12.227023  14.798107  12.891942  2  1  3   \n",
       "4  6.443205  6.672176  13.084463  13.366396   6.827182   8.969607  2  1  1   \n",
       "\n",
       "   kmeans     ...       clust_x2_x3  clust_x2_x4  clust_x2_x5  clust_x2_x6  \\\n",
       "0       8     ...                 7            1            7            0   \n",
       "1       0     ...                 0            1           11            0   \n",
       "2       3     ...                 4            3            6            4   \n",
       "3       8     ...                 7            3            7            4   \n",
       "4       7     ...                 7            3            6            2   \n",
       "\n",
       "   clust_x3_x4  clust_x3_x5  clust_x3_x6  clust_x4_x5  clust_x4_x6  \\\n",
       "0            1           10            5            0            4   \n",
       "1            0            6            0            0            1   \n",
       "2            1            6            0            0            4   \n",
       "3            1           10            5            0            4   \n",
       "4            1            4            6            3           13   \n",
       "\n",
       "   clust_x5_x6  \n",
       "0            3  \n",
       "1            3  \n",
       "2            4  \n",
       "3            4  \n",
       "4            1  \n",
       "\n",
       "[5 rows x 42 columns]"
      ]
     },
     "execution_count": 37,
     "metadata": {},
     "output_type": "execute_result"
    }
   ],
   "source": [
    "# iterate over pairs of variables in only continuous vars- improve later for if somme are provided\n",
    "\n",
    "\n",
    "for x1,x2 in itert.combinations(many_sp_df_diff.columns[:6],2):\n",
    "    # run clustering\n",
    "    dpgmm = mixture.BayesianGaussianMixture(n_components=20,\n",
    "                                        covariance_type='full').fit(many_sp_df_diff[[x1,x2]])\n",
    "    \n",
    "    # check if clusters are good separation or nonsense\n",
    "    \n",
    "    # agument data with clusters\n",
    "    many_sp_df_diff['clust_'+ x1+ '_' + x2] = dpgmm.predict(many_sp_df_diff[[x1,x2]])\n",
    "\n",
    "\n",
    "many_sp_df_diff.head()"
   ]
  },
  {
   "cell_type": "code",
   "execution_count": 38,
   "metadata": {},
   "outputs": [
    {
     "data": {
      "text/html": [
       "<div>\n",
       "<style scoped>\n",
       "    .dataframe tbody tr th:only-of-type {\n",
       "        vertical-align: middle;\n",
       "    }\n",
       "\n",
       "    .dataframe tbody tr th {\n",
       "        vertical-align: top;\n",
       "    }\n",
       "\n",
       "    .dataframe thead th {\n",
       "        text-align: right;\n",
       "    }\n",
       "</style>\n",
       "<table border=\"1\" class=\"dataframe\">\n",
       "  <thead>\n",
       "    <tr style=\"text-align: right;\">\n",
       "      <th></th>\n",
       "      <th>A</th>\n",
       "      <th>clust_x1_x2</th>\n",
       "    </tr>\n",
       "  </thead>\n",
       "  <tbody>\n",
       "    <tr>\n",
       "      <th>0</th>\n",
       "      <td>2</td>\n",
       "      <td>3</td>\n",
       "    </tr>\n",
       "    <tr>\n",
       "      <th>1</th>\n",
       "      <td>2</td>\n",
       "      <td>3</td>\n",
       "    </tr>\n",
       "    <tr>\n",
       "      <th>2</th>\n",
       "      <td>0</td>\n",
       "      <td>5</td>\n",
       "    </tr>\n",
       "    <tr>\n",
       "      <th>3</th>\n",
       "      <td>2</td>\n",
       "      <td>3</td>\n",
       "    </tr>\n",
       "    <tr>\n",
       "      <th>4</th>\n",
       "      <td>2</td>\n",
       "      <td>3</td>\n",
       "    </tr>\n",
       "  </tbody>\n",
       "</table>\n",
       "</div>"
      ],
      "text/plain": [
       "   A  clust_x1_x2\n",
       "0  2            3\n",
       "1  2            3\n",
       "2  0            5\n",
       "3  2            3\n",
       "4  2            3"
      ]
     },
     "execution_count": 38,
     "metadata": {},
     "output_type": "execute_result"
    }
   ],
   "source": [
    "# check that it found the right answers,\n",
    "many_sp_df_diff[['A','clust_x1_x2']].head()"
   ]
  },
  {
   "cell_type": "code",
   "execution_count": 39,
   "metadata": {},
   "outputs": [
    {
     "name": "stdout",
     "output_type": "stream",
     "text": [
      "expected unique:  3\n",
      "found unique:  3\n"
     ]
    },
    {
     "data": {
      "text/plain": [
       "1.0058708264233127"
      ]
     },
     "execution_count": 39,
     "metadata": {},
     "output_type": "execute_result"
    }
   ],
   "source": [
    "print('expected unique: ',len(np.unique(many_sp_df_diff['A'])))\n",
    "print('found unique: ',len(np.unique(many_sp_df_diff['clust_x1_x2'])))\n",
    "sklearn.metrics.mutual_info_score(many_sp_df_diff['A'],many_sp_df_diff['clust_x1_x2'])"
   ]
  },
  {
   "cell_type": "code",
   "execution_count": 40,
   "metadata": {},
   "outputs": [
    {
     "name": "stdout",
     "output_type": "stream",
     "text": [
      "expected unique:  2\n",
      "found unique:  2\n"
     ]
    },
    {
     "data": {
      "text/plain": [
       "0.6930971797265782"
      ]
     },
     "execution_count": 40,
     "metadata": {},
     "output_type": "execute_result"
    }
   ],
   "source": [
    "print('expected unique: ',len(np.unique(many_sp_df_diff['B'])))\n",
    "print('found unique: ',len(np.unique(many_sp_df_diff['clust_x3_x4'])))\n",
    "sklearn.metrics.mutual_info_score(many_sp_df_diff['B'],many_sp_df_diff['clust_x3_x4'])\n",
    "\n",
    "# plot with color for true and shape for found"
   ]
  },
  {
   "cell_type": "code",
   "execution_count": 41,
   "metadata": {},
   "outputs": [
    {
     "name": "stdout",
     "output_type": "stream",
     "text": [
      "expected unique:  5\n",
      "found unique:  4\n"
     ]
    },
    {
     "data": {
      "text/plain": [
       "0.9192244276566639"
      ]
     },
     "execution_count": 41,
     "metadata": {},
     "output_type": "execute_result"
    }
   ],
   "source": [
    "print('expected unique: ',len(np.unique(many_sp_df_diff['C'])))\n",
    "print('found unique: ',len(np.unique(many_sp_df_diff['clust_x5_x6'])))\n",
    "sklearn.metrics.mutual_info_score(many_sp_df_diff['C'],many_sp_df_diff['clust_x5_x6'])"
   ]
  },
  {
   "cell_type": "code",
   "execution_count": null,
   "metadata": {},
   "outputs": [],
   "source": []
  }
 ],
 "metadata": {
  "kernelspec": {
   "display_name": "Python 3",
   "language": "python",
   "name": "python3"
  },
  "language_info": {
   "codemirror_mode": {
    "name": "ipython",
    "version": 3
   },
   "file_extension": ".py",
   "mimetype": "text/x-python",
   "name": "python",
   "nbconvert_exporter": "python",
   "pygments_lexer": "ipython3",
   "version": "3.6.4"
  }
 },
 "nbformat": 4,
 "nbformat_minor": 2
}
