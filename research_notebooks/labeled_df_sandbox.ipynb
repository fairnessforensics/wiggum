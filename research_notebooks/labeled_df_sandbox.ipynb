{
 "cells": [
  {
   "cell_type": "code",
   "execution_count": 1,
   "metadata": {},
   "outputs": [],
   "source": [
    "import pandas as pd\n",
    "import os\n",
    "import wiggum as wg\n",
    "import numpy as np\n",
    "import scipy.stats as stat\n",
    "import itertools"
   ]
  },
  {
   "cell_type": "code",
   "execution_count": 2,
   "metadata": {
    "scrolled": true
   },
   "outputs": [
    {
     "data": {
      "text/html": [
       "<div>\n",
       "<style scoped>\n",
       "    .dataframe tbody tr th:only-of-type {\n",
       "        vertical-align: middle;\n",
       "    }\n",
       "\n",
       "    .dataframe tbody tr th {\n",
       "        vertical-align: top;\n",
       "    }\n",
       "\n",
       "    .dataframe thead th {\n",
       "        text-align: right;\n",
       "    }\n",
       "</style>\n",
       "<table border=\"1\" class=\"dataframe\">\n",
       "  <thead>\n",
       "    <tr style=\"text-align: right;\">\n",
       "      <th></th>\n",
       "      <th>state</th>\n",
       "      <th>year</th>\n",
       "      <th>driver_gender</th>\n",
       "      <th>driver_race</th>\n",
       "      <th>decriminalization</th>\n",
       "      <th>medical</th>\n",
       "      <th>recreational</th>\n",
       "      <th>no_reforms</th>\n",
       "      <th>search_conducted_false</th>\n",
       "      <th>search_conducted_true</th>\n",
       "      <th>search_conducted_rate</th>\n",
       "      <th>contraband_found_false</th>\n",
       "      <th>contraband_found_true</th>\n",
       "      <th>contraband_found_rate</th>\n",
       "      <th>hit_false</th>\n",
       "      <th>hit_true</th>\n",
       "      <th>hit_rate</th>\n",
       "      <th>num_stops</th>\n",
       "    </tr>\n",
       "  </thead>\n",
       "  <tbody>\n",
       "    <tr>\n",
       "      <th>0</th>\n",
       "      <td>AZ</td>\n",
       "      <td>2009</td>\n",
       "      <td>F</td>\n",
       "      <td>White</td>\n",
       "      <td>0</td>\n",
       "      <td>0</td>\n",
       "      <td>0</td>\n",
       "      <td>1</td>\n",
       "      <td>30.0</td>\n",
       "      <td>1.0</td>\n",
       "      <td>0.032258</td>\n",
       "      <td>31.0</td>\n",
       "      <td>NaN</td>\n",
       "      <td>NaN</td>\n",
       "      <td>1.0</td>\n",
       "      <td>NaN</td>\n",
       "      <td>NaN</td>\n",
       "      <td>31.0</td>\n",
       "    </tr>\n",
       "    <tr>\n",
       "      <th>1</th>\n",
       "      <td>AZ</td>\n",
       "      <td>2009</td>\n",
       "      <td>M</td>\n",
       "      <td>Black</td>\n",
       "      <td>0</td>\n",
       "      <td>0</td>\n",
       "      <td>0</td>\n",
       "      <td>1</td>\n",
       "      <td>1.0</td>\n",
       "      <td>2.0</td>\n",
       "      <td>0.666667</td>\n",
       "      <td>2.0</td>\n",
       "      <td>1.0</td>\n",
       "      <td>0.333333</td>\n",
       "      <td>1.0</td>\n",
       "      <td>1.0</td>\n",
       "      <td>0.5</td>\n",
       "      <td>3.0</td>\n",
       "    </tr>\n",
       "    <tr>\n",
       "      <th>2</th>\n",
       "      <td>AZ</td>\n",
       "      <td>2009</td>\n",
       "      <td>M</td>\n",
       "      <td>Hispanic</td>\n",
       "      <td>0</td>\n",
       "      <td>0</td>\n",
       "      <td>0</td>\n",
       "      <td>1</td>\n",
       "      <td>14.0</td>\n",
       "      <td>1.0</td>\n",
       "      <td>0.066667</td>\n",
       "      <td>15.0</td>\n",
       "      <td>NaN</td>\n",
       "      <td>NaN</td>\n",
       "      <td>1.0</td>\n",
       "      <td>NaN</td>\n",
       "      <td>NaN</td>\n",
       "      <td>15.0</td>\n",
       "    </tr>\n",
       "    <tr>\n",
       "      <th>3</th>\n",
       "      <td>AZ</td>\n",
       "      <td>2009</td>\n",
       "      <td>M</td>\n",
       "      <td>White</td>\n",
       "      <td>0</td>\n",
       "      <td>0</td>\n",
       "      <td>0</td>\n",
       "      <td>1</td>\n",
       "      <td>32.0</td>\n",
       "      <td>4.0</td>\n",
       "      <td>0.111111</td>\n",
       "      <td>34.0</td>\n",
       "      <td>2.0</td>\n",
       "      <td>0.055556</td>\n",
       "      <td>2.0</td>\n",
       "      <td>2.0</td>\n",
       "      <td>0.5</td>\n",
       "      <td>36.0</td>\n",
       "    </tr>\n",
       "    <tr>\n",
       "      <th>4</th>\n",
       "      <td>AZ</td>\n",
       "      <td>2010</td>\n",
       "      <td>F</td>\n",
       "      <td>Asian</td>\n",
       "      <td>0</td>\n",
       "      <td>1</td>\n",
       "      <td>0</td>\n",
       "      <td>0</td>\n",
       "      <td>58.0</td>\n",
       "      <td>3.0</td>\n",
       "      <td>0.049180</td>\n",
       "      <td>61.0</td>\n",
       "      <td>NaN</td>\n",
       "      <td>NaN</td>\n",
       "      <td>3.0</td>\n",
       "      <td>NaN</td>\n",
       "      <td>NaN</td>\n",
       "      <td>61.0</td>\n",
       "    </tr>\n",
       "  </tbody>\n",
       "</table>\n",
       "</div>"
      ],
      "text/plain": [
       "  state  year driver_gender driver_race  decriminalization  medical  \\\n",
       "0    AZ  2009             F       White                  0        0   \n",
       "1    AZ  2009             M       Black                  0        0   \n",
       "2    AZ  2009             M    Hispanic                  0        0   \n",
       "3    AZ  2009             M       White                  0        0   \n",
       "4    AZ  2010             F       Asian                  0        1   \n",
       "\n",
       "   recreational  no_reforms  search_conducted_false  search_conducted_true  \\\n",
       "0             0           1                    30.0                    1.0   \n",
       "1             0           1                     1.0                    2.0   \n",
       "2             0           1                    14.0                    1.0   \n",
       "3             0           1                    32.0                    4.0   \n",
       "4             0           0                    58.0                    3.0   \n",
       "\n",
       "   search_conducted_rate  contraband_found_false  contraband_found_true  \\\n",
       "0               0.032258                    31.0                    NaN   \n",
       "1               0.666667                     2.0                    1.0   \n",
       "2               0.066667                    15.0                    NaN   \n",
       "3               0.111111                    34.0                    2.0   \n",
       "4               0.049180                    61.0                    NaN   \n",
       "\n",
       "   contraband_found_rate  hit_false  hit_true  hit_rate  num_stops  \n",
       "0                    NaN        1.0       NaN       NaN       31.0  \n",
       "1               0.333333        1.0       1.0       0.5        3.0  \n",
       "2                    NaN        1.0       NaN       NaN       15.0  \n",
       "3               0.055556        2.0       2.0       0.5       36.0  \n",
       "4                    NaN        3.0       NaN       NaN       61.0  "
      ]
     },
     "execution_count": 2,
     "metadata": {},
     "output_type": "execute_result"
    }
   ],
   "source": [
    "hit_search_rate = pd.read_csv('../data/state_hit_rate_min_cols_COCTFLILMDMAMOMTNENCOHRISCTXVTWAWI.csv',index_col='Unnamed: 0')\n",
    "hit_search_rate.head()"
   ]
  },
  {
   "cell_type": "code",
   "execution_count": 3,
   "metadata": {
    "scrolled": true
   },
   "outputs": [],
   "source": [
    "labeled_df = wg.LabeledDataFrame(hit_search_rate)"
   ]
  },
  {
   "cell_type": "code",
   "execution_count": 4,
   "metadata": {},
   "outputs": [
    {
     "data": {
      "text/plain": [
       "Index(['state', 'year', 'driver_gender', 'driver_race', 'decriminalization',\n",
       "       'medical', 'recreational', 'no_reforms', 'search_conducted_false',\n",
       "       'search_conducted_true', 'search_conducted_rate',\n",
       "       'contraband_found_false', 'contraband_found_true',\n",
       "       'contraband_found_rate', 'hit_false', 'hit_true', 'hit_rate',\n",
       "       'num_stops'],\n",
       "      dtype='object', name='variable')"
      ]
     },
     "execution_count": 4,
     "metadata": {},
     "output_type": "execute_result"
    }
   ],
   "source": [
    "labeled_df.infer_var_types()\n",
    "labeled_df.meta_df.index"
   ]
  },
  {
   "cell_type": "code",
   "execution_count": 5,
   "metadata": {},
   "outputs": [
    {
     "data": {
      "text/html": [
       "<div>\n",
       "<style scoped>\n",
       "    .dataframe tbody tr th:only-of-type {\n",
       "        vertical-align: middle;\n",
       "    }\n",
       "\n",
       "    .dataframe tbody tr th {\n",
       "        vertical-align: top;\n",
       "    }\n",
       "\n",
       "    .dataframe thead th {\n",
       "        text-align: right;\n",
       "    }\n",
       "</style>\n",
       "<table border=\"1\" class=\"dataframe\">\n",
       "  <thead>\n",
       "    <tr style=\"text-align: right;\">\n",
       "      <th></th>\n",
       "      <th>dtype</th>\n",
       "      <th>var_type</th>\n",
       "      <th>role</th>\n",
       "      <th>isCount</th>\n",
       "      <th>weighting_var</th>\n",
       "    </tr>\n",
       "    <tr>\n",
       "      <th>variable</th>\n",
       "      <th></th>\n",
       "      <th></th>\n",
       "      <th></th>\n",
       "      <th></th>\n",
       "      <th></th>\n",
       "    </tr>\n",
       "  </thead>\n",
       "  <tbody>\n",
       "    <tr>\n",
       "      <th>state</th>\n",
       "      <td>object</td>\n",
       "      <td>categorical</td>\n",
       "      <td>NaN</td>\n",
       "      <td>NaN</td>\n",
       "      <td>NaN</td>\n",
       "    </tr>\n",
       "    <tr>\n",
       "      <th>year</th>\n",
       "      <td>int64</td>\n",
       "      <td>ordinal</td>\n",
       "      <td>NaN</td>\n",
       "      <td>NaN</td>\n",
       "      <td>NaN</td>\n",
       "    </tr>\n",
       "    <tr>\n",
       "      <th>driver_gender</th>\n",
       "      <td>object</td>\n",
       "      <td>binary</td>\n",
       "      <td>NaN</td>\n",
       "      <td>NaN</td>\n",
       "      <td>NaN</td>\n",
       "    </tr>\n",
       "    <tr>\n",
       "      <th>driver_race</th>\n",
       "      <td>object</td>\n",
       "      <td>categorical</td>\n",
       "      <td>NaN</td>\n",
       "      <td>NaN</td>\n",
       "      <td>NaN</td>\n",
       "    </tr>\n",
       "    <tr>\n",
       "      <th>decriminalization</th>\n",
       "      <td>int64</td>\n",
       "      <td>binary</td>\n",
       "      <td>NaN</td>\n",
       "      <td>NaN</td>\n",
       "      <td>NaN</td>\n",
       "    </tr>\n",
       "  </tbody>\n",
       "</table>\n",
       "</div>"
      ],
      "text/plain": [
       "                    dtype     var_type role isCount weighting_var\n",
       "variable                                                         \n",
       "state              object  categorical  NaN     NaN           NaN\n",
       "year                int64      ordinal  NaN     NaN           NaN\n",
       "driver_gender      object       binary  NaN     NaN           NaN\n",
       "driver_race        object  categorical  NaN     NaN           NaN\n",
       "decriminalization   int64       binary  NaN     NaN           NaN"
      ]
     },
     "execution_count": 5,
     "metadata": {},
     "output_type": "execute_result"
    }
   ],
   "source": [
    "labeled_df.meta_df.head()"
   ]
  },
  {
   "cell_type": "code",
   "execution_count": 6,
   "metadata": {},
   "outputs": [],
   "source": [
    "roles = {'state':'Trend', 'year':'Trend', 'driver_gender':['explanatory','groupby'], 'driver_race':['explanatory','groupby'],\n",
    "       'decriminalization':['explanatory','groupby'], 'medical':['explanatory','groupby'],\n",
    "         'recreational':['explanatory','groupby'], 'no_reforms':['explanatory','groupby'],\n",
    "       'search_conducted_false':'Trend', 'search_conducted_true':'Trend',\n",
    "       'search_conducted_rate':'Trend', 'contraband_found_false':'Trend',\n",
    "       'contraband_found_true':'Trend', 'contraband_found_rate':'Trend', 'hit_false':'Trend',\n",
    "       'hit_true':'Trend', 'hit_rate':'Trend', 'num_stops':'Trend'}\n",
    "is_count = {'state':False, 'year':False, 'driver_gender':False, 'driver_race':False,\n",
    "       'decriminalization':False, 'medical':False, 'recreational':False, 'no_reforms':False,\n",
    "       'search_conducted_false':True, 'search_conducted_true':True,\n",
    "       'search_conducted_rate':False, 'contraband_found_false':True,\n",
    "       'contraband_found_true':True, 'contraband_found_rate':False, 'hit_false':True,\n",
    "       'hit_true':True, 'hit_rate':False, 'num_stops':True}\n",
    "count_list = ['search_conducted_false', 'search_conducted_true','contraband_found_false',\n",
    "       'contraband_found_true', 'hit_false',\n",
    "       'hit_true', 'num_stops']"
   ]
  },
  {
   "cell_type": "code",
   "execution_count": 7,
   "metadata": {},
   "outputs": [
    {
     "data": {
      "text/plain": [
       "nan"
      ]
     },
     "execution_count": 7,
     "metadata": {},
     "output_type": "execute_result"
    }
   ],
   "source": [
    "meta_df = labeled_df.meta_df\n",
    "\n",
    "meta_df.loc['search_conducted_false','isCount']"
   ]
  },
  {
   "cell_type": "code",
   "execution_count": 8,
   "metadata": {},
   "outputs": [
    {
     "name": "stderr",
     "output_type": "stream",
     "text": [
      "/home/smb/anaconda3/lib/python3.6/site-packages/detect_simpsons_paradox/labeled_dataframe.py:223: SettingWithCopyWarning: \n",
      "A value is trying to be set on a copy of a slice from a DataFrame\n",
      "\n",
      "See the caveats in the documentation: http://pandas.pydata.org/pandas-docs/stable/indexing.html#indexing-view-versus-copy\n",
      "  self.meta_df['role'][k] = v\n"
     ]
    },
    {
     "data": {
      "text/html": [
       "<div>\n",
       "<style scoped>\n",
       "    .dataframe tbody tr th:only-of-type {\n",
       "        vertical-align: middle;\n",
       "    }\n",
       "\n",
       "    .dataframe tbody tr th {\n",
       "        vertical-align: top;\n",
       "    }\n",
       "\n",
       "    .dataframe thead th {\n",
       "        text-align: right;\n",
       "    }\n",
       "</style>\n",
       "<table border=\"1\" class=\"dataframe\">\n",
       "  <thead>\n",
       "    <tr style=\"text-align: right;\">\n",
       "      <th></th>\n",
       "      <th>dtype</th>\n",
       "      <th>var_type</th>\n",
       "      <th>role</th>\n",
       "      <th>isCount</th>\n",
       "      <th>weighting_var</th>\n",
       "    </tr>\n",
       "    <tr>\n",
       "      <th>variable</th>\n",
       "      <th></th>\n",
       "      <th></th>\n",
       "      <th></th>\n",
       "      <th></th>\n",
       "      <th></th>\n",
       "    </tr>\n",
       "  </thead>\n",
       "  <tbody>\n",
       "    <tr>\n",
       "      <th>state</th>\n",
       "      <td>object</td>\n",
       "      <td>categorical</td>\n",
       "      <td>Trend</td>\n",
       "      <td>False</td>\n",
       "      <td>NaN</td>\n",
       "    </tr>\n",
       "    <tr>\n",
       "      <th>year</th>\n",
       "      <td>int64</td>\n",
       "      <td>ordinal</td>\n",
       "      <td>Trend</td>\n",
       "      <td>False</td>\n",
       "      <td>NaN</td>\n",
       "    </tr>\n",
       "    <tr>\n",
       "      <th>driver_gender</th>\n",
       "      <td>object</td>\n",
       "      <td>binary</td>\n",
       "      <td>[explanatory, groupby]</td>\n",
       "      <td>False</td>\n",
       "      <td>NaN</td>\n",
       "    </tr>\n",
       "    <tr>\n",
       "      <th>driver_race</th>\n",
       "      <td>object</td>\n",
       "      <td>categorical</td>\n",
       "      <td>[explanatory, groupby]</td>\n",
       "      <td>False</td>\n",
       "      <td>NaN</td>\n",
       "    </tr>\n",
       "    <tr>\n",
       "      <th>decriminalization</th>\n",
       "      <td>int64</td>\n",
       "      <td>binary</td>\n",
       "      <td>[explanatory, groupby]</td>\n",
       "      <td>False</td>\n",
       "      <td>NaN</td>\n",
       "    </tr>\n",
       "  </tbody>\n",
       "</table>\n",
       "</div>"
      ],
      "text/plain": [
       "                    dtype     var_type                    role  isCount  \\\n",
       "variable                                                                  \n",
       "state              object  categorical                   Trend    False   \n",
       "year                int64      ordinal                   Trend    False   \n",
       "driver_gender      object       binary  [explanatory, groupby]    False   \n",
       "driver_race        object  categorical  [explanatory, groupby]    False   \n",
       "decriminalization   int64       binary  [explanatory, groupby]    False   \n",
       "\n",
       "                  weighting_var  \n",
       "variable                         \n",
       "state                       NaN  \n",
       "year                        NaN  \n",
       "driver_gender               NaN  \n",
       "driver_race                 NaN  \n",
       "decriminalization           NaN  "
      ]
     },
     "execution_count": 8,
     "metadata": {},
     "output_type": "execute_result"
    }
   ],
   "source": [
    "labeled_df.set_counts(count_list)\n",
    "labeled_df.set_roles(roles)\n",
    "labeled_df.meta_df.head()"
   ]
  },
  {
   "cell_type": "code",
   "execution_count": 9,
   "metadata": {},
   "outputs": [
    {
     "data": {
      "text/plain": [
       "['search_conducted_false',\n",
       " 'search_conducted_true',\n",
       " 'search_conducted_rate',\n",
       " 'contraband_found_false',\n",
       " 'contraband_found_true',\n",
       " 'contraband_found_rate',\n",
       " 'hit_false',\n",
       " 'hit_true',\n",
       " 'hit_rate',\n",
       " 'num_stops']"
      ]
     },
     "execution_count": 9,
     "metadata": {},
     "output_type": "execute_result"
    }
   ],
   "source": [
    "labeled_df.get_vars_per_type('continuous')"
   ]
  },
  {
   "cell_type": "code",
   "execution_count": 10,
   "metadata": {},
   "outputs": [
    {
     "name": "stderr",
     "output_type": "stream",
     "text": [
      "/home/smb/anaconda3/lib/python3.6/site-packages/sklearn/mixture/base.py:237: ConvergenceWarning: Initialization 1 did not converge. Try different init parameters, or increase max_iter, tol or check for degenerate data.\n",
      "  % (init + 1), ConvergenceWarning)\n"
     ]
    },
    {
     "data": {
      "text/html": [
       "<div>\n",
       "<style scoped>\n",
       "    .dataframe tbody tr th:only-of-type {\n",
       "        vertical-align: middle;\n",
       "    }\n",
       "\n",
       "    .dataframe tbody tr th {\n",
       "        vertical-align: top;\n",
       "    }\n",
       "\n",
       "    .dataframe thead th {\n",
       "        text-align: right;\n",
       "    }\n",
       "</style>\n",
       "<table border=\"1\" class=\"dataframe\">\n",
       "  <thead>\n",
       "    <tr style=\"text-align: right;\">\n",
       "      <th>variable</th>\n",
       "      <th>state</th>\n",
       "      <th>year</th>\n",
       "      <th>driver_gender</th>\n",
       "      <th>driver_race</th>\n",
       "      <th>decriminalization</th>\n",
       "      <th>medical</th>\n",
       "      <th>recreational</th>\n",
       "      <th>no_reforms</th>\n",
       "      <th>search_conducted_false</th>\n",
       "      <th>search_conducted_true</th>\n",
       "      <th>...</th>\n",
       "      <th>search_conducted_false_search_conducted_true_dpgmm</th>\n",
       "      <th>search_conducted_false_search_conducted_rate_dpgmm</th>\n",
       "      <th>search_conducted_false_contraband_found_false_dpgmm</th>\n",
       "      <th>search_conducted_false_num_stops_dpgmm</th>\n",
       "      <th>search_conducted_true_search_conducted_rate_dpgmm</th>\n",
       "      <th>search_conducted_true_contraband_found_false_dpgmm</th>\n",
       "      <th>search_conducted_true_num_stops_dpgmm</th>\n",
       "      <th>search_conducted_rate_contraband_found_false_dpgmm</th>\n",
       "      <th>search_conducted_rate_num_stops_dpgmm</th>\n",
       "      <th>contraband_found_false_num_stops_dpgmm</th>\n",
       "    </tr>\n",
       "  </thead>\n",
       "  <tbody>\n",
       "    <tr>\n",
       "      <th>0</th>\n",
       "      <td>AZ</td>\n",
       "      <td>2009</td>\n",
       "      <td>F</td>\n",
       "      <td>White</td>\n",
       "      <td>0</td>\n",
       "      <td>0</td>\n",
       "      <td>0</td>\n",
       "      <td>1</td>\n",
       "      <td>30.0</td>\n",
       "      <td>1.0</td>\n",
       "      <td>...</td>\n",
       "      <td>6</td>\n",
       "      <td>5</td>\n",
       "      <td>1</td>\n",
       "      <td>0</td>\n",
       "      <td>1</td>\n",
       "      <td>0</td>\n",
       "      <td>0</td>\n",
       "      <td>7</td>\n",
       "      <td>1</td>\n",
       "      <td>4</td>\n",
       "    </tr>\n",
       "    <tr>\n",
       "      <th>1</th>\n",
       "      <td>AZ</td>\n",
       "      <td>2009</td>\n",
       "      <td>M</td>\n",
       "      <td>Black</td>\n",
       "      <td>0</td>\n",
       "      <td>0</td>\n",
       "      <td>0</td>\n",
       "      <td>1</td>\n",
       "      <td>1.0</td>\n",
       "      <td>2.0</td>\n",
       "      <td>...</td>\n",
       "      <td>6</td>\n",
       "      <td>0</td>\n",
       "      <td>1</td>\n",
       "      <td>0</td>\n",
       "      <td>7</td>\n",
       "      <td>0</td>\n",
       "      <td>0</td>\n",
       "      <td>4</td>\n",
       "      <td>7</td>\n",
       "      <td>4</td>\n",
       "    </tr>\n",
       "    <tr>\n",
       "      <th>2</th>\n",
       "      <td>AZ</td>\n",
       "      <td>2009</td>\n",
       "      <td>M</td>\n",
       "      <td>Hispanic</td>\n",
       "      <td>0</td>\n",
       "      <td>0</td>\n",
       "      <td>0</td>\n",
       "      <td>1</td>\n",
       "      <td>14.0</td>\n",
       "      <td>1.0</td>\n",
       "      <td>...</td>\n",
       "      <td>6</td>\n",
       "      <td>5</td>\n",
       "      <td>1</td>\n",
       "      <td>0</td>\n",
       "      <td>9</td>\n",
       "      <td>0</td>\n",
       "      <td>0</td>\n",
       "      <td>7</td>\n",
       "      <td>3</td>\n",
       "      <td>4</td>\n",
       "    </tr>\n",
       "    <tr>\n",
       "      <th>3</th>\n",
       "      <td>AZ</td>\n",
       "      <td>2009</td>\n",
       "      <td>M</td>\n",
       "      <td>White</td>\n",
       "      <td>0</td>\n",
       "      <td>0</td>\n",
       "      <td>0</td>\n",
       "      <td>1</td>\n",
       "      <td>32.0</td>\n",
       "      <td>4.0</td>\n",
       "      <td>...</td>\n",
       "      <td>6</td>\n",
       "      <td>5</td>\n",
       "      <td>1</td>\n",
       "      <td>0</td>\n",
       "      <td>9</td>\n",
       "      <td>0</td>\n",
       "      <td>0</td>\n",
       "      <td>0</td>\n",
       "      <td>3</td>\n",
       "      <td>4</td>\n",
       "    </tr>\n",
       "    <tr>\n",
       "      <th>4</th>\n",
       "      <td>AZ</td>\n",
       "      <td>2010</td>\n",
       "      <td>F</td>\n",
       "      <td>Asian</td>\n",
       "      <td>0</td>\n",
       "      <td>1</td>\n",
       "      <td>0</td>\n",
       "      <td>0</td>\n",
       "      <td>58.0</td>\n",
       "      <td>3.0</td>\n",
       "      <td>...</td>\n",
       "      <td>6</td>\n",
       "      <td>5</td>\n",
       "      <td>1</td>\n",
       "      <td>0</td>\n",
       "      <td>9</td>\n",
       "      <td>0</td>\n",
       "      <td>0</td>\n",
       "      <td>7</td>\n",
       "      <td>3</td>\n",
       "      <td>4</td>\n",
       "    </tr>\n",
       "  </tbody>\n",
       "</table>\n",
       "<p>5 rows × 28 columns</p>\n",
       "</div>"
      ],
      "text/plain": [
       "variable state  year driver_gender driver_race  decriminalization  medical  \\\n",
       "0           AZ  2009             F       White                  0        0   \n",
       "1           AZ  2009             M       Black                  0        0   \n",
       "2           AZ  2009             M    Hispanic                  0        0   \n",
       "3           AZ  2009             M       White                  0        0   \n",
       "4           AZ  2010             F       Asian                  0        1   \n",
       "\n",
       "variable  recreational  no_reforms  search_conducted_false  \\\n",
       "0                    0           1                    30.0   \n",
       "1                    0           1                     1.0   \n",
       "2                    0           1                    14.0   \n",
       "3                    0           1                    32.0   \n",
       "4                    0           0                    58.0   \n",
       "\n",
       "variable  search_conducted_true                   ...                    \\\n",
       "0                           1.0                   ...                     \n",
       "1                           2.0                   ...                     \n",
       "2                           1.0                   ...                     \n",
       "3                           4.0                   ...                     \n",
       "4                           3.0                   ...                     \n",
       "\n",
       "variable  search_conducted_false_search_conducted_true_dpgmm  \\\n",
       "0                                                         6    \n",
       "1                                                         6    \n",
       "2                                                         6    \n",
       "3                                                         6    \n",
       "4                                                         6    \n",
       "\n",
       "variable  search_conducted_false_search_conducted_rate_dpgmm  \\\n",
       "0                                                         5    \n",
       "1                                                         0    \n",
       "2                                                         5    \n",
       "3                                                         5    \n",
       "4                                                         5    \n",
       "\n",
       "variable  search_conducted_false_contraband_found_false_dpgmm  \\\n",
       "0                                                         1     \n",
       "1                                                         1     \n",
       "2                                                         1     \n",
       "3                                                         1     \n",
       "4                                                         1     \n",
       "\n",
       "variable  search_conducted_false_num_stops_dpgmm  \\\n",
       "0                                              0   \n",
       "1                                              0   \n",
       "2                                              0   \n",
       "3                                              0   \n",
       "4                                              0   \n",
       "\n",
       "variable  search_conducted_true_search_conducted_rate_dpgmm  \\\n",
       "0                                                         1   \n",
       "1                                                         7   \n",
       "2                                                         9   \n",
       "3                                                         9   \n",
       "4                                                         9   \n",
       "\n",
       "variable  search_conducted_true_contraband_found_false_dpgmm  \\\n",
       "0                                                         0    \n",
       "1                                                         0    \n",
       "2                                                         0    \n",
       "3                                                         0    \n",
       "4                                                         0    \n",
       "\n",
       "variable  search_conducted_true_num_stops_dpgmm  \\\n",
       "0                                             0   \n",
       "1                                             0   \n",
       "2                                             0   \n",
       "3                                             0   \n",
       "4                                             0   \n",
       "\n",
       "variable  search_conducted_rate_contraband_found_false_dpgmm  \\\n",
       "0                                                         7    \n",
       "1                                                         4    \n",
       "2                                                         7    \n",
       "3                                                         0    \n",
       "4                                                         7    \n",
       "\n",
       "variable  search_conducted_rate_num_stops_dpgmm  \\\n",
       "0                                             1   \n",
       "1                                             7   \n",
       "2                                             3   \n",
       "3                                             3   \n",
       "4                                             3   \n",
       "\n",
       "variable  contraband_found_false_num_stops_dpgmm  \n",
       "0                                              4  \n",
       "1                                              4  \n",
       "2                                              4  \n",
       "3                                              4  \n",
       "4                                              4  \n",
       "\n",
       "[5 rows x 28 columns]"
      ]
     },
     "execution_count": 10,
     "metadata": {},
     "output_type": "execute_result"
    }
   ],
   "source": [
    "labeled_df.add_all_dpgmm().head()"
   ]
  },
  {
   "cell_type": "code",
   "execution_count": 11,
   "metadata": {},
   "outputs": [
    {
     "data": {
      "text/plain": [
       "[]"
      ]
     },
     "execution_count": 11,
     "metadata": {},
     "output_type": "execute_result"
    }
   ],
   "source": [
    "data_vars = labeled_df.df.columns\n",
    "\n",
    "meta_vars = labeled_df.meta_df.index\n",
    "\n",
    "new_vars = [var for var in data_vars if not(var in meta_vars)]\n",
    "new_vars"
   ]
  },
  {
   "cell_type": "code",
   "execution_count": 12,
   "metadata": {},
   "outputs": [
    {
     "data": {
      "text/html": [
       "<div>\n",
       "<style scoped>\n",
       "    .dataframe tbody tr th:only-of-type {\n",
       "        vertical-align: middle;\n",
       "    }\n",
       "\n",
       "    .dataframe tbody tr th {\n",
       "        vertical-align: top;\n",
       "    }\n",
       "\n",
       "    .dataframe thead th {\n",
       "        text-align: right;\n",
       "    }\n",
       "</style>\n",
       "<table border=\"1\" class=\"dataframe\">\n",
       "  <thead>\n",
       "    <tr style=\"text-align: right;\">\n",
       "      <th></th>\n",
       "      <th>dtype</th>\n",
       "      <th>var_type</th>\n",
       "      <th>role</th>\n",
       "      <th>isCount</th>\n",
       "      <th>weighting_var</th>\n",
       "    </tr>\n",
       "  </thead>\n",
       "  <tbody>\n",
       "    <tr>\n",
       "      <th>state</th>\n",
       "      <td>object</td>\n",
       "      <td>categorical</td>\n",
       "      <td>Trend</td>\n",
       "      <td>False</td>\n",
       "      <td>NaN</td>\n",
       "    </tr>\n",
       "    <tr>\n",
       "      <th>year</th>\n",
       "      <td>int64</td>\n",
       "      <td>ordinal</td>\n",
       "      <td>Trend</td>\n",
       "      <td>False</td>\n",
       "      <td>NaN</td>\n",
       "    </tr>\n",
       "    <tr>\n",
       "      <th>driver_gender</th>\n",
       "      <td>object</td>\n",
       "      <td>binary</td>\n",
       "      <td>[explanatory, groupby]</td>\n",
       "      <td>False</td>\n",
       "      <td>NaN</td>\n",
       "    </tr>\n",
       "    <tr>\n",
       "      <th>driver_race</th>\n",
       "      <td>object</td>\n",
       "      <td>categorical</td>\n",
       "      <td>[explanatory, groupby]</td>\n",
       "      <td>False</td>\n",
       "      <td>NaN</td>\n",
       "    </tr>\n",
       "    <tr>\n",
       "      <th>decriminalization</th>\n",
       "      <td>int64</td>\n",
       "      <td>binary</td>\n",
       "      <td>[explanatory, groupby]</td>\n",
       "      <td>False</td>\n",
       "      <td>NaN</td>\n",
       "    </tr>\n",
       "  </tbody>\n",
       "</table>\n",
       "</div>"
      ],
      "text/plain": [
       "                    dtype     var_type                    role  isCount  \\\n",
       "state              object  categorical                   Trend    False   \n",
       "year                int64      ordinal                   Trend    False   \n",
       "driver_gender      object       binary  [explanatory, groupby]    False   \n",
       "driver_race        object  categorical  [explanatory, groupby]    False   \n",
       "decriminalization   int64       binary  [explanatory, groupby]    False   \n",
       "\n",
       "                  weighting_var  \n",
       "state                       NaN  \n",
       "year                        NaN  \n",
       "driver_gender               NaN  \n",
       "driver_race                 NaN  \n",
       "decriminalization           NaN  "
      ]
     },
     "execution_count": 12,
     "metadata": {},
     "output_type": "execute_result"
    }
   ],
   "source": [
    "labeled_df.meta_df.head()"
   ]
  },
  {
   "cell_type": "code",
   "execution_count": 13,
   "metadata": {},
   "outputs": [
    {
     "data": {
      "text/plain": [
       "['driver_gender',\n",
       " 'driver_race',\n",
       " 'decriminalization',\n",
       " 'medical',\n",
       " 'recreational',\n",
       " 'no_reforms',\n",
       " 'search_conducted_false_search_conducted_true_dpgmm',\n",
       " 'search_conducted_false_search_conducted_rate_dpgmm',\n",
       " 'search_conducted_false_contraband_found_false_dpgmm',\n",
       " 'search_conducted_false_num_stops_dpgmm',\n",
       " 'search_conducted_true_search_conducted_rate_dpgmm',\n",
       " 'search_conducted_true_contraband_found_false_dpgmm',\n",
       " 'search_conducted_true_num_stops_dpgmm',\n",
       " 'search_conducted_rate_contraband_found_false_dpgmm',\n",
       " 'search_conducted_rate_num_stops_dpgmm',\n",
       " 'contraband_found_false_num_stops_dpgmm']"
      ]
     },
     "execution_count": 13,
     "metadata": {},
     "output_type": "execute_result"
    }
   ],
   "source": [
    "labeled_df.get_vars_per_role('groupby')"
   ]
  },
  {
   "cell_type": "code",
   "execution_count": 14,
   "metadata": {},
   "outputs": [],
   "source": [
    "corrobj = wg.AllPearson()\n",
    "\n",
    "rankobj = wg.MeanRankTrend()"
   ]
  },
  {
   "cell_type": "code",
   "execution_count": 34,
   "metadata": {},
   "outputs": [
    {
     "data": {
      "text/plain": [
       "1069"
      ]
     },
     "execution_count": 34,
     "metadata": {},
     "output_type": "execute_result"
    }
   ],
   "source": [
    "np.sum(labeled_df.df.groupby(['driver_race'])['num_stops'].count())"
   ]
  },
  {
   "cell_type": "code",
   "execution_count": 26,
   "metadata": {},
   "outputs": [
    {
     "data": {
      "text/plain": [
       "[1173940, 9493541, 9873365, 762059, 41455887]"
      ]
     },
     "execution_count": 26,
     "metadata": {},
     "output_type": "execute_result"
    }
   ],
   "source": [
    "wlist  =[int(w) for w in labeled_df.df.groupby(['driver_race'])['num_stops'].sum()]\n",
    "wlist"
   ]
  },
  {
   "cell_type": "code",
   "execution_count": 32,
   "metadata": {},
   "outputs": [
    {
     "data": {
      "text/plain": [
       "[19.0, 151.0, 157.0, 12.0, 661.0]"
      ]
     },
     "execution_count": 32,
     "metadata": {},
     "output_type": "execute_result"
    }
   ],
   "source": [
    "tot = np.sum(wlist)\n",
    "wfrac = [np.round(w/tot*1069) for w in wlist]\n",
    "wfrac"
   ]
  },
  {
   "cell_type": "code",
   "execution_count": 28,
   "metadata": {},
   "outputs": [
    {
     "data": {
      "text/plain": [
       "7620.0"
      ]
     },
     "execution_count": 28,
     "metadata": {},
     "output_type": "execute_result"
    }
   ],
   "source": [
    "np.floor(np.min(wlist)/100)"
   ]
  },
  {
   "cell_type": "code",
   "execution_count": 23,
   "metadata": {},
   "outputs": [],
   "source": [
    "wlist = [np.round(w, -3) for w in wlist]"
   ]
  },
  {
   "cell_type": "code",
   "execution_count": 24,
   "metadata": {},
   "outputs": [
    {
     "name": "stdout",
     "output_type": "stream",
     "text": [
      "2000\n",
      "1000\n",
      "2000\n",
      "2000\n",
      "1000\n",
      "2000\n",
      "2000\n",
      "3000\n",
      "1000\n",
      "2000\n"
     ]
    }
   ],
   "source": [
    "for a, b in itertools.combinations(wlist,2):\n",
    "    print(np.gcd(a,b))"
   ]
  },
  {
   "cell_type": "code",
   "execution_count": null,
   "metadata": {},
   "outputs": [],
   "source": [
    "labeled_df.get_subgroup_Trends_1lev([corrobj,rankobj])"
   ]
  },
  {
   "cell_type": "code",
   "execution_count": null,
   "metadata": {},
   "outputs": [],
   "source": [
    "pd.unique(labeled_df.result_df['Trend_type'])"
   ]
  },
  {
   "cell_type": "code",
   "execution_count": null,
   "metadata": {},
   "outputs": [],
   "source": [
    "labeled_df.Trend_list[1].Trend_precompute.keys()"
   ]
  },
  {
   "cell_type": "code",
   "execution_count": null,
   "metadata": {},
   "outputs": [],
   "source": [
    "target_row = labeled_df.get_Trend_row('hit_true','driver_race','recreational',0)\n",
    "target_row"
   ]
  },
  {
   "cell_type": "code",
   "execution_count": null,
   "metadata": {},
   "outputs": [],
   "source": [
    "labeled_df.get_Trend_row('hit_rate','driver_race','recreational')"
   ]
  },
  {
   "cell_type": "code",
   "execution_count": null,
   "metadata": {},
   "outputs": [],
   "source": [
    "labeled_df.df.groupby(['recreational']).apply(rankobj.my_stat,'hit_rate','driver_race')"
   ]
  },
  {
   "cell_type": "code",
   "execution_count": null,
   "metadata": {},
   "outputs": [],
   "source": [
    "labeled_df.get_Trend_row('hit_rate',group_feat = 'driver_race',)"
   ]
  },
  {
   "cell_type": "code",
   "execution_count": null,
   "metadata": {},
   "outputs": [],
   "source": [
    "sum(target_row)"
   ]
  },
  {
   "cell_type": "code",
   "execution_count": null,
   "metadata": {},
   "outputs": [],
   "source": [
    "for l,df in labeled_df.df.groupby(['state','year']):\n",
    "    print (l)\n",
    "    print(df.head())"
   ]
  },
  {
   "cell_type": "code",
   "execution_count": null,
   "metadata": {},
   "outputs": [],
   "source": []
  }
 ],
 "metadata": {
  "kernelspec": {
   "display_name": "Python 3",
   "language": "python",
   "name": "python3"
  },
  "language_info": {
   "codemirror_mode": {
    "name": "ipython",
    "version": 3
   },
   "file_extension": ".py",
   "mimetype": "text/x-python",
   "name": "python",
   "nbconvert_exporter": "python",
   "pygments_lexer": "ipython3",
   "version": "3.6.4"
  }
 },
 "nbformat": 4,
 "nbformat_minor": 2
}
