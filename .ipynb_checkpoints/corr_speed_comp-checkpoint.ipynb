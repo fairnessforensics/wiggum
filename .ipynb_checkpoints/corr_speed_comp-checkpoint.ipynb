{
 "cells": [
  {
   "cell_type": "markdown",
   "metadata": {},
   "source": [
    "# Correlation Calculation\n",
    "This note book tests the execution speed of two different functions for computing correlation within the statistical.py file. Both functions have been incorporated within the `CorrelationBase()` class. The orgional function can be called by `compute_correlation_table` while the second is called with `compute_correlation_table_V2` (for version 2)."
   ]
  },
  {
   "cell_type": "code",
   "execution_count": 1,
   "metadata": {},
   "outputs": [],
   "source": [
    "import pandas as pd\n",
    "import wiggum as wg\n",
    "import numpy"
   ]
  },
  {
   "cell_type": "code",
   "execution_count": 2,
   "metadata": {},
   "outputs": [
    {
     "data": {
      "text/html": [
       "<div>\n",
       "<style scoped>\n",
       "    .dataframe tbody tr th:only-of-type {\n",
       "        vertical-align: middle;\n",
       "    }\n",
       "\n",
       "    .dataframe tbody tr th {\n",
       "        vertical-align: top;\n",
       "    }\n",
       "\n",
       "    .dataframe thead th {\n",
       "        text-align: right;\n",
       "    }\n",
       "</style>\n",
       "<table border=\"1\" class=\"dataframe\">\n",
       "  <thead>\n",
       "    <tr style=\"text-align: right;\">\n",
       "      <th></th>\n",
       "      <th>dtype</th>\n",
       "      <th>var_type</th>\n",
       "      <th>role</th>\n",
       "      <th>isCount</th>\n",
       "      <th>weighting_var</th>\n",
       "    </tr>\n",
       "    <tr>\n",
       "      <th>variable</th>\n",
       "      <th></th>\n",
       "      <th></th>\n",
       "      <th></th>\n",
       "      <th></th>\n",
       "      <th></th>\n",
       "    </tr>\n",
       "  </thead>\n",
       "  <tbody>\n",
       "    <tr>\n",
       "      <th>state</th>\n",
       "      <td>object</td>\n",
       "      <td>categorical</td>\n",
       "      <td>[independent, splitby]</td>\n",
       "      <td>False</td>\n",
       "      <td>NaN</td>\n",
       "    </tr>\n",
       "    <tr>\n",
       "      <th>year</th>\n",
       "      <td>int64</td>\n",
       "      <td>ordinal</td>\n",
       "      <td>[independent]</td>\n",
       "      <td>False</td>\n",
       "      <td>NaN</td>\n",
       "    </tr>\n",
       "    <tr>\n",
       "      <th>driver_gender</th>\n",
       "      <td>object</td>\n",
       "      <td>categorical</td>\n",
       "      <td>[independent, splitby]</td>\n",
       "      <td>False</td>\n",
       "      <td>NaN</td>\n",
       "    </tr>\n",
       "    <tr>\n",
       "      <th>driver_race</th>\n",
       "      <td>object</td>\n",
       "      <td>categorical</td>\n",
       "      <td>[independent, splitby]</td>\n",
       "      <td>False</td>\n",
       "      <td>NaN</td>\n",
       "    </tr>\n",
       "    <tr>\n",
       "      <th>decriminalization</th>\n",
       "      <td>int64</td>\n",
       "      <td>categorical</td>\n",
       "      <td>[splitby]</td>\n",
       "      <td>False</td>\n",
       "      <td>NaN</td>\n",
       "    </tr>\n",
       "    <tr>\n",
       "      <th>medical</th>\n",
       "      <td>int64</td>\n",
       "      <td>categorical</td>\n",
       "      <td>[splitby]</td>\n",
       "      <td>False</td>\n",
       "      <td>NaN</td>\n",
       "    </tr>\n",
       "    <tr>\n",
       "      <th>recreational</th>\n",
       "      <td>int64</td>\n",
       "      <td>categorical</td>\n",
       "      <td>[splitby]</td>\n",
       "      <td>False</td>\n",
       "      <td>NaN</td>\n",
       "    </tr>\n",
       "    <tr>\n",
       "      <th>no_reforms</th>\n",
       "      <td>int64</td>\n",
       "      <td>False</td>\n",
       "      <td>[splitby]</td>\n",
       "      <td>False</td>\n",
       "      <td>NaN</td>\n",
       "    </tr>\n",
       "    <tr>\n",
       "      <th>search_conducted_false</th>\n",
       "      <td>float64</td>\n",
       "      <td>continuous</td>\n",
       "      <td>[ignore]</td>\n",
       "      <td>True</td>\n",
       "      <td>NaN</td>\n",
       "    </tr>\n",
       "    <tr>\n",
       "      <th>search_conducted_true</th>\n",
       "      <td>float64</td>\n",
       "      <td>continuous</td>\n",
       "      <td>[ignore]</td>\n",
       "      <td>True</td>\n",
       "      <td>NaN</td>\n",
       "    </tr>\n",
       "    <tr>\n",
       "      <th>search_conducted_rate</th>\n",
       "      <td>float64</td>\n",
       "      <td>continuous</td>\n",
       "      <td>[dependent]</td>\n",
       "      <td>False</td>\n",
       "      <td>num_stops</td>\n",
       "    </tr>\n",
       "    <tr>\n",
       "      <th>contraband_found_false</th>\n",
       "      <td>float64</td>\n",
       "      <td>continuous</td>\n",
       "      <td>[ignore]</td>\n",
       "      <td>True</td>\n",
       "      <td>NaN</td>\n",
       "    </tr>\n",
       "    <tr>\n",
       "      <th>contraband_found_true</th>\n",
       "      <td>float64</td>\n",
       "      <td>continuous</td>\n",
       "      <td>[ignore]</td>\n",
       "      <td>True</td>\n",
       "      <td>NaN</td>\n",
       "    </tr>\n",
       "    <tr>\n",
       "      <th>contraband_found_rate</th>\n",
       "      <td>float64</td>\n",
       "      <td>continuous</td>\n",
       "      <td>[dependent]</td>\n",
       "      <td>False</td>\n",
       "      <td>num_stops</td>\n",
       "    </tr>\n",
       "    <tr>\n",
       "      <th>hit_false</th>\n",
       "      <td>float64</td>\n",
       "      <td>continuous</td>\n",
       "      <td>[ignore]</td>\n",
       "      <td>True</td>\n",
       "      <td>NaN</td>\n",
       "    </tr>\n",
       "    <tr>\n",
       "      <th>hit_true</th>\n",
       "      <td>float64</td>\n",
       "      <td>continuous</td>\n",
       "      <td>[ignore]</td>\n",
       "      <td>True</td>\n",
       "      <td>NaN</td>\n",
       "    </tr>\n",
       "    <tr>\n",
       "      <th>hit_rate</th>\n",
       "      <td>float64</td>\n",
       "      <td>continuous</td>\n",
       "      <td>[dependent]</td>\n",
       "      <td>False</td>\n",
       "      <td>search_conducted_true</td>\n",
       "    </tr>\n",
       "    <tr>\n",
       "      <th>num_stops</th>\n",
       "      <td>float64</td>\n",
       "      <td>continuous</td>\n",
       "      <td>[dependent]</td>\n",
       "      <td>True</td>\n",
       "      <td>NaN</td>\n",
       "    </tr>\n",
       "  </tbody>\n",
       "</table>\n",
       "</div>"
      ],
      "text/plain": [
       "                          dtype     var_type                    role  isCount  \\\n",
       "variable                                                                        \n",
       "state                    object  categorical  [independent, splitby]    False   \n",
       "year                      int64      ordinal           [independent]    False   \n",
       "driver_gender            object  categorical  [independent, splitby]    False   \n",
       "driver_race              object  categorical  [independent, splitby]    False   \n",
       "decriminalization         int64  categorical               [splitby]    False   \n",
       "medical                   int64  categorical               [splitby]    False   \n",
       "recreational              int64  categorical               [splitby]    False   \n",
       "no_reforms                int64        False               [splitby]    False   \n",
       "search_conducted_false  float64   continuous                [ignore]     True   \n",
       "search_conducted_true   float64   continuous                [ignore]     True   \n",
       "search_conducted_rate   float64   continuous             [dependent]    False   \n",
       "contraband_found_false  float64   continuous                [ignore]     True   \n",
       "contraband_found_true   float64   continuous                [ignore]     True   \n",
       "contraband_found_rate   float64   continuous             [dependent]    False   \n",
       "hit_false               float64   continuous                [ignore]     True   \n",
       "hit_true                float64   continuous                [ignore]     True   \n",
       "hit_rate                float64   continuous             [dependent]    False   \n",
       "num_stops               float64   continuous             [dependent]     True   \n",
       "\n",
       "                                weighting_var  \n",
       "variable                                       \n",
       "state                                     NaN  \n",
       "year                                      NaN  \n",
       "driver_gender                             NaN  \n",
       "driver_race                               NaN  \n",
       "decriminalization                         NaN  \n",
       "medical                                   NaN  \n",
       "recreational                              NaN  \n",
       "no_reforms                                NaN  \n",
       "search_conducted_false                    NaN  \n",
       "search_conducted_true                     NaN  \n",
       "search_conducted_rate               num_stops  \n",
       "contraband_found_false                    NaN  \n",
       "contraband_found_true                     NaN  \n",
       "contraband_found_rate               num_stops  \n",
       "hit_false                                 NaN  \n",
       "hit_true                                  NaN  \n",
       "hit_rate                search_conducted_true  \n",
       "num_stops                                 NaN  "
      ]
     },
     "execution_count": 2,
     "metadata": {},
     "output_type": "execute_result"
    }
   ],
   "source": [
    "labeled_df = wg.LabeledDataFrame('data/ldf_state_hit_rate_min_cols_COCTFLILMDMAMOMTNENCOHRISCTXVTWAWI')\n",
    "labeled_df.meta_df"
   ]
  },
  {
   "cell_type": "markdown",
   "metadata": {},
   "source": [
    "# All_Pearson() Test"
   ]
  },
  {
   "cell_type": "code",
   "execution_count": 3,
   "metadata": {},
   "outputs": [
    {
     "data": {
      "text/plain": [
       "[('year', 'search_conducted_rate'),\n",
       " ('year', 'contraband_found_rate'),\n",
       " ('year', 'hit_rate'),\n",
       " ('year', 'num_stops')]"
      ]
     },
     "execution_count": 3,
     "metadata": {},
     "output_type": "execute_result"
    }
   ],
   "source": [
    "pearson = wg.All_Pearson()\n",
    "pearson.get_trend_vars(labeled_df)\n",
    "pearson.regression_vars"
   ]
  },
  {
   "cell_type": "code",
   "execution_count": 4,
   "metadata": {},
   "outputs": [
    {
     "data": {
      "text/plain": [
       "False"
      ]
     },
     "execution_count": 4,
     "metadata": {},
     "output_type": "execute_result"
    }
   ],
   "source": [
    "pearson.symmetric_vars"
   ]
  },
  {
   "cell_type": "code",
   "execution_count": 5,
   "metadata": {},
   "outputs": [
    {
     "data": {
      "text/plain": [
       "[('year', 'search_conducted_rate', -0.03902973146563629, ''),\n",
       " ('year', 'contraband_found_rate', 0.041129162824156094, ''),\n",
       " ('year', 'hit_rate', 0.31619623383297996, ''),\n",
       " ('year', 'num_stops', -0.04396500060379762, '')]"
      ]
     },
     "execution_count": 5,
     "metadata": {},
     "output_type": "execute_result"
    }
   ],
   "source": [
    "pearson.compute_correlation_table(labeled_df.df, 'agg_trend')"
   ]
  },
  {
   "cell_type": "code",
   "execution_count": 6,
   "metadata": {},
   "outputs": [
    {
     "data": {
      "text/plain": [
       "[('year', 'search_conducted_rate', -0.039029731465636305, ''),\n",
       " ('year', 'contraband_found_rate', 0.04112916282415568, ''),\n",
       " ('year', 'hit_rate', 0.3161962338329784, ''),\n",
       " ('year', 'num_stops', -0.043965000603797585, '')]"
      ]
     },
     "execution_count": 6,
     "metadata": {},
     "output_type": "execute_result"
    }
   ],
   "source": [
    "pearson.compute_correlation_table_V2(labeled_df.df)"
   ]
  },
  {
   "cell_type": "markdown",
   "metadata": {},
   "source": [
    "# compute_correlation_table"
   ]
  },
  {
   "cell_type": "code",
   "execution_count": 7,
   "metadata": {},
   "outputs": [
    {
     "name": "stdout",
     "output_type": "stream",
     "text": [
      "2.55 ms ± 437 µs per loop (mean ± std. dev. of 10 runs, 100 loops each)\n"
     ]
    }
   ],
   "source": [
    "# source code\n",
    "%timeit -r10 pearson.compute_correlation_table(labeled_df.df, 'agg_trend')"
   ]
  },
  {
   "cell_type": "code",
   "execution_count": 8,
   "metadata": {},
   "outputs": [
    {
     "name": "stdout",
     "output_type": "stream",
     "text": [
      "1.42 ms ± 92.6 µs per loop (mean ± std. dev. of 10 runs, 1000 loops each)\n"
     ]
    }
   ],
   "source": [
    "# optimized code\n",
    "%timeit -r10 pearson.compute_correlation_table_V2(labeled_df.df)"
   ]
  },
  {
   "cell_type": "markdown",
   "metadata": {},
   "source": [
    "# get_subgroup_trends_1lev"
   ]
  },
  {
   "cell_type": "code",
   "execution_count": 11,
   "metadata": {},
   "outputs": [
    {
     "name": "stdout",
     "output_type": "stream",
     "text": [
      "3.8 ms ± 75.6 µs per loop (mean ± std. dev. of 10 runs, 100 loops each)\n"
     ]
    }
   ],
   "source": [
    "# source code\n",
    "%timeit -r10 labeled_df.get_subgroup_trends_1lev([pearson])"
   ]
  },
  {
   "cell_type": "code",
   "execution_count": 7,
   "metadata": {},
   "outputs": [
    {
     "data": {
      "text/plain": [
       "[('year', 'search_conducted_rate'),\n",
       " ('year', 'contraband_found_rate'),\n",
       " ('year', 'hit_rate'),\n",
       " ('year', 'num_stops')]"
      ]
     },
     "execution_count": 7,
     "metadata": {},
     "output_type": "execute_result"
    }
   ],
   "source": [
    "pearson_2 = wg.trends.All_Pearson_V2()\n",
    "pearson_2.get_trend_vars(labeled_df)\n",
    "pearson_2.regression_vars"
   ]
  },
  {
   "cell_type": "code",
   "execution_count": 8,
   "metadata": {},
   "outputs": [
    {
     "name": "stdout",
     "output_type": "stream",
     "text": [
      "4.03 ms ± 131 µs per loop (mean ± std. dev. of 10 runs, 1 loop each)\n"
     ]
    }
   ],
   "source": [
    "# optimized code\n",
    "%timeit -r10 labeled_df.get_subgroup_trends_1lev([pearson_2])"
   ]
  },
  {
   "cell_type": "markdown",
   "metadata": {},
   "source": [
    "# get_pairwise_trends_1lev"
   ]
  },
  {
   "cell_type": "code",
   "execution_count": 29,
   "metadata": {},
   "outputs": [
    {
     "name": "stdout",
     "output_type": "stream",
     "text": [
      "171 ms ± 4.33 ms per loop (mean ± std. dev. of 10 runs, 10 loops each)\n"
     ]
    }
   ],
   "source": [
    "%timeit -r10 labeled_df.get_pairwise_trends_1lev([pearson])"
   ]
  },
  {
   "cell_type": "code",
   "execution_count": 30,
   "metadata": {},
   "outputs": [
    {
     "name": "stdout",
     "output_type": "stream",
     "text": [
      "268 ms ± 14.3 ms per loop (mean ± std. dev. of 10 runs, 1 loop each)\n"
     ]
    }
   ],
   "source": [
    "%timeit -r10 labeled_df.get_pairwise_trends_1lev([pearson_2])"
   ]
  },
  {
   "cell_type": "markdown",
   "metadata": {},
   "source": [
    "# get_trends"
   ]
  },
  {
   "cell_type": "code",
   "execution_count": 9,
   "metadata": {},
   "outputs": [
    {
     "name": "stdout",
     "output_type": "stream",
     "text": [
      "4.12 ms ± 191 µs per loop (mean ± std. dev. of 10 runs, 100 loops each)\n"
     ]
    }
   ],
   "source": [
    "# source code\n",
    "%timeit -r10 pearson.get_trends(labeled_df.df, 'agg_trend')"
   ]
  },
  {
   "cell_type": "code",
   "execution_count": 10,
   "metadata": {},
   "outputs": [
    {
     "name": "stdout",
     "output_type": "stream",
     "text": [
      "3.65 ms ± 63.5 µs per loop (mean ± std. dev. of 10 runs, 100 loops each)\n"
     ]
    }
   ],
   "source": [
    "# optimized code\n",
    "%timeit -r10 pearson_2.get_trends(labeled_df.df, 'agg_trend')"
   ]
  },
  {
   "cell_type": "code",
   "execution_count": 34,
   "metadata": {},
   "outputs": [
    {
     "name": "stdout",
     "output_type": "stream",
     "text": [
      "4.09 ms ± 74.6 µs per loop (mean ± std. dev. of 10 runs, 100 loops each)\n"
     ]
    }
   ],
   "source": [
    "# source code\n",
    "%timeit -r10 pearson.get_trends(labeled_df.df, 'subgroup_trend')"
   ]
  },
  {
   "cell_type": "code",
   "execution_count": 36,
   "metadata": {},
   "outputs": [
    {
     "name": "stdout",
     "output_type": "stream",
     "text": [
      "3.71 ms ± 99.9 µs per loop (mean ± std. dev. of 10 runs, 100 loops each)\n"
     ]
    }
   ],
   "source": [
    "# optimized code\n",
    "%timeit -r10 pearson_2.get_trends(labeled_df.df, 'subgroup_trend')"
   ]
  }
 ],
 "metadata": {
  "kernelspec": {
   "display_name": "Python 3",
   "language": "python",
   "name": "python3"
  },
  "language_info": {
   "codemirror_mode": {
    "name": "ipython",
    "version": 3
   },
   "file_extension": ".py",
   "mimetype": "text/x-python",
   "name": "python",
   "nbconvert_exporter": "python",
   "pygments_lexer": "ipython3",
   "version": "3.8.1"
  }
 },
 "nbformat": 4,
 "nbformat_minor": 4
}
